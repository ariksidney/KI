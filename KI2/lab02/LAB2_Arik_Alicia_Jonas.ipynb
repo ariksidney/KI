{
 "cells": [
  {
   "cell_type": "markdown",
   "metadata": {},
   "source": [
    "# Lab2 - Hate speech classification - Alicia, Arik, Jonas\n"
   ]
  },
  {
   "cell_type": "markdown",
   "metadata": {},
   "source": [
    "# Get existing data\n",
    "\n",
    "To train the model and get the required files, please first run hate_speech_classification_baseline.ipynb"
   ]
  },
  {
   "cell_type": "code",
   "execution_count": 1,
   "metadata": {},
   "outputs": [
    {
     "data": {
      "text/plain": [
       "<159571x1000 sparse matrix of type '<class 'numpy.float64'>'\n",
       "\twith 2842337 stored elements in Compressed Sparse Row format>"
      ]
     },
     "execution_count": 1,
     "metadata": {},
     "output_type": "execute_result"
    }
   ],
   "source": [
    "import os.path\n",
    "import pickle\n",
    "from sklearn.feature_extraction.text import TfidfVectorizer\n",
    "\n",
    "if os.path.exists('trained_classifier.pkl'):\n",
    "    with open('trained_classifier.pkl', 'rb') as fid:\n",
    "        clf = pickle.load(fid)\n",
    "else:\n",
    "    print(\"No trained classifier found\")\n",
    "    exit()\n",
    "\n",
    "X = pickle.load(open('X.pkl', 'rb'))\n",
    "tfidfizer = TfidfVectorizer(max_features=1000)\n",
    "tfidfizer.fit_transform(X)"
   ]
  },
  {
   "cell_type": "markdown",
   "metadata": {},
   "source": [
    "# Get Youtube comments\n",
    "\n",
    "Getting the 100 latest comments from the current top 50 trending videos.\n",
    "\n",
    "Replace GOOGLE_API_KEY with your Google cloud api key. You can get a key from https://console.developers.google.com/apis/credentials\n",
    "\n",
    "You also have to activate the Youtube Data API v3 on https://console.developers.google.com/apis/library/youtube.googleapis.com"
   ]
  },
  {
   "cell_type": "code",
   "execution_count": 2,
   "metadata": {
    "scrolled": true
   },
   "outputs": [
    {
     "name": "stdout",
     "output_type": "stream",
     "text": [
      "Getting comments from Youtube...\n",
      "finished writing csv\n"
     ]
    }
   ],
   "source": [
    "import csv\n",
    "import requests\n",
    "\n",
    "maxResults = '100'\n",
    "max_trending_videos = '50'\n",
    "apiKey = 'GOOGLE_API_KEY'\n",
    "comments = {}\n",
    "all_comments = []\n",
    "\n",
    "\n",
    "def get_comments(video_id):\n",
    "    endpoint = 'https://www.googleapis.com/youtube/v3/commentThreads?part=snippet&maxResults={0}&videoId={1}&fields=items(id%2Csnippet%2FtopLevelComment%2Fsnippet%2FtextDisplay)&key={2}'.format(maxResults, video_id, apiKey)\n",
    "    r = requests.get(endpoint)\n",
    "    comments = []\n",
    "    if r.status_code == 200:\n",
    "        for item in r.json().get('items'):\n",
    "            comment = {}\n",
    "            comment['comment_id'] = item.get('id')\n",
    "            comment['comment'] = item.get('snippet').get('topLevelComment').get('snippet').get('textDisplay')\n",
    "            comments.append(comment)\n",
    "    else:\n",
    "        print(r.json())\n",
    "    return comments\n",
    "                   \n",
    "                \n",
    "def get_trending_videos():\n",
    "    endpoint = 'https://www.googleapis.com/youtube/v3/videos?part=snippet&chart=mostPopular&fields=items(id%2Csnippet%2Ftitle%2Csnippet%2FchannelId%2Csnippet%2FchannelTitle)&maxResults={0}&key={1}'.format(max_trending_videos, apiKey)\n",
    "    r = requests.get(endpoint)\n",
    "    items = r.json().get('items')\n",
    "    \n",
    "    for item in items:\n",
    "        video_id = item.get('id')\n",
    "        title = item.get('snippet').get('title')\n",
    "        comments = get_comments(video_id)\n",
    "        if comments:\n",
    "            for comment in comments:\n",
    "                comment_tuple = (video_id, title, comment['comment_id'], comment['comment'])\n",
    "                all_comments.append(comment_tuple)\n",
    "            \n",
    "    \n",
    "def write_csv():\n",
    "    with open('comments.csv', mode='w') as comments_file:\n",
    "        comments_writer = csv.writer(comments_file, delimiter=',', quotechar='\"', quoting=csv.QUOTE_MINIMAL)\n",
    "        comments_writer.writerow(['ID', 'VIDEOID', 'COMMENT', 'VIDEONAME'])\n",
    "        \n",
    "        for comment in all_comments:\n",
    "            video_id = comment[0]\n",
    "            video_name = comment[1]\n",
    "            id = comment[2]\n",
    "            comment = comment[3].replace('<br />', ' ').replace('<b>', ' ').encode('ascii', 'ignore').decode('ascii')\n",
    "            comments_writer.writerow([id, video_id, comment, video_name])\n",
    "\n",
    "\n",
    "print('Getting comments from Youtube...')\n",
    "get_trending_videos()\n",
    "write_csv()\n",
    "print('finished writing csv')\n"
   ]
  },
  {
   "cell_type": "code",
   "execution_count": 6,
   "metadata": {},
   "outputs": [],
   "source": [
    "import pandas as pd\n",
    "\n",
    "df = pd.read_csv('comments.csv')\n",
    "df.columns = ['ID', 'VIDEOID', 'COMMENT', 'VIDEONAME']\n",
    "    \n",
    "video_ids = df['VIDEOID'].drop_duplicates()\n",
    "\n",
    "comments = df['COMMENT']"
   ]
  },
  {
   "cell_type": "markdown",
   "metadata": {},
   "source": [
    "# Test on new data"
   ]
  },
  {
   "cell_type": "code",
   "execution_count": 7,
   "metadata": {},
   "outputs": [],
   "source": [
    "result = {}\n",
    "\n",
    "for videoId in video_ids:\n",
    "    result[videoId] = {'hate_comment_count': 0, 'total_comment_count': 0, 'video_name': ''}"
   ]
  },
  {
   "cell_type": "code",
   "execution_count": 8,
   "metadata": {},
   "outputs": [],
   "source": [
    "tf_idf_matrix_comments = tfidfizer.transform(comments.astype('U'))\n",
    "comments_result = clf.predict(tf_idf_matrix_comments)"
   ]
  },
  {
   "cell_type": "code",
   "execution_count": 14,
   "metadata": {},
   "outputs": [
    {
     "data": {
      "text/markdown": [
       "* Video id: QaZ93sibpk0<br> Is hate speech: OH MY GOD FLASHING LIGHTS AT THE BEGINNING AND KANYE OPENING THE DOOR LITERAL CHILLS GUYS"
      ],
      "text/plain": [
       "<IPython.core.display.Markdown object>"
      ]
     },
     "metadata": {},
     "output_type": "display_data"
    },
    {
     "data": {
      "text/markdown": [
       "* Video id: QaZ93sibpk0<br> Is hate speech: Why did she agree to do this if she doesnt like answering questions? "
      ],
      "text/plain": [
       "<IPython.core.display.Markdown object>"
      ]
     },
     "metadata": {},
     "output_type": "display_data"
    },
    {
     "data": {
      "text/markdown": [
       "* Video id: QaZ93sibpk0<br> Is hate speech: Camera Guy: Whats the most over used phrase?   Kim: Its Lit   Everyone Else: Yeah aIght!"
      ],
      "text/plain": [
       "<IPython.core.display.Markdown object>"
      ]
     },
     "metadata": {},
     "output_type": "display_data"
    },
    {
     "data": {
      "text/markdown": [
       "* Video id: QaZ93sibpk0<br> Is hate speech:  Kanye is a mad man "
      ],
      "text/plain": [
       "<IPython.core.display.Markdown object>"
      ]
     },
     "metadata": {},
     "output_type": "display_data"
    },
    {
     "data": {
      "text/markdown": [
       "* Video id: QaZ93sibpk0<br> Is hate speech: I usually hate these segments because the interviewee is so unnatural and scripted. Kim seemed so natural and comfortable"
      ],
      "text/plain": [
       "<IPython.core.display.Markdown object>"
      ]
     },
     "metadata": {},
     "output_type": "display_data"
    },
    {
     "data": {
      "text/markdown": [
       "* Video id: QaZ93sibpk0<br> Is hate speech: I can tell she really hates answering questions. "
      ],
      "text/plain": [
       "<IPython.core.display.Markdown object>"
      ]
     },
     "metadata": {},
     "output_type": "display_data"
    },
    {
     "data": {
      "text/markdown": [
       "* Video id: QaZ93sibpk0<br> Is hate speech: Kanye is the coolest dont @ me"
      ],
      "text/plain": [
       "<IPython.core.display.Markdown object>"
      ]
     },
     "metadata": {},
     "output_type": "display_data"
    },
    {
     "data": {
      "text/markdown": [
       "* Video id: QaZ93sibpk0<br> Is hate speech: Why is their house so bland and empty lol"
      ],
      "text/plain": [
       "<IPython.core.display.Markdown object>"
      ]
     },
     "metadata": {},
     "output_type": "display_data"
    },
    {
     "data": {
      "text/markdown": [
       "* Video id: QaZ93sibpk0<br> Is hate speech: This house looks so dull and has no life to it.... but its worth more than me so imma be quiet "
      ],
      "text/plain": [
       "<IPython.core.display.Markdown object>"
      ]
     },
     "metadata": {},
     "output_type": "display_data"
    },
    {
     "data": {
      "text/markdown": [
       "* Video id: QaZ93sibpk0<br> Is hate speech: Glad Kim doesnt really read the comment section, the comment section always prove that people love to hate her, yet cant stop watching.   Im glad she continues in spite of all the angry people in the world. Some of you need to chill out, its not that deep."
      ],
      "text/plain": [
       "<IPython.core.display.Markdown object>"
      ]
     },
     "metadata": {},
     "output_type": "display_data"
    },
    {
     "data": {
      "text/markdown": [
       "* Video id: QaZ93sibpk0<br> Is hate speech: You give me advice and I dont listen to it wow. What an honest man"
      ],
      "text/plain": [
       "<IPython.core.display.Markdown object>"
      ]
     },
     "metadata": {},
     "output_type": "display_data"
    },
    {
     "data": {
      "text/markdown": [
       "* Video id: QaZ93sibpk0<br> Is hate speech: She is so hot!!! Kanye you lucky guy!"
      ],
      "text/plain": [
       "<IPython.core.display.Markdown object>"
      ]
     },
     "metadata": {},
     "output_type": "display_data"
    },
    {
     "data": {
      "text/markdown": [
       "* Video id: QaZ93sibpk0<br> Is hate speech: I dont get the house, is it unfurnished??"
      ],
      "text/plain": [
       "<IPython.core.display.Markdown object>"
      ]
     },
     "metadata": {},
     "output_type": "display_data"
    },
    {
     "data": {
      "text/markdown": [
       "* Video id: QaZ93sibpk0<br> Is hate speech: You give me some advice but I dont listen to it "
      ],
      "text/plain": [
       "<IPython.core.display.Markdown object>"
      ]
     },
     "metadata": {},
     "output_type": "display_data"
    },
    {
     "data": {
      "text/markdown": [
       "* Video id: QaZ93sibpk0<br> Is hate speech: Why are peoples advice to responding to negative feedback, always to ignore it? Sometimes negative feedback is constructive and/or helpful. Its not always hate lol"
      ],
      "text/plain": [
       "<IPython.core.display.Markdown object>"
      ]
     },
     "metadata": {},
     "output_type": "display_data"
    },
    {
     "data": {
      "text/markdown": [
       "* Video id: QaZ93sibpk0<br> Is hate speech: Listen I dont know why everyone has to hate on Kim... shes so beautiful, intelligent, and she has really changed for the better and done so much for people !!!! This negative and cancel culture is so toxic!!!"
      ],
      "text/plain": [
       "<IPython.core.display.Markdown object>"
      ]
     },
     "metadata": {},
     "output_type": "display_data"
    },
    {
     "data": {
      "text/markdown": [
       "* Video id: SR5kfWXfxto<br> Is hate speech: Total redemption from shaq the fool and Jimmy buckets. Love seeing the guest drop their guard be human...scarlet was not a bad ass assassin.  Love this episode. Great work Sean. Can&#39;t wait to see who else comes on here...Conan, the rest of the avengers you can get....and Bo Burnham."
      ],
      "text/plain": [
       "<IPython.core.display.Markdown object>"
      ]
     },
     "metadata": {},
     "output_type": "display_data"
    },
    {
     "data": {
      "text/markdown": [
       "* Video id: SR5kfWXfxto<br> Is hate speech: I can just tell that she doesnt give blowjobs"
      ],
      "text/plain": [
       "<IPython.core.display.Markdown object>"
      ]
     },
     "metadata": {},
     "output_type": "display_data"
    },
    {
     "data": {
      "text/markdown": [
       "* Video id: SR5kfWXfxto<br> Is hate speech: When you see Ant man about to go in Thano&#39;s ass <a href=\"https://www.youtube.com/watch?v=SR5kfWXfxto&amp;t=13m13s\">13:13</a>"
      ],
      "text/plain": [
       "<IPython.core.display.Markdown object>"
      ]
     },
     "metadata": {},
     "output_type": "display_data"
    },
    {
     "data": {
      "text/markdown": [
       "* Video id: SR5kfWXfxto<br> Is hate speech: more spicy she eat more sexiest she is"
      ],
      "text/plain": [
       "<IPython.core.display.Markdown object>"
      ]
     },
     "metadata": {},
     "output_type": "display_data"
    },
    {
     "data": {
      "text/markdown": [
       "* Video id: SR5kfWXfxto<br> Is hate speech: Scarlett Johansson took those wings like a Boss! Theres been so many man on the show that couldnt finish the 10 wings!"
      ],
      "text/plain": [
       "<IPython.core.display.Markdown object>"
      ]
     },
     "metadata": {},
     "output_type": "display_data"
    },
    {
     "data": {
      "text/markdown": [
       "* Video id: SR5kfWXfxto<br> Is hate speech: Making ScarJo cry, lol...."
      ],
      "text/plain": [
       "<IPython.core.display.Markdown object>"
      ]
     },
     "metadata": {},
     "output_type": "display_data"
    },
    {
     "data": {
      "text/markdown": [
       "* Video id: SR5kfWXfxto<br> Is hate speech: Swearing, downing a beer, loves wings... I like her so much more now!"
      ],
      "text/plain": [
       "<IPython.core.display.Markdown object>"
      ]
     },
     "metadata": {},
     "output_type": "display_data"
    },
    {
     "data": {
      "text/markdown": [
       "* Video id: SR5kfWXfxto<br> Is hate speech: is she gotten fat?"
      ],
      "text/plain": [
       "<IPython.core.display.Markdown object>"
      ]
     },
     "metadata": {},
     "output_type": "display_data"
    },
    {
     "data": {
      "text/markdown": [
       "* Video id: SR5kfWXfxto<br> Is hate speech: Id eat her chewed pieces of chicken from her mouth "
      ],
      "text/plain": [
       "<IPython.core.display.Markdown object>"
      ]
     },
     "metadata": {},
     "output_type": "display_data"
    },
    {
     "data": {
      "text/markdown": [
       "* Video id: SR5kfWXfxto<br> Is hate speech: Is it just me or the lighting in the thumbnail makes it creepy like shes staring in your soul"
      ],
      "text/plain": [
       "<IPython.core.display.Markdown object>"
      ]
     },
     "metadata": {},
     "output_type": "display_data"
    },
    {
     "data": {
      "text/markdown": [
       "* Video id: SR5kfWXfxto<br> Is hate speech: This bloke would have to shit pure lava at this point, right?"
      ],
      "text/plain": [
       "<IPython.core.display.Markdown object>"
      ]
     },
     "metadata": {},
     "output_type": "display_data"
    },
    {
     "data": {
      "text/markdown": [
       "* Video id: SR5kfWXfxto<br> Is hate speech: Get Clark Gregg on S9!"
      ],
      "text/plain": [
       "<IPython.core.display.Markdown object>"
      ]
     },
     "metadata": {},
     "output_type": "display_data"
    },
    {
     "data": {
      "text/markdown": [
       "* Video id: SR5kfWXfxto<br> Is hate speech: Holy shit this spoiler mining tactic is genius"
      ],
      "text/plain": [
       "<IPython.core.display.Markdown object>"
      ]
     },
     "metadata": {},
     "output_type": "display_data"
    },
    {
     "data": {
      "text/markdown": [
       "* Video id: SR5kfWXfxto<br> Is hate speech: Faded @4:42 am. Just saidJerry Maury  By mistake. Im out"
      ],
      "text/plain": [
       "<IPython.core.display.Markdown object>"
      ]
     },
     "metadata": {},
     "output_type": "display_data"
    },
    {
     "data": {
      "text/markdown": [
       "* Video id: SR5kfWXfxto<br> Is hate speech: She seems like a blast to hang out with."
      ],
      "text/plain": [
       "<IPython.core.display.Markdown object>"
      ]
     },
     "metadata": {},
     "output_type": "display_data"
    },
    {
     "data": {
      "text/markdown": [
       "* Video id: SR5kfWXfxto<br> Is hate speech: SHE&#39;S SO CUTE I LOVE HER  I kinda felt bad when nobody answered her question about memes moving LMAO she was like genuinely asking"
      ],
      "text/plain": [
       "<IPython.core.display.Markdown object>"
      ]
     },
     "metadata": {},
     "output_type": "display_data"
    },
    {
     "data": {
      "text/markdown": [
       "* Video id: OzUXonhJo3Y<br> Is hate speech: My love go out to nipsey lauren and kids may Allah guide you through this stay strong forever loving you nip hussle cuz"
      ],
      "text/plain": [
       "<IPython.core.display.Markdown object>"
      ]
     },
     "metadata": {},
     "output_type": "display_data"
    },
    {
     "data": {
      "text/markdown": [
       "* Video id: OzUXonhJo3Y<br> Is hate speech: Stop worshipping idols. There are hundreds of millions of orphans, child slavery, human trafficking...and more suffering in this world, if you want to care, that is."
      ],
      "text/plain": [
       "<IPython.core.display.Markdown object>"
      ]
     },
     "metadata": {},
     "output_type": "display_data"
    },
    {
     "data": {
      "text/markdown": [
       "* Video id: OzUXonhJo3Y<br> Is hate speech: I didnt even know who he was until he died so im not saying anything."
      ],
      "text/plain": [
       "<IPython.core.display.Markdown object>"
      ]
     },
     "metadata": {},
     "output_type": "display_data"
    },
    {
     "data": {
      "text/markdown": [
       "* Video id: OzUXonhJo3Y<br> Is hate speech: No disrespect but I dont know why this is news. I didnt even know who he was. People didnt bat an eye when les Paul died and he invented the electric guitar. So why is this news? No name rappers die everyday. He was a crip so ya know Im sure he was a fine upstanding American that never acted in gang violence oh wait..... sorry I feel more for the people whos lives he ruined as a crip then I do for him."
      ],
      "text/plain": [
       "<IPython.core.display.Markdown object>"
      ]
     },
     "metadata": {},
     "output_type": "display_data"
    },
    {
     "data": {
      "text/markdown": [
       "* Video id: OzUXonhJo3Y<br> Is hate speech: Why is this in my feed. Who is this guy smh"
      ],
      "text/plain": [
       "<IPython.core.display.Markdown object>"
      ]
     },
     "metadata": {},
     "output_type": "display_data"
    },
    {
     "data": {
      "text/markdown": [
       "* Video id: OzUXonhJo3Y<br> Is hate speech: This Sistah speaks so eloquent about her love and loss of Nipsey and Kodak Black makes a hit on her before they can even bury Nipsey... C&#39;MON NOW!!! I can&#39;t even wrap my head around that, listen to this Sistah!!!"
      ],
      "text/plain": [
       "<IPython.core.display.Markdown object>"
      ]
     },
     "metadata": {},
     "output_type": "display_data"
    },
    {
     "data": {
      "text/markdown": [
       "* Video id: OzUXonhJo3Y<br> Is hate speech: Who is this guy again? no disrespect."
      ],
      "text/plain": [
       "<IPython.core.display.Markdown object>"
      ]
     },
     "metadata": {},
     "output_type": "display_data"
    },
    {
     "data": {
      "text/markdown": [
       "* Video id: OzUXonhJo3Y<br> Is hate speech: Man that hurts"
      ],
      "text/plain": [
       "<IPython.core.display.Markdown object>"
      ]
     },
     "metadata": {},
     "output_type": "display_data"
    },
    {
     "data": {
      "text/markdown": [
       "* Video id: OzUXonhJo3Y<br> Is hate speech: Shout out Kodak Black. He finna get her, watch. I got faith in mah boi.!"
      ],
      "text/plain": [
       "<IPython.core.display.Markdown object>"
      ]
     },
     "metadata": {},
     "output_type": "display_data"
    },
    {
     "data": {
      "text/markdown": [
       "* Video id: OzUXonhJo3Y<br> Is hate speech: Imagine treating the funeral of a ghetto trash criminal like a national tragedy...."
      ],
      "text/plain": [
       "<IPython.core.display.Markdown object>"
      ]
     },
     "metadata": {},
     "output_type": "display_data"
    },
    {
     "data": {
      "text/markdown": [
       "* Video id: OzUXonhJo3Y<br> Is hate speech: WHY COULDNT XXXTENTACION GET COVERAGE FROM CBSN ????"
      ],
      "text/plain": [
       "<IPython.core.display.Markdown object>"
      ]
     },
     "metadata": {},
     "output_type": "display_data"
    },
    {
     "data": {
      "text/markdown": [
       "* Video id: OzUXonhJo3Y<br> Is hate speech: I wish they drove him around like biggie"
      ],
      "text/plain": [
       "<IPython.core.display.Markdown object>"
      ]
     },
     "metadata": {},
     "output_type": "display_data"
    },
    {
     "data": {
      "text/markdown": [
       "* Video id: OzUXonhJo3Y<br> Is hate speech: He laced her so right. I&#39;m sick. Love you Nip. Lauren London a real 1"
      ],
      "text/plain": [
       "<IPython.core.display.Markdown object>"
      ]
     },
     "metadata": {},
     "output_type": "display_data"
    },
    {
     "data": {
      "text/markdown": [
       "* Video id: OzUXonhJo3Y<br> Is hate speech: im sick of seeing nipsey. he&#39;s gone. enough. rip"
      ],
      "text/plain": [
       "<IPython.core.display.Markdown object>"
      ]
     },
     "metadata": {},
     "output_type": "display_data"
    },
    {
     "data": {
      "text/markdown": [
       "* Video id: OzUXonhJo3Y<br> Is hate speech: All these vids about some-rapper-I&#39;ve-never-heard-of...overcompensation for Tupac?  I don&#39;t get it."
      ],
      "text/plain": [
       "<IPython.core.display.Markdown object>"
      ]
     },
     "metadata": {},
     "output_type": "display_data"
    },
    {
     "data": {
      "text/markdown": [
       "* Video id: OzUXonhJo3Y<br> Is hate speech: To get that much love from so many people at that age is something everyone should try to emulate..."
      ],
      "text/plain": [
       "<IPython.core.display.Markdown object>"
      ]
     },
     "metadata": {},
     "output_type": "display_data"
    },
    {
     "data": {
      "text/markdown": [
       "* Video id: OzUXonhJo3Y<br> Is hate speech: Still dont get why violence is still rampant in black commu cities. They cant seem let our leaders live long enough to make positive changes."
      ],
      "text/plain": [
       "<IPython.core.display.Markdown object>"
      ]
     },
     "metadata": {},
     "output_type": "display_data"
    },
    {
     "data": {
      "text/markdown": [
       "* Video id: T4Q0pElKWY0<br> Is hate speech: Damn right you are"
      ],
      "text/plain": [
       "<IPython.core.display.Markdown object>"
      ]
     },
     "metadata": {},
     "output_type": "display_data"
    },
    {
     "data": {
      "text/markdown": [
       "* Video id: T4Q0pElKWY0<br> Is hate speech: Watching this before making my boyfriend a birthday cake. Now Im stressed. Wish me luck "
      ],
      "text/plain": [
       "<IPython.core.display.Markdown object>"
      ]
     },
     "metadata": {},
     "output_type": "display_data"
    },
    {
     "data": {
      "text/markdown": [
       "* Video id: T4Q0pElKWY0<br> Is hate speech: Have they literally been together for 7 YEARS!!????  WHERE DID TIME GO!!!???? I have been here since forever but like 7 years???"
      ],
      "text/plain": [
       "<IPython.core.display.Markdown object>"
      ]
     },
     "metadata": {},
     "output_type": "display_data"
    },
    {
     "data": {
      "text/markdown": [
       "* Video id: T4Q0pElKWY0<br> Is hate speech: Juliana a catcher and Im a pitcher sounds like a perfect match to me"
      ],
      "text/plain": [
       "<IPython.core.display.Markdown object>"
      ]
     },
     "metadata": {},
     "output_type": "display_data"
    },
    {
     "data": {
      "text/markdown": [
       "* Video id: T4Q0pElKWY0<br> Is hate speech: I&#39;m 23y old man, but I feel like 32y old lady"
      ],
      "text/plain": [
       "<IPython.core.display.Markdown object>"
      ]
     },
     "metadata": {},
     "output_type": "display_data"
    },
    {
     "data": {
      "text/markdown": [
       "* Video id: T4Q0pElKWY0<br> Is hate speech: Idk if this is weird but I put on Jennas videos whenever Im home by myself bc theyre so comforting and it feels like I have a friend there with me, especially when Im feeling super anxious.   The side effect of this though is that I feel like I know Jenna &amp; Julien so I talk about them like theyre my bffs and everyone else thinks Im a crazy person  Anyone else?"
      ],
      "text/plain": [
       "<IPython.core.display.Markdown object>"
      ]
     },
     "metadata": {},
     "output_type": "display_data"
    },
    {
     "data": {
      "text/markdown": [
       "* Video id: T4Q0pElKWY0<br> Is hate speech: did anyone get the change in filters or am i crazy??"
      ],
      "text/plain": [
       "<IPython.core.display.Markdown object>"
      ]
     },
     "metadata": {},
     "output_type": "display_data"
    },
    {
     "data": {
      "text/markdown": [
       "* Video id: T4Q0pElKWY0<br> Is hate speech: My birthday is the same day as Julien&#39;s! Aw hell yeah"
      ],
      "text/plain": [
       "<IPython.core.display.Markdown object>"
      ]
     },
     "metadata": {},
     "output_type": "display_data"
    },
    {
     "data": {
      "text/markdown": [
       "* Video id: T4Q0pElKWY0<br> Is hate speech: Can we please just take a moment to pay our respects to that MASSIVE ASS mixing bowl!? Where do you even store something that huge? Ya&#39;ll need to build a mixing bowl garage."
      ],
      "text/plain": [
       "<IPython.core.display.Markdown object>"
      ]
     },
     "metadata": {},
     "output_type": "display_data"
    },
    {
     "data": {
      "text/markdown": [
       "* Video id: T4Q0pElKWY0<br> Is hate speech:  A 27 year-old man with fastly deteriorating visioooon</b>  - I lost my shit AHAHAHAH Jenna  never</b> disappoints"
      ],
      "text/plain": [
       "<IPython.core.display.Markdown object>"
      ]
     },
     "metadata": {},
     "output_type": "display_data"
    },
    {
     "data": {
      "text/markdown": [
       "* Video id: T4Q0pElKWY0<br> Is hate speech: Ohh Jenna out here being a cougar.      Also his jacket looks like it says cries kitchen."
      ],
      "text/plain": [
       "<IPython.core.display.Markdown object>"
      ]
     },
     "metadata": {},
     "output_type": "display_data"
    },
    {
     "data": {
      "text/markdown": [
       "* Video id: T4Q0pElKWY0<br> Is hate speech: Jenna is like Jimmy Kimmel live meanwhile Julien is the Eric Andre show"
      ],
      "text/plain": [
       "<IPython.core.display.Markdown object>"
      ]
     },
     "metadata": {},
     "output_type": "display_data"
    },
    {
     "data": {
      "text/markdown": [
       "* Video id: T4Q0pElKWY0<br> Is hate speech: Oh my God JULEN you&#39;re a pure comedy"
      ],
      "text/plain": [
       "<IPython.core.display.Markdown object>"
      ]
     },
     "metadata": {},
     "output_type": "display_data"
    },
    {
     "data": {
      "text/markdown": [
       "* Video id: T4Q0pElKWY0<br> Is hate speech: I&#39;m 33 and my husband is 27. Get yourself a young one, right Jenna? Lol"
      ],
      "text/plain": [
       "<IPython.core.display.Markdown object>"
      ]
     },
     "metadata": {},
     "output_type": "display_data"
    },
    {
     "data": {
      "text/markdown": [
       "* Video id: 81UOofW82FY<br> Is hate speech: There was a Ming that ant goes in side thanks <i>___</i> and become big"
      ],
      "text/plain": [
       "<IPython.core.display.Markdown object>"
      ]
     },
     "metadata": {},
     "output_type": "display_data"
    },
    {
     "data": {
      "text/markdown": [
       "* Video id: 81UOofW82FY<br> Is hate speech: Thank god Thor didn&#39;t go for the head.... That&#39;s why we&#39;re gonna have this f**king masterpiece"
      ],
      "text/plain": [
       "<IPython.core.display.Markdown object>"
      ]
     },
     "metadata": {},
     "output_type": "display_data"
    },
    {
     "data": {
      "text/markdown": [
       "* Video id: 81UOofW82FY<br> Is hate speech: Where the hell is Hulk"
      ],
      "text/plain": [
       "<IPython.core.display.Markdown object>"
      ]
     },
     "metadata": {},
     "output_type": "display_data"
    },
    {
     "data": {
      "text/markdown": [
       "* Video id: 81UOofW82FY<br> Is hate speech: Avengers Endgame the most awaited movie of my life is coming....."
      ],
      "text/plain": [
       "<IPython.core.display.Markdown object>"
      ]
     },
     "metadata": {},
     "output_type": "display_data"
    },
    {
     "data": {
      "text/markdown": [
       "* Video id: 81UOofW82FY<br> Is hate speech: So, mjolnir is now stormbreaker again?lol"
      ],
      "text/plain": [
       "<IPython.core.display.Markdown object>"
      ]
     },
     "metadata": {},
     "output_type": "display_data"
    },
    {
     "data": {
      "text/markdown": [
       "* Video id: 81UOofW82FY<br> Is hate speech: This is the movie of our life"
      ],
      "text/plain": [
       "<IPython.core.display.Markdown object>"
      ]
     },
     "metadata": {},
     "output_type": "display_data"
    },
    {
     "data": {
      "text/markdown": [
       "* Video id: 81UOofW82FY<br> Is hate speech:  This is the fight of our lives.</b>     Foreshadowing every audience member trying not to go to the bathroom while watching Endgame!!!"
      ],
      "text/plain": [
       "<IPython.core.display.Markdown object>"
      ]
     },
     "metadata": {},
     "output_type": "display_data"
    },
    {
     "data": {
      "text/markdown": [
       "* Video id: 81UOofW82FY<br> Is hate speech: endgame overhyped lol they&#39;d be dissapointed"
      ],
      "text/plain": [
       "<IPython.core.display.Markdown object>"
      ]
     },
     "metadata": {},
     "output_type": "display_data"
    },
    {
     "data": {
      "text/markdown": [
       "* Video id: 81UOofW82FY<br> Is hate speech: I wish I was there in the fight taking Peter&#39;s Place as Spider-Man  ... LOL"
      ],
      "text/plain": [
       "<IPython.core.display.Markdown object>"
      ]
     },
     "metadata": {},
     "output_type": "display_data"
    },
    {
     "data": {
      "text/markdown": [
       "* Video id: 8SGbIHoKewM<br> Is hate speech: Aww im so crying handsome young man the strength and knowledge he has. God bless"
      ],
      "text/plain": [
       "<IPython.core.display.Markdown object>"
      ]
     },
     "metadata": {},
     "output_type": "display_data"
    },
    {
     "data": {
      "text/markdown": [
       "* Video id: 8SGbIHoKewM<br> Is hate speech: This is over hyped funeral. . Rip man but damn this is too much media coverage"
      ],
      "text/plain": [
       "<IPython.core.display.Markdown object>"
      ]
     },
     "metadata": {},
     "output_type": "display_data"
    },
    {
     "data": {
      "text/markdown": [
       "* Video id: 8SGbIHoKewM<br> Is hate speech: He looks just like wayne"
      ],
      "text/plain": [
       "<IPython.core.display.Markdown object>"
      ]
     },
     "metadata": {},
     "output_type": "display_data"
    },
    {
     "data": {
      "text/markdown": [
       "* Video id: 8SGbIHoKewM<br> Is hate speech: Omg he looks like waynes twin"
      ],
      "text/plain": [
       "<IPython.core.display.Markdown object>"
      ]
     },
     "metadata": {},
     "output_type": "display_data"
    },
    {
     "data": {
      "text/markdown": [
       "* Video id: 8SGbIHoKewM<br> Is hate speech: Kid&#39;s cute as a damn button."
      ],
      "text/plain": [
       "<IPython.core.display.Markdown object>"
      ]
     },
     "metadata": {},
     "output_type": "display_data"
    },
    {
     "data": {
      "text/markdown": [
       "* Video id: 8SGbIHoKewM<br> Is hate speech: The motherfukers come out he looks just like his parents supposed to"
      ],
      "text/plain": [
       "<IPython.core.display.Markdown object>"
      ]
     },
     "metadata": {},
     "output_type": "display_data"
    },
    {
     "data": {
      "text/markdown": [
       "* Video id: 8SGbIHoKewM<br> Is hate speech: To the fans out there like me who admire &amp; respect Nipsey the words of this young man shpuld serve as xonfirmation that he is saying his farewells in the spirirt realm while journeying to Paradise. Let&#39;s mourn no more &amp; rejoice for a life well lived so his Soul may be at peace &amp; trangress. Farewell Nipsey ! Love from a Dominican brother raised in Harlem who you never met nut influenced &amp; motivated."
      ],
      "text/plain": [
       "<IPython.core.display.Markdown object>"
      ]
     },
     "metadata": {},
     "output_type": "display_data"
    },
    {
     "data": {
      "text/markdown": [
       "* Video id: 8SGbIHoKewM<br> Is hate speech: WAYNE SON AND NIP SONWILL NOT HAVETHEM TEENS DAD FIGHT TALK LIKE . MY DAD A BLOOD AND WHAT MY DAD CRIB.....SO WHAT MY DAD GOT 150 MILL BUT YOUR DAD SIGN FOR 10 MILL...MY DAD FROM L.A YOUR DAD FROM THE N.O....SHIT MY DAD IS THE BIGGER RAP STAR THEN YOUR DAD AND MY DAD STILL A LIVE ! WAIT LIL BRO NOT BAD IM VERY SORRY LOL RIP TO NIP"
      ],
      "text/plain": [
       "<IPython.core.display.Markdown object>"
      ]
     },
     "metadata": {},
     "output_type": "display_data"
    },
    {
     "data": {
      "text/markdown": [
       "* Video id: 8SGbIHoKewM<br> Is hate speech: RIP you a G lil Man"
      ],
      "text/plain": [
       "<IPython.core.display.Markdown object>"
      ]
     },
     "metadata": {},
     "output_type": "display_data"
    },
    {
     "data": {
      "text/markdown": [
       "* Video id: 8SGbIHoKewM<br> Is hate speech: While his making this speech His Father is Droping a Video Called (2 DOLLER BiLL) Were His Body Parts are being taken Out..Wayne issa EViL Piece of SHiT!!"
      ],
      "text/plain": [
       "<IPython.core.display.Markdown object>"
      ]
     },
     "metadata": {},
     "output_type": "display_data"
    },
    {
     "data": {
      "text/markdown": [
       "* Video id: 8SGbIHoKewM<br> Is hate speech: This kid has a big imagination. "
      ],
      "text/plain": [
       "<IPython.core.display.Markdown object>"
      ]
     },
     "metadata": {},
     "output_type": "display_data"
    },
    {
     "data": {
      "text/markdown": [
       "* Video id: 8SGbIHoKewM<br> Is hate speech: some thing like this happened when my cousin died we was the same age and I spent all day with him when he passed he showed up in my dream like 2 or 3 days later and told me he was ok and to watch over his mom and our grandparents"
      ],
      "text/plain": [
       "<IPython.core.display.Markdown object>"
      ]
     },
     "metadata": {},
     "output_type": "display_data"
    },
    {
     "data": {
      "text/markdown": [
       "* Video id: 8SGbIHoKewM<br> Is hate speech: He looks like Wayne when he was younger."
      ],
      "text/plain": [
       "<IPython.core.display.Markdown object>"
      ]
     },
     "metadata": {},
     "output_type": "display_data"
    },
    {
     "data": {
      "text/markdown": [
       "* Video id: 8SGbIHoKewM<br> Is hate speech: Why don&#39;t you tell the truth about how illuminati intervene"
      ],
      "text/plain": [
       "<IPython.core.display.Markdown object>"
      ]
     },
     "metadata": {},
     "output_type": "display_data"
    },
    {
     "data": {
      "text/markdown": [
       "* Video id: 8SGbIHoKewM<br> Is hate speech: Way to go boy.  And your dad is the greatest rapper ever.  Thats why i call myself zooallow.  Because in your dads rap he said hes more animal then thge zooallow."
      ],
      "text/plain": [
       "<IPython.core.display.Markdown object>"
      ]
     },
     "metadata": {},
     "output_type": "display_data"
    },
    {
     "data": {
      "text/markdown": [
       "* Video id: 8SGbIHoKewM<br> Is hate speech: So sad to see a good man go"
      ],
      "text/plain": [
       "<IPython.core.display.Markdown object>"
      ]
     },
     "metadata": {},
     "output_type": "display_data"
    },
    {
     "data": {
      "text/markdown": [
       "* Video id: 8SGbIHoKewM<br> Is hate speech: Never heard of Nipsey until after the incident (and I aint gon dickride and act like I have) but Rest In Peace dawg"
      ],
      "text/plain": [
       "<IPython.core.display.Markdown object>"
      ]
     },
     "metadata": {},
     "output_type": "display_data"
    },
    {
     "data": {
      "text/markdown": [
       "* Video id: 8SGbIHoKewM<br> Is hate speech: Wow I thought his kid will sound like auto tune just like his dad"
      ],
      "text/plain": [
       "<IPython.core.display.Markdown object>"
      ]
     },
     "metadata": {},
     "output_type": "display_data"
    },
    {
     "data": {
      "text/markdown": [
       "* Video id: 8SGbIHoKewM<br> Is hate speech: LOOKS JUST LIKE WAYNE BEAUTIFUL SPEECH"
      ],
      "text/plain": [
       "<IPython.core.display.Markdown object>"
      ]
     },
     "metadata": {},
     "output_type": "display_data"
    },
    {
     "data": {
      "text/markdown": [
       "* Video id: 8SGbIHoKewM<br> Is hate speech: GOD IS REAL AND JESUS CHRIST IS COMING FOR US SOON! this world has become so corrupt we need to protect beautiful little souls like this little boy"
      ],
      "text/plain": [
       "<IPython.core.display.Markdown object>"
      ]
     },
     "metadata": {},
     "output_type": "display_data"
    },
    {
     "data": {
      "text/markdown": [
       "* Video id: 7TavVZMewpY<br> Is hate speech: RIGHT... OK ..ALL BEAUTIFUL AND SHIT ...BUT WHAT DOES COREY TAYLOR THINK ABOUT THIS.... ? lol"
      ],
      "text/plain": [
       "<IPython.core.display.Markdown object>"
      ]
     },
     "metadata": {},
     "output_type": "display_data"
    },
    {
     "data": {
      "text/markdown": [
       "* Video id: 7TavVZMewpY<br> Is hate speech: Fired up for it. Like Shireen Baratheon. And her pop&#39;s fleet"
      ],
      "text/plain": [
       "<IPython.core.display.Markdown object>"
      ]
     },
     "metadata": {},
     "output_type": "display_data"
    },
    {
     "data": {
      "text/markdown": [
       "* Video id: 7TavVZMewpY<br> Is hate speech: That was a awesome movie! Hate trailers that show everything"
      ],
      "text/plain": [
       "<IPython.core.display.Markdown object>"
      ]
     },
     "metadata": {},
     "output_type": "display_data"
    },
    {
     "data": {
      "text/markdown": [
       "* Video id: 7TavVZMewpY<br> Is hate speech: Omg my fav movie ever lol ! Looks so real !"
      ],
      "text/plain": [
       "<IPython.core.display.Markdown object>"
      ]
     },
     "metadata": {},
     "output_type": "display_data"
    },
    {
     "data": {
      "text/markdown": [
       "* Video id: 7TavVZMewpY<br> Is hate speech: Why do we need this shit? This doesnt work at all"
      ],
      "text/plain": [
       "<IPython.core.display.Markdown object>"
      ]
     },
     "metadata": {},
     "output_type": "display_data"
    },
    {
     "data": {
      "text/markdown": [
       "* Video id: 7TavVZMewpY<br> Is hate speech: What u do to your video get alot of views????"
      ],
      "text/plain": [
       "<IPython.core.display.Markdown object>"
      ]
     },
     "metadata": {},
     "output_type": "display_data"
    },
    {
     "data": {
      "text/markdown": [
       "* Video id: 7TavVZMewpY<br> Is hate speech: Girl childish gambino and queen bey better SERVE ME Simba and Nala okay!!! I already have my life from Timn and Puumba, Scar&#39;s voice isn&#39;t doing much for me and the score is EMACULATE. I&#39;m about to get my entire life with this movie cuz idk what imma do if i don&#39;t"
      ],
      "text/plain": [
       "<IPython.core.display.Markdown object>"
      ]
     },
     "metadata": {},
     "output_type": "display_data"
    },
    {
     "data": {
      "text/markdown": [
       "* Video id: 7TavVZMewpY<br> Is hate speech: Scar looks just like Mr.t/SaTan of the Mapogo Lions, they did the Mohawk and everything. I guess if your going to design scar after a particular real life lion then Mr T is the perfect choice."
      ],
      "text/plain": [
       "<IPython.core.display.Markdown object>"
      ]
     },
     "metadata": {},
     "output_type": "display_data"
    },
    {
     "data": {
      "text/markdown": [
       "* Video id: YSJlU2q58Bc<br> Is hate speech: If i cant smoke weed i dont wanna go there"
      ],
      "text/plain": [
       "<IPython.core.display.Markdown object>"
      ]
     },
     "metadata": {},
     "output_type": "display_data"
    },
    {
     "data": {
      "text/markdown": [
       "* Video id: YSJlU2q58Bc<br> Is hate speech: Im a claustrophobic, its definitely not for me"
      ],
      "text/plain": [
       "<IPython.core.display.Markdown object>"
      ]
     },
     "metadata": {},
     "output_type": "display_data"
    },
    {
     "data": {
      "text/markdown": [
       "* Video id: YSJlU2q58Bc<br> Is hate speech: I want to stay at a capsule hotel, but I don&#39;t want to go to Japan. Time to research away!"
      ],
      "text/plain": [
       "<IPython.core.display.Markdown object>"
      ]
     },
     "metadata": {},
     "output_type": "display_data"
    },
    {
     "data": {
      "text/markdown": [
       "* Video id: YSJlU2q58Bc<br> Is hate speech: The thumbnail looks like its a buzzfeed video!! Does anyone else agree???"
      ],
      "text/plain": [
       "<IPython.core.display.Markdown object>"
      ]
     },
     "metadata": {},
     "output_type": "display_data"
    },
    {
     "data": {
      "text/markdown": [
       "* Video id: YSJlU2q58Bc<br> Is hate speech: Oh my gosh is this the fifth element "
      ],
      "text/plain": [
       "<IPython.core.display.Markdown object>"
      ]
     },
     "metadata": {},
     "output_type": "display_data"
    },
    {
     "data": {
      "text/markdown": [
       "* Video id: YSJlU2q58Bc<br> Is hate speech: Fun! Are you going to stay at another capsule hotel when you go back in May? Id love to go to Japan, and would definitely want to stay in one of the really futuristic looking ones! "
      ],
      "text/plain": [
       "<IPython.core.display.Markdown object>"
      ]
     },
     "metadata": {},
     "output_type": "display_data"
    },
    {
     "data": {
      "text/markdown": [
       "* Video id: YSJlU2q58Bc<br> Is hate speech: The way you guys say &quot;gee-yo-zuh&quot; is making me SCREAM lol that&#39;s a pretty average footbath, it&#39;s great that it&#39;s by the door so you can destress after walking a lot, also if you drunk you can wake tf up before going to sleep lol because some people roll up to the place comatose. I mean, can you imagine a trio of drunk AF salarymen dragging their dead as hell friend yo the capsule hotel and losing their shit over the foot bath, falling over themselves to get in? I can. I can also imagine for someone who&#39;s OUT putting their feet in the bath is like dipping a sleeping person&#39;s fingers in warm water. Probably why they stop it at 11pm lol you know some early birds have done something though. Worst capsule hotel I&#39;ve ever slept in was in Taiwan. Literally a plastic shell. I prefer Japanese &quot;capsule hotel&quot; hostels that are more like bunk beds - with tatami and futons and curtains. I&#39;m surprised no one was up at night! Especially in the common room, was it a weekday?"
      ],
      "text/plain": [
       "<IPython.core.display.Markdown object>"
      ]
     },
     "metadata": {},
     "output_type": "display_data"
    },
    {
     "data": {
      "text/markdown": [
       "* Video id: YSJlU2q58Bc<br> Is hate speech: Im glad Britney Spears was mentioned in this video"
      ],
      "text/plain": [
       "<IPython.core.display.Markdown object>"
      ]
     },
     "metadata": {},
     "output_type": "display_data"
    },
    {
     "data": {
      "text/markdown": [
       "* Video id: YSJlU2q58Bc<br> Is hate speech: Every time you guys post I get scared (I love you guys tho!)"
      ],
      "text/plain": [
       "<IPython.core.display.Markdown object>"
      ]
     },
     "metadata": {},
     "output_type": "display_data"
    },
    {
     "data": {
      "text/markdown": [
       "* Video id: YSJlU2q58Bc<br> Is hate speech: Damn its the 5th Element"
      ],
      "text/plain": [
       "<IPython.core.display.Markdown object>"
      ]
     },
     "metadata": {},
     "output_type": "display_data"
    },
    {
     "data": {
      "text/markdown": [
       "* Video id: YSJlU2q58Bc<br> Is hate speech: Looks like hell"
      ],
      "text/plain": [
       "<IPython.core.display.Markdown object>"
      ]
     },
     "metadata": {},
     "output_type": "display_data"
    },
    {
     "data": {
      "text/markdown": [
       "* Video id: YSJlU2q58Bc<br> Is hate speech: For a claustrophobic like me this is a nightmare "
      ],
      "text/plain": [
       "<IPython.core.display.Markdown object>"
      ]
     },
     "metadata": {},
     "output_type": "display_data"
    },
    {
     "data": {
      "text/markdown": [
       "* Video id: YSJlU2q58Bc<br> Is hate speech: Drink everytime she says &#39;like&#39;. Shit man!"
      ],
      "text/plain": [
       "<IPython.core.display.Markdown object>"
      ]
     },
     "metadata": {},
     "output_type": "display_data"
    },
    {
     "data": {
      "text/markdown": [
       "* Video id: YSJlU2q58Bc<br> Is hate speech: im claustrophobic darren"
      ],
      "text/plain": [
       "<IPython.core.display.Markdown object>"
      ]
     },
     "metadata": {},
     "output_type": "display_data"
    },
    {
     "data": {
      "text/markdown": [
       "* Video id: r7CWEE3ZAWs<br> Is hate speech: YouTube why the hell are you giving this asshole a place on trending."
      ],
      "text/plain": [
       "<IPython.core.display.Markdown object>"
      ]
     },
     "metadata": {},
     "output_type": "display_data"
    },
    {
     "data": {
      "text/markdown": [
       "* Video id: r7CWEE3ZAWs<br> Is hate speech: BIG MJ VIBES. Great Job Chris!!!!"
      ],
      "text/plain": [
       "<IPython.core.display.Markdown object>"
      ]
     },
     "metadata": {},
     "output_type": "display_data"
    },
    {
     "data": {
      "text/markdown": [
       "* Video id: r7CWEE3ZAWs<br> Is hate speech: Damn I can&#39;t believe they killed Michael Jackson to replace him with Chris Brown"
      ],
      "text/plain": [
       "<IPython.core.display.Markdown object>"
      ]
     },
     "metadata": {},
     "output_type": "display_data"
    },
    {
     "data": {
      "text/markdown": [
       "* Video id: r7CWEE3ZAWs<br> Is hate speech: It&#39;s feel like old Chris brown(2009_2014) really love it"
      ],
      "text/plain": [
       "<IPython.core.display.Markdown object>"
      ]
     },
     "metadata": {},
     "output_type": "display_data"
    },
    {
     "data": {
      "text/markdown": [
       "* Video id: r7CWEE3ZAWs<br> Is hate speech: Beats women and dances like a pedo...still a massive hit. Gotta love ppl"
      ],
      "text/plain": [
       "<IPython.core.display.Markdown object>"
      ]
     },
     "metadata": {},
     "output_type": "display_data"
    },
    {
     "data": {
      "text/markdown": [
       "* Video id: r7CWEE3ZAWs<br> Is hate speech: Thankfully he isnt a piece of shit criminal. Oops thats right he is"
      ],
      "text/plain": [
       "<IPython.core.display.Markdown object>"
      ]
     },
     "metadata": {},
     "output_type": "display_data"
    },
    {
     "data": {
      "text/markdown": [
       "* Video id: r7CWEE3ZAWs<br> Is hate speech: Bully cunt that beats women"
      ],
      "text/plain": [
       "<IPython.core.display.Markdown object>"
      ]
     },
     "metadata": {},
     "output_type": "display_data"
    },
    {
     "data": {
      "text/markdown": [
       "* Video id: r7CWEE3ZAWs<br> Is hate speech: More like backhanded to love"
      ],
      "text/plain": [
       "<IPython.core.display.Markdown object>"
      ]
     },
     "metadata": {},
     "output_type": "display_data"
    },
    {
     "data": {
      "text/markdown": [
       "* Video id: r7CWEE3ZAWs<br> Is hate speech: LETS ALL GET BACK TO LOVE MICHAEL JACKSON INNOCENT  MICHAEL JACKSON FOREVER"
      ],
      "text/plain": [
       "<IPython.core.display.Markdown object>"
      ]
     },
     "metadata": {},
     "output_type": "display_data"
    },
    {
     "data": {
      "text/markdown": [
       "* Video id: 198gzllaumo<br> Is hate speech: I&#39;m not hype. :( look ulgy damnit..  i like cartoon enough. lol"
      ],
      "text/plain": [
       "<IPython.core.display.Markdown object>"
      ]
     },
     "metadata": {},
     "output_type": "display_data"
    },
    {
     "data": {
      "text/markdown": [
       "* Video id: 198gzllaumo<br> Is hate speech: Had no idea that Ryan had a channel, fuck yeah!"
      ],
      "text/plain": [
       "<IPython.core.display.Markdown object>"
      ]
     },
     "metadata": {},
     "output_type": "display_data"
    },
    {
     "data": {
      "text/markdown": [
       "* Video id: 198gzllaumo<br> Is hate speech: Ok but no one is talking about how Charizard and venasuar are ready to whoop some ass"
      ],
      "text/plain": [
       "<IPython.core.display.Markdown object>"
      ]
     },
     "metadata": {},
     "output_type": "display_data"
    },
    {
     "data": {
      "text/markdown": [
       "* Video id: 198gzllaumo<br> Is hate speech: Wait.....         MEWTWO IS IN THE MOVIE!?!!!!!!! (Head explodes like a Psyduck headache)"
      ],
      "text/plain": [
       "<IPython.core.display.Markdown object>"
      ]
     },
     "metadata": {},
     "output_type": "display_data"
    },
    {
     "data": {
      "text/markdown": [
       "* Video id: 198gzllaumo<br> Is hate speech: JIGGLYPUFF: Pu Puupu! (Like if you get it)"
      ],
      "text/plain": [
       "<IPython.core.display.Markdown object>"
      ]
     },
     "metadata": {},
     "output_type": "display_data"
    },
    {
     "data": {
      "text/markdown": [
       "* Video id: 198gzllaumo<br> Is hate speech: I wanna see Jigglypuff sing and get mad when everyone falls asleep, so she starts marking people&#39;s faces with marker"
      ],
      "text/plain": [
       "<IPython.core.display.Markdown object>"
      ]
     },
     "metadata": {},
     "output_type": "display_data"
    },
    {
     "data": {
      "text/markdown": [
       "* Video id: 198gzllaumo<br> Is hate speech: fuck i hate ryan reynolds"
      ],
      "text/plain": [
       "<IPython.core.display.Markdown object>"
      ]
     },
     "metadata": {},
     "output_type": "display_data"
    },
    {
     "data": {
      "text/markdown": [
       "* Video id: 198gzllaumo<br> Is hate speech:  The furries want to know your location</b>"
      ],
      "text/plain": [
       "<IPython.core.display.Markdown object>"
      ]
     },
     "metadata": {},
     "output_type": "display_data"
    },
    {
     "data": {
      "text/markdown": [
       "* Video id: 198gzllaumo<br> Is hate speech: Some of them look like CJ7!"
      ],
      "text/plain": [
       "<IPython.core.display.Markdown object>"
      ]
     },
     "metadata": {},
     "output_type": "display_data"
    },
    {
     "data": {
      "text/markdown": [
       "* Video id: 198gzllaumo<br> Is hate speech: <a href=\"https://www.youtube.com/watch?v=198gzllaumo&amp;t=0m20s\">0:20</a> Finally! I get to see a real life version of Eevee!"
      ],
      "text/plain": [
       "<IPython.core.display.Markdown object>"
      ]
     },
     "metadata": {},
     "output_type": "display_data"
    },
    {
     "data": {
      "text/markdown": [
       "* Video id: 198gzllaumo<br> Is hate speech: I really dont like Pokmon but this looks really cool"
      ],
      "text/plain": [
       "<IPython.core.display.Markdown object>"
      ]
     },
     "metadata": {},
     "output_type": "display_data"
    },
    {
     "data": {
      "text/markdown": [
       "* Video id: 198gzllaumo<br> Is hate speech: OH DAMN PIKACHU IS TOO CUTE"
      ],
      "text/plain": [
       "<IPython.core.display.Markdown object>"
      ]
     },
     "metadata": {},
     "output_type": "display_data"
    },
    {
     "data": {
      "text/markdown": [
       "* Video id: 198gzllaumo<br> Is hate speech: Why is Aipom looking like Tinkywinky from Teletubbies?"
      ],
      "text/plain": [
       "<IPython.core.display.Markdown object>"
      ]
     },
     "metadata": {},
     "output_type": "display_data"
    },
    {
     "data": {
      "text/markdown": [
       "* Video id: 198gzllaumo<br> Is hate speech: Some are so cute but some some are horrifying im so excited.  Als9 All You gunna shoe us all the pokemon all 800 plus. Oh my god???"
      ],
      "text/plain": [
       "<IPython.core.display.Markdown object>"
      ]
     },
     "metadata": {},
     "output_type": "display_data"
    },
    {
     "data": {
      "text/markdown": [
       "* Video id: 198gzllaumo<br> Is hate speech: Im to excited for this movie like you guys dont understand ahhhg"
      ],
      "text/plain": [
       "<IPython.core.display.Markdown object>"
      ]
     },
     "metadata": {},
     "output_type": "display_data"
    },
    {
     "data": {
      "text/markdown": [
       "* Video id: 5HoE9Tn5oug<br> Is hate speech: This feels sponsored lol"
      ],
      "text/plain": [
       "<IPython.core.display.Markdown object>"
      ]
     },
     "metadata": {},
     "output_type": "display_data"
    },
    {
     "data": {
      "text/markdown": [
       "* Video id: 5HoE9Tn5oug<br> Is hate speech: Julien I dont think Ive ever heard something so fucking relatable   Even if I wasnt having a party Id be eating party size"
      ],
      "text/plain": [
       "<IPython.core.display.Markdown object>"
      ]
     },
     "metadata": {},
     "output_type": "display_data"
    },
    {
     "data": {
      "text/markdown": [
       "* Video id: 5HoE9Tn5oug<br> Is hate speech: like for him to change his username to chef julien"
      ],
      "text/plain": [
       "<IPython.core.display.Markdown object>"
      ]
     },
     "metadata": {},
     "output_type": "display_data"
    },
    {
     "data": {
      "text/markdown": [
       "* Video id: 5HoE9Tn5oug<br> Is hate speech: lays is expensive as shit here so well, diy solomita chips is the way to go then"
      ],
      "text/plain": [
       "<IPython.core.display.Markdown object>"
      ]
     },
     "metadata": {},
     "output_type": "display_data"
    },
    {
     "data": {
      "text/markdown": [
       "* Video id: 5HoE9Tn5oug<br> Is hate speech: Okay loves:  it is JuliEn.  Think like how you Julienne slice a carrot lol, but with less letters     actually ya know what?  From now on I Julien slice my produce "
      ],
      "text/plain": [
       "<IPython.core.display.Markdown object>"
      ]
     },
     "metadata": {},
     "output_type": "display_data"
    },
    {
     "data": {
      "text/markdown": [
       "* Video id: 5HoE9Tn5oug<br> Is hate speech: Holy shit he used SO many paper towels. I always thought jenna was exaggerating."
      ],
      "text/plain": [
       "<IPython.core.display.Markdown object>"
      ]
     },
     "metadata": {},
     "output_type": "display_data"
    },
    {
     "data": {
      "text/markdown": [
       "* Video id: 5HoE9Tn5oug<br> Is hate speech: Hey Christa."
      ],
      "text/plain": [
       "<IPython.core.display.Markdown object>"
      ]
     },
     "metadata": {},
     "output_type": "display_data"
    },
    {
     "data": {
      "text/markdown": [
       "* Video id: 5HoE9Tn5oug<br> Is hate speech: Ooh boi your trending! Ooh Hell Yeah!!! "
      ],
      "text/plain": [
       "<IPython.core.display.Markdown object>"
      ]
     },
     "metadata": {},
     "output_type": "display_data"
    },
    {
     "data": {
      "text/markdown": [
       "* Video id: 5HoE9Tn5oug<br> Is hate speech: Can you stop talking and just get to the point of the video ffs"
      ],
      "text/plain": [
       "<IPython.core.display.Markdown object>"
      ]
     },
     "metadata": {},
     "output_type": "display_data"
    },
    {
     "data": {
      "text/markdown": [
       "* Video id: 5HoE9Tn5oug<br> Is hate speech: How much do you pay to get your shit show on trending?"
      ],
      "text/plain": [
       "<IPython.core.display.Markdown object>"
      ]
     },
     "metadata": {},
     "output_type": "display_data"
    },
    {
     "data": {
      "text/markdown": [
       "* Video id: 5HoE9Tn5oug<br> Is hate speech: Julien on the trending page...*HELL YEAH*"
      ],
      "text/plain": [
       "<IPython.core.display.Markdown object>"
      ]
     },
     "metadata": {},
     "output_type": "display_data"
    },
    {
     "data": {
      "text/markdown": [
       "* Video id: 5HoE9Tn5oug<br> Is hate speech: ugh im so glad youre getting more n more attention julien you deserve it "
      ],
      "text/plain": [
       "<IPython.core.display.Markdown object>"
      ]
     },
     "metadata": {},
     "output_type": "display_data"
    },
    {
     "data": {
      "text/markdown": [
       "* Video id: 5HoE9Tn5oug<br> Is hate speech: Lays classic = greater than all other chips. Dont even try to fight me on this lol"
      ],
      "text/plain": [
       "<IPython.core.display.Markdown object>"
      ]
     },
     "metadata": {},
     "output_type": "display_data"
    },
    {
     "data": {
      "text/markdown": [
       "* Video id: 5HoE9Tn5oug<br> Is hate speech: only julien could make a cooking video aesthetically pleasing as FUCK."
      ],
      "text/plain": [
       "<IPython.core.display.Markdown object>"
      ]
     },
     "metadata": {},
     "output_type": "display_data"
    },
    {
     "data": {
      "text/markdown": [
       "* Video id: 5HoE9Tn5oug<br> Is hate speech: Try rehearsing your shit...the editing little blips make you look like a complete dumbass. I still watched so I dunno guess im a dumbass too."
      ],
      "text/plain": [
       "<IPython.core.display.Markdown object>"
      ]
     },
     "metadata": {},
     "output_type": "display_data"
    },
    {
     "data": {
      "text/markdown": [
       "* Video id: 5HoE9Tn5oug<br> Is hate speech: Ima get alot of hate for this but the dog eating the chip grossed me out. How ya have a dog around when your cooking  cant trust white people cooking shit mane"
      ],
      "text/plain": [
       "<IPython.core.display.Markdown object>"
      ]
     },
     "metadata": {},
     "output_type": "display_data"
    },
    {
     "data": {
      "text/markdown": [
       "* Video id: Ms5yMta2p9A<br> Is hate speech: ,     listen before I go"
      ],
      "text/plain": [
       "<IPython.core.display.Markdown object>"
      ]
     },
     "metadata": {},
     "output_type": "display_data"
    },
    {
     "data": {
      "text/markdown": [
       "* Video id: Ms5yMta2p9A<br> Is hate speech: Why is this he bitch looking thing always sniffing and sounding like a boy?"
      ],
      "text/plain": [
       "<IPython.core.display.Markdown object>"
      ]
     },
     "metadata": {},
     "output_type": "display_data"
    },
    {
     "data": {
      "text/markdown": [
       "* Video id: Ms5yMta2p9A<br> Is hate speech: I love hearing her speak out about this.  Im so glad Im not the only one who doesnt get when people act that way and party so hard.  I dont get it.  I really dont like when people are always getting drunk or high.  Its like they are escaping the world and trying not to be themselves."
      ],
      "text/plain": [
       "<IPython.core.display.Markdown object>"
      ]
     },
     "metadata": {},
     "output_type": "display_data"
    },
    {
     "data": {
      "text/markdown": [
       "* Video id: Ms5yMta2p9A<br> Is hate speech: i have only 1 BIG dream and that is to meet QUEEN BILLIE EILISH "
      ],
      "text/plain": [
       "<IPython.core.display.Markdown object>"
      ]
     },
     "metadata": {},
     "output_type": "display_data"
    },
    {
     "data": {
      "text/markdown": [
       "* Video id: Ms5yMta2p9A<br> Is hate speech: Go fuck yourself"
      ],
      "text/plain": [
       "<IPython.core.display.Markdown object>"
      ]
     },
     "metadata": {},
     "output_type": "display_data"
    },
    {
     "data": {
      "text/markdown": [
       "* Video id: Ms5yMta2p9A<br> Is hate speech: Oh"
      ],
      "text/plain": [
       "<IPython.core.display.Markdown object>"
      ]
     },
     "metadata": {},
     "output_type": "display_data"
    },
    {
     "data": {
      "text/markdown": [
       "* Video id: Ms5yMta2p9A<br> Is hate speech: Billie is the supportive friend that changes your life"
      ],
      "text/plain": [
       "<IPython.core.display.Markdown object>"
      ]
     },
     "metadata": {},
     "output_type": "display_data"
    },
    {
     "data": {
      "text/markdown": [
       "* Video id: Ms5yMta2p9A<br> Is hate speech: Im in love"
      ],
      "text/plain": [
       "<IPython.core.display.Markdown object>"
      ]
     },
     "metadata": {},
     "output_type": "display_data"
    },
    {
     "data": {
      "text/markdown": [
       "* Video id: Ms5yMta2p9A<br> Is hate speech:  happy Easter  like if you love Billie"
      ],
      "text/plain": [
       "<IPython.core.display.Markdown object>"
      ]
     },
     "metadata": {},
     "output_type": "display_data"
    },
    {
     "data": {
      "text/markdown": [
       "* Video id: Ms5yMta2p9A<br> Is hate speech: A very sane adolescent, in a very insane environment. What we saw for ages now in movies, being described as normal and &quot;fun&quot; (party, heavy-pointless drinking, smoking since elementary) She sees the true face of it. And tells it as it is: insane and stupid! I am loving this girl more and more each interview and song i listen. &lt;3"
      ],
      "text/plain": [
       "<IPython.core.display.Markdown object>"
      ]
     },
     "metadata": {},
     "output_type": "display_data"
    },
    {
     "data": {
      "text/markdown": [
       "* Video id: Ms5yMta2p9A<br> Is hate speech: my fiance made me stop smoking, bless him im very thankful"
      ],
      "text/plain": [
       "<IPython.core.display.Markdown object>"
      ]
     },
     "metadata": {},
     "output_type": "display_data"
    },
    {
     "data": {
      "text/markdown": [
       "* Video id: Ms5yMta2p9A<br> Is hate speech: I know people dont want to hear this but Im gonna say that this is some real industry propaganda shit... I love her music too... but please see through this metaphorical smoke"
      ],
      "text/plain": [
       "<IPython.core.display.Markdown object>"
      ]
     },
     "metadata": {},
     "output_type": "display_data"
    },
    {
     "data": {
      "text/markdown": [
       "* Video id: Ms5yMta2p9A<br> Is hate speech: Come to Dubai please Ilove you"
      ],
      "text/plain": [
       "<IPython.core.display.Markdown object>"
      ]
     },
     "metadata": {},
     "output_type": "display_data"
    },
    {
     "data": {
      "text/markdown": [
       "* Video id: Ms5yMta2p9A<br> Is hate speech: Song is shit"
      ],
      "text/plain": [
       "<IPython.core.display.Markdown object>"
      ]
     },
     "metadata": {},
     "output_type": "display_data"
    },
    {
     "data": {
      "text/markdown": [
       "* Video id: Ms5yMta2p9A<br> Is hate speech: Yo imma quit smoking because of this shit im not even 16 yet and I&#39;ve been smoking cigarettes for 4 years"
      ],
      "text/plain": [
       "<IPython.core.display.Markdown object>"
      ]
     },
     "metadata": {},
     "output_type": "display_data"
    },
    {
     "data": {
      "text/markdown": [
       "* Video id: Ms5yMta2p9A<br> Is hate speech: I relate so hard to this song. Im the only friend thats ever sober and it can be so uncomfy at times. love this."
      ],
      "text/plain": [
       "<IPython.core.display.Markdown object>"
      ]
     },
     "metadata": {},
     "output_type": "display_data"
    },
    {
     "data": {
      "text/markdown": [
       "* Video id: Ms5yMta2p9A<br> Is hate speech: dont take drugs, kids"
      ],
      "text/plain": [
       "<IPython.core.display.Markdown object>"
      ]
     },
     "metadata": {},
     "output_type": "display_data"
    },
    {
     "data": {
      "text/markdown": [
       "* Video id: Ms5yMta2p9A<br> Is hate speech: Welcome , nobody care"
      ],
      "text/plain": [
       "<IPython.core.display.Markdown object>"
      ]
     },
     "metadata": {},
     "output_type": "display_data"
    },
    {
     "data": {
      "text/markdown": [
       "* Video id: Ms5yMta2p9A<br> Is hate speech: Who&#39;s the guy next to her??"
      ],
      "text/plain": [
       "<IPython.core.display.Markdown object>"
      ]
     },
     "metadata": {},
     "output_type": "display_data"
    },
    {
     "data": {
      "text/markdown": [
       "* Video id: Ms5yMta2p9A<br> Is hate speech: It sounds like you have some interesting friend&#39;s billie"
      ],
      "text/plain": [
       "<IPython.core.display.Markdown object>"
      ]
     },
     "metadata": {},
     "output_type": "display_data"
    },
    {
     "data": {
      "text/markdown": [
       "* Video id: Ms5yMta2p9A<br> Is hate speech: So she is a druggie... figures lol.....     I still love her, sexy ass weird white bitch!"
      ],
      "text/plain": [
       "<IPython.core.display.Markdown object>"
      ]
     },
     "metadata": {},
     "output_type": "display_data"
    },
    {
     "data": {
      "text/markdown": [
       "* Video id: Ms5yMta2p9A<br> Is hate speech: Who is that guy?"
      ],
      "text/plain": [
       "<IPython.core.display.Markdown object>"
      ]
     },
     "metadata": {},
     "output_type": "display_data"
    },
    {
     "data": {
      "text/markdown": [
       "* Video id: Ms5yMta2p9A<br> Is hate speech: when I first listened to WWAFAWDWG xanny became my favorite instantly. I love the delicate piano jazz sounds like I&#39;m in cafe in Paris and it&#39;s raining outside"
      ],
      "text/plain": [
       "<IPython.core.display.Markdown object>"
      ]
     },
     "metadata": {},
     "output_type": "display_data"
    },
    {
     "data": {
      "text/markdown": [
       "* Video id: Ms5yMta2p9A<br> Is hate speech: Please, Xanny make it go away~"
      ],
      "text/plain": [
       "<IPython.core.display.Markdown object>"
      ]
     },
     "metadata": {},
     "output_type": "display_data"
    },
    {
     "data": {
      "text/markdown": [
       "* Video id: 1zDd-3J1nTg<br> Is hate speech: tailer # 2 in Viet nam Kill This Love # 2 !"
      ],
      "text/plain": [
       "<IPython.core.display.Markdown object>"
      ]
     },
     "metadata": {},
     "output_type": "display_data"
    },
    {
     "data": {
      "text/markdown": [
       "* Video id: 1zDd-3J1nTg<br> Is hate speech: Am I the only one that loves it but is kinda annoyed because Jin doesnt get as many lines in some of the songs"
      ],
      "text/plain": [
       "<IPython.core.display.Markdown object>"
      ]
     },
     "metadata": {},
     "output_type": "display_data"
    },
    {
     "data": {
      "text/markdown": [
       "* Video id: 1zDd-3J1nTg<br> Is hate speech: #9 tendance go pour #1 tendance "
      ],
      "text/plain": [
       "<IPython.core.display.Markdown object>"
      ]
     },
     "metadata": {},
     "output_type": "display_data"
    },
    {
     "data": {
      "text/markdown": [
       "* Video id: 1zDd-3J1nTg<br> Is hate speech: Gay"
      ],
      "text/plain": [
       "<IPython.core.display.Markdown object>"
      ]
     },
     "metadata": {},
     "output_type": "display_data"
    },
    {
     "data": {
      "text/markdown": [
       "* Video id: 1zDd-3J1nTg<br> Is hate speech: Halsey looks so damn stunning here OMG!"
      ],
      "text/plain": [
       "<IPython.core.display.Markdown object>"
      ]
     },
     "metadata": {},
     "output_type": "display_data"
    },
    {
     "data": {
      "text/markdown": [
       "* Video id: 1zDd-3J1nTg<br> Is hate speech: Stop watching this,, watch MV Loool"
      ],
      "text/plain": [
       "<IPython.core.display.Markdown object>"
      ]
     },
     "metadata": {},
     "output_type": "display_data"
    },
    {
     "data": {
      "text/markdown": [
       "* Video id: Kb1a3OSVjXk<br> Is hate speech: Why try to get actors in trouble if you&#39;re helping the company promote its brand?"
      ],
      "text/plain": [
       "<IPython.core.display.Markdown object>"
      ]
     },
     "metadata": {},
     "output_type": "display_data"
    },
    {
     "data": {
      "text/markdown": [
       "* Video id: Kb1a3OSVjXk<br> Is hate speech: im dead"
      ],
      "text/plain": [
       "<IPython.core.display.Markdown object>"
      ]
     },
     "metadata": {},
     "output_type": "display_data"
    },
    {
     "data": {
      "text/markdown": [
       "* Video id: Kb1a3OSVjXk<br> Is hate speech: Where to get that tshirt"
      ],
      "text/plain": [
       "<IPython.core.display.Markdown object>"
      ]
     },
     "metadata": {},
     "output_type": "display_data"
    },
    {
     "data": {
      "text/markdown": [
       "* Video id: Kb1a3OSVjXk<br> Is hate speech: crikey, i&#39;ve never seen a like to dislike ratio so damn good 13K:300"
      ],
      "text/plain": [
       "<IPython.core.display.Markdown object>"
      ]
     },
     "metadata": {},
     "output_type": "display_data"
    },
    {
     "data": {
      "text/markdown": [
       "* Video id: Kb1a3OSVjXk<br> Is hate speech: Renner sounds like he&#39;s on the sauce."
      ],
      "text/plain": [
       "<IPython.core.display.Markdown object>"
      ]
     },
     "metadata": {},
     "output_type": "display_data"
    },
    {
     "data": {
      "text/markdown": [
       "* Video id: Kb1a3OSVjXk<br> Is hate speech: Whos here because you want leaks. Probably just me lol"
      ],
      "text/plain": [
       "<IPython.core.display.Markdown object>"
      ]
     },
     "metadata": {},
     "output_type": "display_data"
    },
    {
     "data": {
      "text/markdown": [
       "* Video id: Kb1a3OSVjXk<br> Is hate speech: Him and Paul are protecting them paychecks like a mf "
      ],
      "text/plain": [
       "<IPython.core.display.Markdown object>"
      ]
     },
     "metadata": {},
     "output_type": "display_data"
    },
    {
     "data": {
      "text/markdown": [
       "* Video id: Kb1a3OSVjXk<br> Is hate speech: Jimmy looks like filthy frank when he laughs cleanshaven"
      ],
      "text/plain": [
       "<IPython.core.display.Markdown object>"
      ]
     },
     "metadata": {},
     "output_type": "display_data"
    },
    {
     "data": {
      "text/markdown": [
       "* Video id: Kb1a3OSVjXk<br> Is hate speech: Now if you you go out there you are an avirgin"
      ],
      "text/plain": [
       "<IPython.core.display.Markdown object>"
      ]
     },
     "metadata": {},
     "output_type": "display_data"
    },
    {
     "data": {
      "text/markdown": [
       "* Video id: Kb1a3OSVjXk<br> Is hate speech: I dont get the virgin thing ???"
      ],
      "text/plain": [
       "<IPython.core.display.Markdown object>"
      ]
     },
     "metadata": {},
     "output_type": "display_data"
    },
    {
     "data": {
      "text/markdown": [
       "* Video id: Kb1a3OSVjXk<br> Is hate speech: Anti-Mark Ruffalo in a nutshell.  Endgame just needs to come out already!"
      ],
      "text/plain": [
       "<IPython.core.display.Markdown object>"
      ]
     },
     "metadata": {},
     "output_type": "display_data"
    },
    {
     "data": {
      "text/markdown": [
       "* Video id: Kb1a3OSVjXk<br> Is hate speech: When my boss asks me tomorrow about that project im working on and how its coming along.... im gonna say 50 yr old virgins..."
      ],
      "text/plain": [
       "<IPython.core.display.Markdown object>"
      ]
     },
     "metadata": {},
     "output_type": "display_data"
    },
    {
     "data": {
      "text/markdown": [
       "* Video id: Kb1a3OSVjXk<br> Is hate speech: Yall gotta get the weakest avenger huh?"
      ],
      "text/plain": [
       "<IPython.core.display.Markdown object>"
      ]
     },
     "metadata": {},
     "output_type": "display_data"
    },
    {
     "data": {
      "text/markdown": [
       "* Video id: Kb1a3OSVjXk<br> Is hate speech: I hate Hawkeye as an Avenger, however I love Jeremy Renner AS Hawkeye. Does that make sense? "
      ],
      "text/plain": [
       "<IPython.core.display.Markdown object>"
      ]
     },
     "metadata": {},
     "output_type": "display_data"
    },
    {
     "data": {
      "text/markdown": [
       "* Video id: Kb1a3OSVjXk<br> Is hate speech: Im really tired of this thing where actors cant talk about their proyects. Is not like the worlds biggest secret or a world security threat, Its just movies or a tv show for God&#39;s sake!"
      ],
      "text/plain": [
       "<IPython.core.display.Markdown object>"
      ]
     },
     "metadata": {},
     "output_type": "display_data"
    },
    {
     "data": {
      "text/markdown": [
       "* Video id: Kb1a3OSVjXk<br> Is hate speech: Tell your actors whats been confirmed Marvel."
      ],
      "text/plain": [
       "<IPython.core.display.Markdown object>"
      ]
     },
     "metadata": {},
     "output_type": "display_data"
    },
    {
     "data": {
      "text/markdown": [
       "* Video id: S_GVbuddri8<br> Is hate speech: When you are the greatest scientific discover of the century but the community doesn&#39;t care and makes you a meme  (angry gravity noises)</b>"
      ],
      "text/plain": [
       "<IPython.core.display.Markdown object>"
      ]
     },
     "metadata": {},
     "output_type": "display_data"
    },
    {
     "data": {
      "text/markdown": [
       "* Video id: S_GVbuddri8<br> Is hate speech: The black hole looks like  upsidedown"
      ],
      "text/plain": [
       "<IPython.core.display.Markdown object>"
      ]
     },
     "metadata": {},
     "output_type": "display_data"
    },
    {
     "data": {
      "text/markdown": [
       "* Video id: S_GVbuddri8<br> Is hate speech: how black hole sound like ? .. ."
      ],
      "text/plain": [
       "<IPython.core.display.Markdown object>"
      ]
     },
     "metadata": {},
     "output_type": "display_data"
    },
    {
     "data": {
      "text/markdown": [
       "* Video id: S_GVbuddri8<br> Is hate speech: Black hole is like a grinder just making everything into raw materials for newer creations."
      ],
      "text/plain": [
       "<IPython.core.display.Markdown object>"
      ]
     },
     "metadata": {},
     "output_type": "display_data"
    },
    {
     "data": {
      "text/markdown": [
       "* Video id: S_GVbuddri8<br> Is hate speech: Half life 3?"
      ],
      "text/plain": [
       "<IPython.core.display.Markdown object>"
      ]
     },
     "metadata": {},
     "output_type": "display_data"
    },
    {
     "data": {
      "text/markdown": [
       "* Video id: S_GVbuddri8<br> Is hate speech: Most probably fake like the first footprint on Moon."
      ],
      "text/plain": [
       "<IPython.core.display.Markdown object>"
      ]
     },
     "metadata": {},
     "output_type": "display_data"
    },
    {
     "data": {
      "text/markdown": [
       "* Video id: S_GVbuddri8<br> Is hate speech: this is a ass hole"
      ],
      "text/plain": [
       "<IPython.core.display.Markdown object>"
      ]
     },
     "metadata": {},
     "output_type": "display_data"
    },
    {
     "data": {
      "text/markdown": [
       "* Video id: S_GVbuddri8<br> Is hate speech: its just a blurred image of a donut stupid people these days"
      ],
      "text/plain": [
       "<IPython.core.display.Markdown object>"
      ]
     },
     "metadata": {},
     "output_type": "display_data"
    },
    {
     "data": {
      "text/markdown": [
       "* Video id: ZCBoihXzNvU<br> Is hate speech: Just love this channel Guy&#39;s ,and waiting for more awesome content , Peace !!!"
      ],
      "text/plain": [
       "<IPython.core.display.Markdown object>"
      ]
     },
     "metadata": {},
     "output_type": "display_data"
    },
    {
     "data": {
      "text/markdown": [
       "* Video id: ZCBoihXzNvU<br> Is hate speech: Get the engine out of the parts car and see how it looks and maybe put it in something"
      ],
      "text/plain": [
       "<IPython.core.display.Markdown object>"
      ]
     },
     "metadata": {},
     "output_type": "display_data"
    },
    {
     "data": {
      "text/markdown": [
       "* Video id: ZCBoihXzNvU<br> Is hate speech: get all parts separated and cleaned up from the parts lambo...,..... so that if someone needs something u have it separated for them and ready to install...(like and elder brother) it would be a help for others new builders .... like you are making first ever lambo rebuild video..."
      ],
      "text/plain": [
       "<IPython.core.display.Markdown object>"
      ]
     },
     "metadata": {},
     "output_type": "display_data"
    },
    {
     "data": {
      "text/markdown": [
       "* Video id: ZCBoihXzNvU<br> Is hate speech: In 20 years you guys are going to be laughing your ass off when you watch all the duuuudes, siiiiickkkkkks and leggggggits"
      ],
      "text/plain": [
       "<IPython.core.display.Markdown object>"
      ]
     },
     "metadata": {},
     "output_type": "display_data"
    },
    {
     "data": {
      "text/markdown": [
       "* Video id: ZCBoihXzNvU<br> Is hate speech: Tig welding - Music, relax, breathe, be one with the moment. Melt that shit like butter."
      ],
      "text/plain": [
       "<IPython.core.display.Markdown object>"
      ]
     },
     "metadata": {},
     "output_type": "display_data"
    },
    {
     "data": {
      "text/markdown": [
       "* Video id: ZCBoihXzNvU<br> Is hate speech: Most people don&#39;t realise but aluminium oxidizes. Not like steel but old aluminium (I.e. not new) will have small indents full of oxidized aluminium which new aluminium won&#39;t stick to. So before you can weld to aluminium you need to clean that oxidisation off. There&#39;s products like alibrite that will actually eat into the aluminium a microscopic amount and remove any impurities. Another method is grinding but you need to go in deep enough to get to the bottom of the holes. Usually a combination of grinding and acetone is enough to prep aluminium for welding but it&#39;s still not an easy process. Tig welding is like rubbing your tummy and parting you head but add in stomping your foot swaying your hips"
      ],
      "text/plain": [
       "<IPython.core.display.Markdown object>"
      ]
     },
     "metadata": {},
     "output_type": "display_data"
    },
    {
     "data": {
      "text/markdown": [
       "* Video id: ZCBoihXzNvU<br> Is hate speech: Get the engine out"
      ],
      "text/plain": [
       "<IPython.core.display.Markdown object>"
      ]
     },
     "metadata": {},
     "output_type": "display_data"
    },
    {
     "data": {
      "text/markdown": [
       "* Video id: ZCBoihXzNvU<br> Is hate speech: If your not using 100% argon and a tig welder with high frequency you wont be able to weld aluminum it has to get super hot to be able to weld"
      ],
      "text/plain": [
       "<IPython.core.display.Markdown object>"
      ]
     },
     "metadata": {},
     "output_type": "display_data"
    },
    {
     "data": {
      "text/markdown": [
       "* Video id: ZCBoihXzNvU<br> Is hate speech: Great work guys, maybe get a professional welder like Tavarish did."
      ],
      "text/plain": [
       "<IPython.core.display.Markdown object>"
      ]
     },
     "metadata": {},
     "output_type": "display_data"
    },
    {
     "data": {
      "text/markdown": [
       "* Video id: 15odjKT7MPA<br> Is hate speech: What channel is the English version on?? I hate the Spanish commentator"
      ],
      "text/plain": [
       "<IPython.core.display.Markdown object>"
      ]
     },
     "metadata": {},
     "output_type": "display_data"
    },
    {
     "data": {
      "text/markdown": [
       "* Video id: 15odjKT7MPA<br> Is hate speech: Im a Juventus fan but Ajax shouldve won"
      ],
      "text/plain": [
       "<IPython.core.display.Markdown object>"
      ]
     },
     "metadata": {},
     "output_type": "display_data"
    },
    {
     "data": {
      "text/markdown": [
       "* Video id: 15odjKT7MPA<br> Is hate speech: I hate Ajax, but mostly because of De Jong, he&#39;s always talking trash about other teams. Probably why he&#39;s going to Barca to join Pique."
      ],
      "text/plain": [
       "<IPython.core.display.Markdown object>"
      ]
     },
     "metadata": {},
     "output_type": "display_data"
    },
    {
     "data": {
      "text/markdown": [
       "* Video id: 15odjKT7MPA<br> Is hate speech: Lol ajax freakin played rondo with those boys"
      ],
      "text/plain": [
       "<IPython.core.display.Markdown object>"
      ]
     },
     "metadata": {},
     "output_type": "display_data"
    },
    {
     "data": {
      "text/markdown": [
       "* Video id: 15odjKT7MPA<br> Is hate speech: I like when Ronaldo scores the fans behind him are like all on there phones"
      ],
      "text/plain": [
       "<IPython.core.display.Markdown object>"
      ]
     },
     "metadata": {},
     "output_type": "display_data"
    },
    {
     "data": {
      "text/markdown": [
       "* Video id: 15odjKT7MPA<br> Is hate speech: Im a messi fan but ronaldo scoring makes me happy"
      ],
      "text/plain": [
       "<IPython.core.display.Markdown object>"
      ]
     },
     "metadata": {},
     "output_type": "display_data"
    },
    {
     "data": {
      "text/markdown": [
       "* Video id: 15odjKT7MPA<br> Is hate speech: people  throwing bottles and stuff at the players should die a slow painful death and their mothers too."
      ],
      "text/plain": [
       "<IPython.core.display.Markdown object>"
      ]
     },
     "metadata": {},
     "output_type": "display_data"
    },
    {
     "data": {
      "text/markdown": [
       "* Video id: 15odjKT7MPA<br> Is hate speech: Why are teams so stupid you have to man mark players like Messi and Ronaldo to stop them, that goal he scored they were just watching the ball smh"
      ],
      "text/plain": [
       "<IPython.core.display.Markdown object>"
      ]
     },
     "metadata": {},
     "output_type": "display_data"
    },
    {
     "data": {
      "text/markdown": [
       "* Video id: 15odjKT7MPA<br> Is hate speech: Great Game............Juventus  didn&#39;t pay at their best. Don&#39;t know what happend they let Ajax build up at the post so many time. Juventus got lucky today not to get so many goals. They have to get position and control the ball in the mid-field to make a counter attack. Juventus has to step up their game if want to win in the future. Go Juventus!!!! Looking forward more goals from CR7"
      ],
      "text/plain": [
       "<IPython.core.display.Markdown object>"
      ]
     },
     "metadata": {},
     "output_type": "display_data"
    },
    {
     "data": {
      "text/markdown": [
       "* Video id: 15odjKT7MPA<br> Is hate speech: Ajax played in its home.. they will see the hell in torin."
      ],
      "text/plain": [
       "<IPython.core.display.Markdown object>"
      ]
     },
     "metadata": {},
     "output_type": "display_data"
    },
    {
     "data": {
      "text/markdown": [
       "* Video id: 15odjKT7MPA<br> Is hate speech: Im dead."
      ],
      "text/plain": [
       "<IPython.core.display.Markdown object>"
      ]
     },
     "metadata": {},
     "output_type": "display_data"
    },
    {
     "data": {
      "text/markdown": [
       "* Video id: pAoEHR4aW8I<br> Is hate speech: So? You didn&#39;t say why the photo is such a big deal. What happens now? We have an image of a black hole what&#39;s the implication? Why this big fuss? Oh look we have a vague blurry orange shape of a picture, now what?"
      ],
      "text/plain": [
       "<IPython.core.display.Markdown object>"
      ]
     },
     "metadata": {},
     "output_type": "display_data"
    },
    {
     "data": {
      "text/markdown": [
       "* Video id: pAoEHR4aW8I<br> Is hate speech: The creation of God is Amazing. Humans can only get a glimpse "
      ],
      "text/plain": [
       "<IPython.core.display.Markdown object>"
      ]
     },
     "metadata": {},
     "output_type": "display_data"
    },
    {
     "data": {
      "text/markdown": [
       "* Video id: pAoEHR4aW8I<br> Is hate speech: How can u watch this and believe in the big bang"
      ],
      "text/plain": [
       "<IPython.core.display.Markdown object>"
      ]
     },
     "metadata": {},
     "output_type": "display_data"
    },
    {
     "data": {
      "text/markdown": [
       "* Video id: pAoEHR4aW8I<br> Is hate speech: Are we all going to die?"
      ],
      "text/plain": [
       "<IPython.core.display.Markdown object>"
      ]
     },
     "metadata": {},
     "output_type": "display_data"
    },
    {
     "data": {
      "text/markdown": [
       "* Video id: pAoEHR4aW8I<br> Is hate speech: I wonder if the black holes purpose is to get rid of all the trash in the universe, or is it to take in giant asteroids that could be a threat to earth, I feel like there&#39;s a purpose for them, but I don&#39;t know what"
      ],
      "text/plain": [
       "<IPython.core.display.Markdown object>"
      ]
     },
     "metadata": {},
     "output_type": "display_data"
    },
    {
     "data": {
      "text/markdown": [
       "* Video id: pAoEHR4aW8I<br> Is hate speech: <a href=\"https://www.youtube.com/watch?v=pAoEHR4aW8I&amp;t=2m40s\">2:40</a> ... I hate my dirty mind"
      ],
      "text/plain": [
       "<IPython.core.display.Markdown object>"
      ]
     },
     "metadata": {},
     "output_type": "display_data"
    },
    {
     "data": {
      "text/markdown": [
       "* Video id: pAoEHR4aW8I<br> Is hate speech: It looks like a donout"
      ],
      "text/plain": [
       "<IPython.core.display.Markdown object>"
      ]
     },
     "metadata": {},
     "output_type": "display_data"
    },
    {
     "data": {
      "text/markdown": [
       "* Video id: pAoEHR4aW8I<br> Is hate speech: To me it looks like the devil&#39;s eye"
      ],
      "text/plain": [
       "<IPython.core.display.Markdown object>"
      ]
     },
     "metadata": {},
     "output_type": "display_data"
    },
    {
     "data": {
      "text/markdown": [
       "* Video id: pAoEHR4aW8I<br> Is hate speech: First image of a black hole enhanced looks like    God: GOT EM"
      ],
      "text/plain": [
       "<IPython.core.display.Markdown object>"
      ]
     },
     "metadata": {},
     "output_type": "display_data"
    },
    {
     "data": {
      "text/markdown": [
       "* Video id: pAoEHR4aW8I<br> Is hate speech: 2 mill people saw this and Im a day late. Dont forget me guys"
      ],
      "text/plain": [
       "<IPython.core.display.Markdown object>"
      ]
     },
     "metadata": {},
     "output_type": "display_data"
    },
    {
     "data": {
      "text/markdown": [
       "* Video id: pAoEHR4aW8I<br> Is hate speech: Just another CGI image just like everything they throw at us."
      ],
      "text/plain": [
       "<IPython.core.display.Markdown object>"
      ]
     },
     "metadata": {},
     "output_type": "display_data"
    },
    {
     "data": {
      "text/markdown": [
       "* Video id: pAoEHR4aW8I<br> Is hate speech: Looks like a melting fruit loops."
      ],
      "text/plain": [
       "<IPython.core.display.Markdown object>"
      ]
     },
     "metadata": {},
     "output_type": "display_data"
    },
    {
     "data": {
      "text/markdown": [
       "* Video id: pAoEHR4aW8I<br> Is hate speech: Ur moma so fat she cant fit in a black hole."
      ],
      "text/plain": [
       "<IPython.core.display.Markdown object>"
      ]
     },
     "metadata": {},
     "output_type": "display_data"
    },
    {
     "data": {
      "text/markdown": [
       "* Video id: pAoEHR4aW8I<br> Is hate speech: Now we can have people argue that blackholes are flat. Just like earth."
      ],
      "text/plain": [
       "<IPython.core.display.Markdown object>"
      ]
     },
     "metadata": {},
     "output_type": "display_data"
    },
    {
     "data": {
      "text/markdown": [
       "* Video id: RQOhAeNAjKc<br> Is hate speech: OH MY GOD IM DYING FROM THIS VID that was EPIC!"
      ],
      "text/plain": [
       "<IPython.core.display.Markdown object>"
      ]
     },
     "metadata": {},
     "output_type": "display_data"
    },
    {
     "data": {
      "text/markdown": [
       "* Video id: RQOhAeNAjKc<br> Is hate speech: Oh, man what a comeback"
      ],
      "text/plain": [
       "<IPython.core.display.Markdown object>"
      ]
     },
     "metadata": {},
     "output_type": "display_data"
    },
    {
     "data": {
      "text/markdown": [
       "* Video id: RQOhAeNAjKc<br> Is hate speech: Brad looks like a minion"
      ],
      "text/plain": [
       "<IPython.core.display.Markdown object>"
      ]
     },
     "metadata": {},
     "output_type": "display_data"
    },
    {
     "data": {
      "text/markdown": [
       "* Video id: RQOhAeNAjKc<br> Is hate speech: Im SO gonna make this focaccia!!! Brad feat. anyone is just pure awesomeness! I love him!"
      ],
      "text/plain": [
       "<IPython.core.display.Markdown object>"
      ]
     },
     "metadata": {},
     "output_type": "display_data"
    },
    {
     "data": {
      "text/markdown": [
       "* Video id: RQOhAeNAjKc<br> Is hate speech: You guys really HATE your ovens. Maybe you could enlighten us about the brands you like and the ones you will NEVER buy again?"
      ],
      "text/plain": [
       "<IPython.core.display.Markdown object>"
      ]
     },
     "metadata": {},
     "output_type": "display_data"
    },
    {
     "data": {
      "text/markdown": [
       "* Video id: RQOhAeNAjKc<br> Is hate speech: The sequel to salt, fat, acid, heat better be called salt, fat, acid, heat, allicin"
      ],
      "text/plain": [
       "<IPython.core.display.Markdown object>"
      ]
     },
     "metadata": {},
     "output_type": "display_data"
    },
    {
     "data": {
      "text/markdown": [
       "* Video id: RQOhAeNAjKc<br> Is hate speech: Samin and Brad make a dynamic duo! And the editing! Oh, man. It&#39;s Alive is so much more alive now "
      ],
      "text/plain": [
       "<IPython.core.display.Markdown object>"
      ]
     },
     "metadata": {},
     "output_type": "display_data"
    },
    {
     "data": {
      "text/markdown": [
       "* Video id: RQOhAeNAjKc<br> Is hate speech: I threw my phone across to the room trying to get to 3dotdesign. Worth it."
      ],
      "text/plain": [
       "<IPython.core.display.Markdown object>"
      ]
     },
     "metadata": {},
     "output_type": "display_data"
    },
    {
     "data": {
      "text/markdown": [
       "* Video id: MFPjygCuYrE<br> Is hate speech: On the thumbnail it looks like a xenomorph"
      ],
      "text/plain": [
       "<IPython.core.display.Markdown object>"
      ]
     },
     "metadata": {},
     "output_type": "display_data"
    },
    {
     "data": {
      "text/markdown": [
       "* Video id: MFPjygCuYrE<br> Is hate speech: Them fake throwing up was amazing!! Lol hahahahha"
      ],
      "text/plain": [
       "<IPython.core.display.Markdown object>"
      ]
     },
     "metadata": {},
     "output_type": "display_data"
    },
    {
     "data": {
      "text/markdown": [
       "* Video id: MFPjygCuYrE<br> Is hate speech: I don&#39;t like Jordan. I feel like he&#39;s trying way to hard to be entertaining"
      ],
      "text/plain": [
       "<IPython.core.display.Markdown object>"
      ]
     },
     "metadata": {},
     "output_type": "display_data"
    },
    {
     "data": {
      "text/markdown": [
       "* Video id: MFPjygCuYrE<br> Is hate speech: I kinda want Piganus to come back"
      ],
      "text/plain": [
       "<IPython.core.display.Markdown object>"
      ]
     },
     "metadata": {},
     "output_type": "display_data"
    },
    {
     "data": {
      "text/markdown": [
       "* Video id: MFPjygCuYrE<br> Is hate speech: Emptied the fridge? More like emptied the compost bin "
      ],
      "text/plain": [
       "<IPython.core.display.Markdown object>"
      ]
     },
     "metadata": {},
     "output_type": "display_data"
    },
    {
     "data": {
      "text/markdown": [
       "* Video id: MFPjygCuYrE<br> Is hate speech: People usually say I look like Aria I dont wach game of thrones so I dont know if she looks like me."
      ],
      "text/plain": [
       "<IPython.core.display.Markdown object>"
      ]
     },
     "metadata": {},
     "output_type": "display_data"
    },
    {
     "data": {
      "text/markdown": [
       "* Video id: MFPjygCuYrE<br> Is hate speech: Im so mad that theres no Hotpie Kidney Pies.. Such a good chance for innards too lol"
      ],
      "text/plain": [
       "<IPython.core.display.Markdown object>"
      ]
     },
     "metadata": {},
     "output_type": "display_data"
    },
    {
     "data": {
      "text/markdown": [
       "* Video id: MFPjygCuYrE<br> Is hate speech: I would be extremely careful about eating the brain of anything. That&#39;s how you get a prion disease"
      ],
      "text/plain": [
       "<IPython.core.display.Markdown object>"
      ]
     },
     "metadata": {},
     "output_type": "display_data"
    },
    {
     "data": {
      "text/markdown": [
       "* Video id: MFPjygCuYrE<br> Is hate speech: aaah....did this have an age warning? like im fine to watch but my brothers come across these videos and the red wedding scene is a bit much for them."
      ],
      "text/plain": [
       "<IPython.core.display.Markdown object>"
      ]
     },
     "metadata": {},
     "output_type": "display_data"
    },
    {
     "data": {
      "text/markdown": [
       "* Video id: MFPjygCuYrE<br> Is hate speech: Ive cracked the code. Cotton Candy man is that guy!"
      ],
      "text/plain": [
       "<IPython.core.display.Markdown object>"
      ]
     },
     "metadata": {},
     "output_type": "display_data"
    },
    {
     "data": {
      "text/markdown": [
       "* Video id: MFPjygCuYrE<br> Is hate speech: Damn, I want sum"
      ],
      "text/plain": [
       "<IPython.core.display.Markdown object>"
      ]
     },
     "metadata": {},
     "output_type": "display_data"
    },
    {
     "data": {
      "text/markdown": [
       "* Video id: MFPjygCuYrE<br> Is hate speech: Looks like a Filipino dish diniguan"
      ],
      "text/plain": [
       "<IPython.core.display.Markdown object>"
      ]
     },
     "metadata": {},
     "output_type": "display_data"
    },
    {
     "data": {
      "text/markdown": [
       "* Video id: MFPjygCuYrE<br> Is hate speech: MEMAW TYRELL IM DYING"
      ],
      "text/plain": [
       "<IPython.core.display.Markdown object>"
      ]
     },
     "metadata": {},
     "output_type": "display_data"
    },
    {
     "data": {
      "text/markdown": [
       "* Video id: MFPjygCuYrE<br> Is hate speech: The bowl of brown looks exactly  like the full chamber pot  in the morning. Do they just recycle it endlessly?"
      ],
      "text/plain": [
       "<IPython.core.display.Markdown object>"
      ]
     },
     "metadata": {},
     "output_type": "display_data"
    },
    {
     "data": {
      "text/markdown": [
       "* Video id: MFPjygCuYrE<br> Is hate speech: When he dinked that damn goat leg "
      ],
      "text/plain": [
       "<IPython.core.display.Markdown object>"
      ]
     },
     "metadata": {},
     "output_type": "display_data"
    },
    {
     "data": {
      "text/markdown": [
       "* Video id: MFPjygCuYrE<br> Is hate speech: Please dont ever retire"
      ],
      "text/plain": [
       "<IPython.core.display.Markdown object>"
      ]
     },
     "metadata": {},
     "output_type": "display_data"
    },
    {
     "data": {
      "text/markdown": [
       "* Video id: MFPjygCuYrE<br> Is hate speech: ...I feel like puking over just the bowl o&#39; brown"
      ],
      "text/plain": [
       "<IPython.core.display.Markdown object>"
      ]
     },
     "metadata": {},
     "output_type": "display_data"
    },
    {
     "data": {
      "text/markdown": [
       "* Video id: 29Uy9z0lzcw<br> Is hate speech: Like if youre hungry now :("
      ],
      "text/plain": [
       "<IPython.core.display.Markdown object>"
      ]
     },
     "metadata": {},
     "output_type": "display_data"
    },
    {
     "data": {
      "text/markdown": [
       "* Video id: 29Uy9z0lzcw<br> Is hate speech: 5 ads on 1 stupid video unsubscribed"
      ],
      "text/plain": [
       "<IPython.core.display.Markdown object>"
      ]
     },
     "metadata": {},
     "output_type": "display_data"
    },
    {
     "data": {
      "text/markdown": [
       "* Video id: 29Uy9z0lzcw<br> Is hate speech: Im a fan and likes every vid but I disliked this BECAUSE U COPIED DUDEPERFECT"
      ],
      "text/plain": [
       "<IPython.core.display.Markdown object>"
      ]
     },
     "metadata": {},
     "output_type": "display_data"
    },
    {
     "data": {
      "text/markdown": [
       "* Video id: 29Uy9z0lzcw<br> Is hate speech: Id rather watch GMM. Fuck you poser"
      ],
      "text/plain": [
       "<IPython.core.display.Markdown object>"
      ]
     },
     "metadata": {},
     "output_type": "display_data"
    },
    {
     "data": {
      "text/markdown": [
       "* Video id: 29Uy9z0lzcw<br> Is hate speech: Am I the only one notice shes kinda starting to dress like molly eskam?"
      ],
      "text/plain": [
       "<IPython.core.display.Markdown object>"
      ]
     },
     "metadata": {},
     "output_type": "display_data"
    },
    {
     "data": {
      "text/markdown": [
       "* Video id: 29Uy9z0lzcw<br> Is hate speech: <a href=\"https://www.youtube.com/watch?v=29Uy9z0lzcw&amp;t=12m51s\">12:51</a> yeah because Im gonna tell him through the phone screen."
      ],
      "text/plain": [
       "<IPython.core.display.Markdown object>"
      ]
     },
     "metadata": {},
     "output_type": "display_data"
    },
    {
     "data": {
      "text/markdown": [
       "* Video id: 29Uy9z0lzcw<br> Is hate speech: I can&#39;t stand her constant wiggling! Looks like she has something wrong with her!"
      ],
      "text/plain": [
       "<IPython.core.display.Markdown object>"
      ]
     },
     "metadata": {},
     "output_type": "display_data"
    },
    {
     "data": {
      "text/markdown": [
       "* Video id: 29Uy9z0lzcw<br> Is hate speech: yall should get back together"
      ],
      "text/plain": [
       "<IPython.core.display.Markdown object>"
      ]
     },
     "metadata": {},
     "output_type": "display_data"
    },
    {
     "data": {
      "text/markdown": [
       "* Video id: 29Uy9z0lzcw<br> Is hate speech: Big Shut up you YouTube ugly ass fuck who played in my heart and I want you to say fuck you bitch you should go to jail suck a big dick cuz I&#39;m freaking trying to help to you Rebecca try to help you cuz I cheat when we go after you and now I see twin changing it she&#39;s back out to Danielle and now you watch your back Rebecca superbrothers 7 Galaxy to do a collab with you that&#39;s all I could say watch Rebecca&#39;s Channel react to it"
      ],
      "text/plain": [
       "<IPython.core.display.Markdown object>"
      ]
     },
     "metadata": {},
     "output_type": "display_data"
    },
    {
     "data": {
      "text/markdown": [
       "* Video id: 29Uy9z0lzcw<br> Is hate speech: How much views this video can get 2m = like  4m  = comment"
      ],
      "text/plain": [
       "<IPython.core.display.Markdown object>"
      ]
     },
     "metadata": {},
     "output_type": "display_data"
    },
    {
     "data": {
      "text/markdown": [
       "* Video id: 29Uy9z0lzcw<br> Is hate speech: Should have put Minecraft eating sounds when yall ate. Lol"
      ],
      "text/plain": [
       "<IPython.core.display.Markdown object>"
      ]
     },
     "metadata": {},
     "output_type": "display_data"
    },
    {
     "data": {
      "text/markdown": [
       "* Video id: 29Uy9z0lzcw<br> Is hate speech: IM THE MILLIONTH SUB OMG"
      ],
      "text/plain": [
       "<IPython.core.display.Markdown object>"
      ]
     },
     "metadata": {},
     "output_type": "display_data"
    },
    {
     "data": {
      "text/markdown": [
       "* Video id: 29Uy9z0lzcw<br> Is hate speech: Ur ugly as fuck"
      ],
      "text/plain": [
       "<IPython.core.display.Markdown object>"
      ]
     },
     "metadata": {},
     "output_type": "display_data"
    },
    {
     "data": {
      "text/markdown": [
       "* Video id: 29Uy9z0lzcw<br> Is hate speech: U know rug stick looking ass did not eat all of that food"
      ],
      "text/plain": [
       "<IPython.core.display.Markdown object>"
      ]
     },
     "metadata": {},
     "output_type": "display_data"
    },
    {
     "data": {
      "text/markdown": [
       "* Video id: 29Uy9z0lzcw<br> Is hate speech: Is it just me or is she pale as fuck out here lookin like a ghost"
      ],
      "text/plain": [
       "<IPython.core.display.Markdown object>"
      ]
     },
     "metadata": {},
     "output_type": "display_data"
    },
    {
     "data": {
      "text/markdown": [
       "* Video id: 29Uy9z0lzcw<br> Is hate speech: That girl looks like a dude lol shes ugly af!"
      ],
      "text/plain": [
       "<IPython.core.display.Markdown object>"
      ]
     },
     "metadata": {},
     "output_type": "display_data"
    },
    {
     "data": {
      "text/markdown": [
       "* Video id: 29Uy9z0lzcw<br> Is hate speech: Ewww the thumbnail has me throwing up she looks like a pig"
      ],
      "text/plain": [
       "<IPython.core.display.Markdown object>"
      ]
     },
     "metadata": {},
     "output_type": "display_data"
    },
    {
     "data": {
      "text/markdown": [
       "* Video id: 29Uy9z0lzcw<br> Is hate speech: We like molly better"
      ],
      "text/plain": [
       "<IPython.core.display.Markdown object>"
      ]
     },
     "metadata": {},
     "output_type": "display_data"
    },
    {
     "data": {
      "text/markdown": [
       "* Video id: 29Uy9z0lzcw<br> Is hate speech: I HATE KAYLEN&#39;S SMILE!!"
      ],
      "text/plain": [
       "<IPython.core.display.Markdown object>"
      ]
     },
     "metadata": {},
     "output_type": "display_data"
    },
    {
     "data": {
      "text/markdown": [
       "* Video id: 29Uy9z0lzcw<br> Is hate speech: Big up San Diego! Whoop whoop"
      ],
      "text/plain": [
       "<IPython.core.display.Markdown object>"
      ]
     },
     "metadata": {},
     "output_type": "display_data"
    },
    {
     "data": {
      "text/markdown": [
       "* Video id: 29Uy9z0lzcw<br> Is hate speech: Im going to make a salad after watching this?"
      ],
      "text/plain": [
       "<IPython.core.display.Markdown object>"
      ]
     },
     "metadata": {},
     "output_type": "display_data"
    },
    {
     "data": {
      "text/markdown": [
       "* Video id: 29Uy9z0lzcw<br> Is hate speech: The mexican crackhead and the ugly bitch with horse teeth "
      ],
      "text/plain": [
       "<IPython.core.display.Markdown object>"
      ]
     },
     "metadata": {},
     "output_type": "display_data"
    },
    {
     "data": {
      "text/markdown": [
       "* Video id: 29Uy9z0lzcw<br> Is hate speech: YOU DONT DISRESPECT IN N OUT LIKE THAT! Amen brotha"
      ],
      "text/plain": [
       "<IPython.core.display.Markdown object>"
      ]
     },
     "metadata": {},
     "output_type": "display_data"
    },
    {
     "data": {
      "text/markdown": [
       "* Video id: 29Uy9z0lzcw<br> Is hate speech: Im sorry, but her body is weird like her upper body is fat and her lower body is skinny "
      ],
      "text/plain": [
       "<IPython.core.display.Markdown object>"
      ]
     },
     "metadata": {},
     "output_type": "display_data"
    },
    {
     "data": {
      "text/markdown": [
       "* Video id: 29Uy9z0lzcw<br> Is hate speech: She scared the fuck out of me"
      ],
      "text/plain": [
       "<IPython.core.display.Markdown object>"
      ]
     },
     "metadata": {},
     "output_type": "display_data"
    },
    {
     "data": {
      "text/markdown": [
       "* Video id: 29Uy9z0lzcw<br> Is hate speech: Such a bland video over done ass content"
      ],
      "text/plain": [
       "<IPython.core.display.Markdown object>"
      ]
     },
     "metadata": {},
     "output_type": "display_data"
    },
    {
     "data": {
      "text/markdown": [
       "* Video id: 29Uy9z0lzcw<br> Is hate speech: this bitch such a teacher ugly ass gtfo"
      ],
      "text/plain": [
       "<IPython.core.display.Markdown object>"
      ]
     },
     "metadata": {},
     "output_type": "display_data"
    },
    {
     "data": {
      "text/markdown": [
       "* Video id: 29Uy9z0lzcw<br> Is hate speech: This guy is a dick"
      ],
      "text/plain": [
       "<IPython.core.display.Markdown object>"
      ]
     },
     "metadata": {},
     "output_type": "display_data"
    },
    {
     "data": {
      "text/markdown": [
       "* Video id: W_VzAap2vl0<br> Is hate speech: jenny from the rich block"
      ],
      "text/plain": [
       "<IPython.core.display.Markdown object>"
      ]
     },
     "metadata": {},
     "output_type": "display_data"
    },
    {
     "data": {
      "text/markdown": [
       "* Video id: W_VzAap2vl0<br> Is hate speech: Jenny need to go to Dennys"
      ],
      "text/plain": [
       "<IPython.core.display.Markdown object>"
      ]
     },
     "metadata": {},
     "output_type": "display_data"
    },
    {
     "data": {
      "text/markdown": [
       "* Video id: W_VzAap2vl0<br> Is hate speech: idgaf she can still get some cold pipe. hit me up jen 816.786.42--"
      ],
      "text/plain": [
       "<IPython.core.display.Markdown object>"
      ]
     },
     "metadata": {},
     "output_type": "display_data"
    },
    {
     "data": {
      "text/markdown": [
       "* Video id: W_VzAap2vl0<br> Is hate speech: Lol all the black women in these comments just jealous of a pretty colored woman with lighter skin than them because they know their men like that more."
      ],
      "text/plain": [
       "<IPython.core.display.Markdown object>"
      ]
     },
     "metadata": {},
     "output_type": "display_data"
    },
    {
     "data": {
      "text/markdown": [
       "* Video id: W_VzAap2vl0<br> Is hate speech: Charlagne  looks like a dog in that hood."
      ],
      "text/plain": [
       "<IPython.core.display.Markdown object>"
      ]
     },
     "metadata": {},
     "output_type": "display_data"
    },
    {
     "data": {
      "text/markdown": [
       "* Video id: W_VzAap2vl0<br> Is hate speech: Shes a professional hoe getting passed around by the guys who like to play chess! Little monarch butterfly"
      ],
      "text/plain": [
       "<IPython.core.display.Markdown object>"
      ]
     },
     "metadata": {},
     "output_type": "display_data"
    },
    {
     "data": {
      "text/markdown": [
       "* Video id: W_VzAap2vl0<br> Is hate speech: &quot;we were kids...&quot; Shut up, Jennifer. Yall dated in 99, thats 20 years ago. You were 30 god damn, years old. You weren&#39;t effing kids LOL qUIT trying to down play it."
      ],
      "text/plain": [
       "<IPython.core.display.Markdown object>"
      ]
     },
     "metadata": {},
     "output_type": "display_data"
    },
    {
     "data": {
      "text/markdown": [
       "* Video id: W_VzAap2vl0<br> Is hate speech: She never ages lol  so pretty"
      ],
      "text/plain": [
       "<IPython.core.display.Markdown object>"
      ]
     },
     "metadata": {},
     "output_type": "display_data"
    },
    {
     "data": {
      "text/markdown": [
       "* Video id: W_VzAap2vl0<br> Is hate speech: I don&#39;t care what Berry or Stevie said! Jenny from the block had no business doing the Motown Tribute."
      ],
      "text/plain": [
       "<IPython.core.display.Markdown object>"
      ]
     },
     "metadata": {},
     "output_type": "display_data"
    },
    {
     "data": {
      "text/markdown": [
       "* Video id: W_VzAap2vl0<br> Is hate speech: Shes bori to the core man"
      ],
      "text/plain": [
       "<IPython.core.display.Markdown object>"
      ]
     },
     "metadata": {},
     "output_type": "display_data"
    },
    {
     "data": {
      "text/markdown": [
       "* Video id: W_VzAap2vl0<br> Is hate speech: damn j lo be takin care of her body really well. even lindsay lohan looks older than her."
      ],
      "text/plain": [
       "<IPython.core.display.Markdown object>"
      ]
     },
     "metadata": {},
     "output_type": "display_data"
    },
    {
     "data": {
      "text/markdown": [
       "* Video id: W_VzAap2vl0<br> Is hate speech: I love Jlo, but Alex doesnt love her like she loves him.  Im sure he does love her but he doesnt show it like she does"
      ],
      "text/plain": [
       "<IPython.core.display.Markdown object>"
      ]
     },
     "metadata": {},
     "output_type": "display_data"
    },
    {
     "data": {
      "text/markdown": [
       "* Video id: W_VzAap2vl0<br> Is hate speech: I love Jenny she is so real So human !  Im a long time fan ! Shes beautiful !"
      ],
      "text/plain": [
       "<IPython.core.display.Markdown object>"
      ]
     },
     "metadata": {},
     "output_type": "display_data"
    },
    {
     "data": {
      "text/markdown": [
       "* Video id: W_VzAap2vl0<br> Is hate speech: I ho rehearing the same shit for the 25 th time about marriage."
      ],
      "text/plain": [
       "<IPython.core.display.Markdown object>"
      ]
     },
     "metadata": {},
     "output_type": "display_data"
    },
    {
     "data": {
      "text/markdown": [
       "* Video id: W_VzAap2vl0<br> Is hate speech: Litsen, I would suck her toes for 24 hours and sniff every fart she produces"
      ],
      "text/plain": [
       "<IPython.core.display.Markdown object>"
      ]
     },
     "metadata": {},
     "output_type": "display_data"
    },
    {
     "data": {
      "text/markdown": [
       "* Video id: W_VzAap2vl0<br> Is hate speech: I didnt actually watched this, I hate Charlemagne over there. I just wanted to comment on how much of a 5 course meal JLO is ;)"
      ],
      "text/plain": [
       "<IPython.core.display.Markdown object>"
      ]
     },
     "metadata": {},
     "output_type": "display_data"
    },
    {
     "data": {
      "text/markdown": [
       "* Video id: W_VzAap2vl0<br> Is hate speech: Her ring is so big and heavy, she keeps adjusting it "
      ],
      "text/plain": [
       "<IPython.core.display.Markdown object>"
      ]
     },
     "metadata": {},
     "output_type": "display_data"
    },
    {
     "data": {
      "text/markdown": [
       "* Video id: W_VzAap2vl0<br> Is hate speech:  her when she says my man is Dominican  "
      ],
      "text/plain": [
       "<IPython.core.display.Markdown object>"
      ]
     },
     "metadata": {},
     "output_type": "display_data"
    },
    {
     "data": {
      "text/markdown": [
       "* Video id: W_VzAap2vl0<br> Is hate speech: I hate White Supremacy"
      ],
      "text/plain": [
       "<IPython.core.display.Markdown object>"
      ]
     },
     "metadata": {},
     "output_type": "display_data"
    },
    {
     "data": {
      "text/markdown": [
       "* Video id: W_VzAap2vl0<br> Is hate speech: She old, damn"
      ],
      "text/plain": [
       "<IPython.core.display.Markdown object>"
      ]
     },
     "metadata": {},
     "output_type": "display_data"
    },
    {
     "data": {
      "text/markdown": [
       "* Video id: W_VzAap2vl0<br> Is hate speech: Love how her face lights up when she talks about Alex"
      ],
      "text/plain": [
       "<IPython.core.display.Markdown object>"
      ]
     },
     "metadata": {},
     "output_type": "display_data"
    },
    {
     "data": {
      "text/markdown": [
       "* Video id: KUaVjms6yyY<br> Is hate speech: MELLOGANG FOR LIFE"
      ],
      "text/plain": [
       "<IPython.core.display.Markdown object>"
      ]
     },
     "metadata": {},
     "output_type": "display_data"
    },
    {
     "data": {
      "text/markdown": [
       "* Video id: KUaVjms6yyY<br> Is hate speech: Man :( not early"
      ],
      "text/plain": [
       "<IPython.core.display.Markdown object>"
      ]
     },
     "metadata": {},
     "output_type": "display_data"
    },
    {
     "data": {
      "text/markdown": [
       "* Video id: KUaVjms6yyY<br> Is hate speech: Like 164.098"
      ],
      "text/plain": [
       "<IPython.core.display.Markdown object>"
      ]
     },
     "metadata": {},
     "output_type": "display_data"
    },
    {
     "data": {
      "text/markdown": [
       "* Video id: KUaVjms6yyY<br> Is hate speech: Im a little marshmello"
      ],
      "text/plain": [
       "<IPython.core.display.Markdown object>"
      ]
     },
     "metadata": {},
     "output_type": "display_data"
    },
    {
     "data": {
      "text/markdown": [
       "* Video id: KUaVjms6yyY<br> Is hate speech: Whos better Marshmello:Like Deadmau5: Reply"
      ],
      "text/plain": [
       "<IPython.core.display.Markdown object>"
      ]
     },
     "metadata": {},
     "output_type": "display_data"
    },
    {
     "data": {
      "text/markdown": [
       "* Video id: KUaVjms6yyY<br> Is hate speech: Hmmmm mirshmello likes fortnite.......alan walker likes pubg ..............who is betterboth of them lol i like pubg and fortnite"
      ],
      "text/plain": [
       "<IPython.core.display.Markdown object>"
      ]
     },
     "metadata": {},
     "output_type": "display_data"
    },
    {
     "data": {
      "text/markdown": [
       "* Video id: KUaVjms6yyY<br> Is hate speech: Get a job"
      ],
      "text/plain": [
       "<IPython.core.display.Markdown object>"
      ]
     },
     "metadata": {},
     "output_type": "display_data"
    },
    {
     "data": {
      "text/markdown": [
       "* Video id: KUaVjms6yyY<br> Is hate speech: The bed/sofa/chair is lava    5 4 3 2 1  ~like if you were too lazy to get up~ "
      ],
      "text/plain": [
       "<IPython.core.display.Markdown object>"
      ]
     },
     "metadata": {},
     "output_type": "display_data"
    },
    {
     "data": {
      "text/markdown": [
       "* Video id: KUaVjms6yyY<br> Is hate speech: Marshmello please go israel"
      ],
      "text/plain": [
       "<IPython.core.display.Markdown object>"
      ]
     },
     "metadata": {},
     "output_type": "display_data"
    },
    {
     "data": {
      "text/markdown": [
       "* Video id: KUaVjms6yyY<br> Is hate speech: Big fan"
      ],
      "text/plain": [
       "<IPython.core.display.Markdown object>"
      ]
     },
     "metadata": {},
     "output_type": "display_data"
    },
    {
     "data": {
      "text/markdown": [
       "* Video id: nwLxTWzvSkw<br> Is hate speech: Yooooo, when Eugene said Alexa, Im home MY Alexa turned on and responded with well hello Im happy ur here! Ive never been so scared and confused in my life."
      ],
      "text/plain": [
       "<IPython.core.display.Markdown object>"
      ]
     },
     "metadata": {},
     "output_type": "display_data"
    },
    {
     "data": {
      "text/markdown": [
       "* Video id: nwLxTWzvSkw<br> Is hate speech: Everyone deserves respect therefor give respect to get respect, problem is older people in my personal experience forget that and thats not how it works! Also its hard living with a disability at my age it seems like it will be hell if and when I get old. Thanks for the grim look at my future... "
      ],
      "text/plain": [
       "<IPython.core.display.Markdown object>"
      ]
     },
     "metadata": {},
     "output_type": "display_data"
    },
    {
     "data": {
      "text/markdown": [
       "* Video id: nwLxTWzvSkw<br> Is hate speech: im in my mid 20s yet half of this shit is my daily life. Oh chronic illness you really have made me an old lady"
      ],
      "text/plain": [
       "<IPython.core.display.Markdown object>"
      ]
     },
     "metadata": {},
     "output_type": "display_data"
    },
    {
     "data": {
      "text/markdown": [
       "* Video id: nwLxTWzvSkw<br> Is hate speech: I like u crocs"
      ],
      "text/plain": [
       "<IPython.core.display.Markdown object>"
      ]
     },
     "metadata": {},
     "output_type": "display_data"
    },
    {
     "data": {
      "text/markdown": [
       "* Video id: nwLxTWzvSkw<br> Is hate speech: I don&#39;t like it"
      ],
      "text/plain": [
       "<IPython.core.display.Markdown object>"
      ]
     },
     "metadata": {},
     "output_type": "display_data"
    },
    {
     "data": {
      "text/markdown": [
       "* Video id: nwLxTWzvSkw<br> Is hate speech: That guy is just tryna make life easier for himself hes damn near 60 lmaoo"
      ],
      "text/plain": [
       "<IPython.core.display.Markdown object>"
      ]
     },
     "metadata": {},
     "output_type": "display_data"
    },
    {
     "data": {
      "text/markdown": [
       "* Video id: nwLxTWzvSkw<br> Is hate speech: Idek how to react around the elderly sometimes because Im terrified the generational gap with make them judge me"
      ],
      "text/plain": [
       "<IPython.core.display.Markdown object>"
      ]
     },
     "metadata": {},
     "output_type": "display_data"
    },
    {
     "data": {
      "text/markdown": [
       "* Video id: nwLxTWzvSkw<br> Is hate speech: They should of got a energetic old person to show that not all old people act &quot;old&quot;. Some of them go out, do light sports or go to the gym, run, bike, swim, go hiking, orrr work as many people 60+ still arent retired or dont want to retire."
      ],
      "text/plain": [
       "<IPython.core.display.Markdown object>"
      ]
     },
     "metadata": {},
     "output_type": "display_data"
    },
    {
     "data": {
      "text/markdown": [
       "* Video id: nwLxTWzvSkw<br> Is hate speech: Eugene stop talking to my Alexa"
      ],
      "text/plain": [
       "<IPython.core.display.Markdown object>"
      ]
     },
     "metadata": {},
     "output_type": "display_data"
    },
    {
     "data": {
      "text/markdown": [
       "* Video id: nwLxTWzvSkw<br> Is hate speech: Try being chronically ill. I&#39;m 21 but yet have the body of an 80-year-old that I get to have for the rest of my life."
      ],
      "text/plain": [
       "<IPython.core.display.Markdown object>"
      ]
     },
     "metadata": {},
     "output_type": "display_data"
    },
    {
     "data": {
      "text/markdown": [
       "* Video id: nwLxTWzvSkw<br> Is hate speech: im not even 3 minutes but i feel like eugene will have a lot of fun when he gets old"
      ],
      "text/plain": [
       "<IPython.core.display.Markdown object>"
      ]
     },
     "metadata": {},
     "output_type": "display_data"
    },
    {
     "data": {
      "text/markdown": [
       "* Video id: nwLxTWzvSkw<br> Is hate speech: Ok this was dumb and that bald guy has no idea what he&#39;s talking about half the time he&#39;s speaking out of his ass if old age is made up why would he make a suit that makes you old ? If your old fuck off your time is down your to weak to do heavy lifting your to fragile to do real work of your in a job that&#39;s easy going and slow pacing then fine go ahead work in a call center but stay out of the hard working environment your only slowing us down boomer"
      ],
      "text/plain": [
       "<IPython.core.display.Markdown object>"
      ]
     },
     "metadata": {},
     "output_type": "display_data"
    },
    {
     "data": {
      "text/markdown": [
       "* Video id: nwLxTWzvSkw<br> Is hate speech: Lol I love miles"
      ],
      "text/plain": [
       "<IPython.core.display.Markdown object>"
      ]
     },
     "metadata": {},
     "output_type": "display_data"
    },
    {
     "data": {
      "text/markdown": [
       "* Video id: nwLxTWzvSkw<br> Is hate speech: Why do I find Ned so attractive. And Im a straight dude."
      ],
      "text/plain": [
       "<IPython.core.display.Markdown object>"
      ]
     },
     "metadata": {},
     "output_type": "display_data"
    },
    {
     "data": {
      "text/markdown": [
       "* Video id: nwLxTWzvSkw<br> Is hate speech: So essentially its selfish. Were doing this so when we get old we have better things"
      ],
      "text/plain": [
       "<IPython.core.display.Markdown object>"
      ]
     },
     "metadata": {},
     "output_type": "display_data"
    },
    {
     "data": {
      "text/markdown": [
       "* Video id: nwLxTWzvSkw<br> Is hate speech: But its not like once you get old these things instantly happen to you, it takes time for your body to wear down so obviously once youre old youd be used to it"
      ],
      "text/plain": [
       "<IPython.core.display.Markdown object>"
      ]
     },
     "metadata": {},
     "output_type": "display_data"
    },
    {
     "data": {
      "text/markdown": [
       "* Video id: nwLxTWzvSkw<br> Is hate speech: Petition to get Keith a scooter"
      ],
      "text/plain": [
       "<IPython.core.display.Markdown object>"
      ]
     },
     "metadata": {},
     "output_type": "display_data"
    },
    {
     "data": {
      "text/markdown": [
       "* Video id: D3nT0piQDgA<br> Is hate speech: Is it me or am i hearing a little bit of 2012 Snow that i was jammin in west Texas ???  3 of us of Gringos bumpin your shit in a lowrider limo all the fuck around Midland"
      ],
      "text/plain": [
       "<IPython.core.display.Markdown object>"
      ]
     },
     "metadata": {},
     "output_type": "display_data"
    },
    {
     "data": {
      "text/markdown": [
       "* Video id: D3nT0piQDgA<br> Is hate speech: Good shit"
      ],
      "text/plain": [
       "<IPython.core.display.Markdown object>"
      ]
     },
     "metadata": {},
     "output_type": "display_data"
    },
    {
     "data": {
      "text/markdown": [
       "* Video id: D3nT0piQDgA<br> Is hate speech: Such a shit!"
      ],
      "text/plain": [
       "<IPython.core.display.Markdown object>"
      ]
     },
     "metadata": {},
     "output_type": "display_data"
    },
    {
     "data": {
      "text/markdown": [
       "* Video id: D3nT0piQDgA<br> Is hate speech: Ooohhhhhhhhh word!!!!! I like this girl."
      ],
      "text/plain": [
       "<IPython.core.display.Markdown object>"
      ]
     },
     "metadata": {},
     "output_type": "display_data"
    },
    {
     "data": {
      "text/markdown": [
       "* Video id: D3nT0piQDgA<br> Is hate speech: Shes pretty as hell"
      ],
      "text/plain": [
       "<IPython.core.display.Markdown object>"
      ]
     },
     "metadata": {},
     "output_type": "display_data"
    },
    {
     "data": {
      "text/markdown": [
       "* Video id: D3nT0piQDgA<br> Is hate speech: SHITS FIRE  PLAY THIS SHIT BACK TO BACK   love yall so much "
      ],
      "text/plain": [
       "<IPython.core.display.Markdown object>"
      ]
     },
     "metadata": {},
     "output_type": "display_data"
    },
    {
     "data": {
      "text/markdown": [
       "* Video id: D3nT0piQDgA<br> Is hate speech: Trending on YouTube??? FUCK YES!"
      ],
      "text/plain": [
       "<IPython.core.display.Markdown object>"
      ]
     },
     "metadata": {},
     "output_type": "display_data"
    },
    {
     "data": {
      "text/markdown": [
       "* Video id: D3nT0piQDgA<br> Is hate speech: Sex Sales"
      ],
      "text/plain": [
       "<IPython.core.display.Markdown object>"
      ]
     },
     "metadata": {},
     "output_type": "display_data"
    },
    {
     "data": {
      "text/markdown": [
       "* Video id: D3nT0piQDgA<br> Is hate speech: fuck yeah this is sick love this track!!!"
      ],
      "text/plain": [
       "<IPython.core.display.Markdown object>"
      ]
     },
     "metadata": {},
     "output_type": "display_data"
    },
    {
     "data": {
      "text/markdown": [
       "* Video id: D3nT0piQDgA<br> Is hate speech: Damn you and your girl sexy af!!"
      ],
      "text/plain": [
       "<IPython.core.display.Markdown object>"
      ]
     },
     "metadata": {},
     "output_type": "display_data"
    },
    {
     "data": {
      "text/markdown": [
       "* Video id: D3nT0piQDgA<br> Is hate speech: I don&#39;t know anybody in this video, nor do I care to. I guess I&#39;m just going to hate on her by default because I&#39;m getting Team 10 vibes from this."
      ],
      "text/plain": [
       "<IPython.core.display.Markdown object>"
      ]
     },
     "metadata": {},
     "output_type": "display_data"
    },
    {
     "data": {
      "text/markdown": [
       "* Video id: D3nT0piQDgA<br> Is hate speech: Ur in LA BiCh its a SHTHOLE im in AUSTRALIA BICH"
      ],
      "text/plain": [
       "<IPython.core.display.Markdown object>"
      ]
     },
     "metadata": {},
     "output_type": "display_data"
    },
    {
     "data": {
      "text/markdown": [
       "* Video id: D3nT0piQDgA<br> Is hate speech: oh shit reverie"
      ],
      "text/plain": [
       "<IPython.core.display.Markdown object>"
      ]
     },
     "metadata": {},
     "output_type": "display_data"
    },
    {
     "data": {
      "text/markdown": [
       "* Video id: tV1S5mKN_b8<br> Is hate speech: This guy is so fking annoying trying to stay relevant all the time. It must be exhausting"
      ],
      "text/plain": [
       "<IPython.core.display.Markdown object>"
      ]
     },
     "metadata": {},
     "output_type": "display_data"
    },
    {
     "data": {
      "text/markdown": [
       "* Video id: tV1S5mKN_b8<br> Is hate speech: Lmao losers in the black community Scalp funeral tickets. How low can you get ?"
      ],
      "text/plain": [
       "<IPython.core.display.Markdown object>"
      ]
     },
     "metadata": {},
     "output_type": "display_data"
    },
    {
     "data": {
      "text/markdown": [
       "* Video id: tV1S5mKN_b8<br> Is hate speech: I know people think that this guy is a Centrist but there&#39;s no such thing as a Centrist let me make this very clear I&#39;ve lived for about 30 years and I have never once in my entire existence ever found somebody who is a Centrist because they don&#39;t exist this guy&#39;s Audiology is not based in history or common sense he is a communist and a lefty if you want to believe him that&#39;s up to you but it amazes me how many idiots actually like this guy when there are so many great YouTubers out there other than this look up Jefferson Lee and leave this moron in the dust"
      ],
      "text/plain": [
       "<IPython.core.display.Markdown object>"
      ]
     },
     "metadata": {},
     "output_type": "display_data"
    },
    {
     "data": {
      "text/markdown": [
       "* Video id: tV1S5mKN_b8<br> Is hate speech: Simple, tell people if they want to live in new York, they get vaccinated, if they don&#39;t want to be vaccinated, then get out of New York, simple. If you live in a community you have a responsibly to it."
      ],
      "text/plain": [
       "<IPython.core.display.Markdown object>"
      ]
     },
     "metadata": {},
     "output_type": "display_data"
    },
    {
     "data": {
      "text/markdown": [
       "* Video id: tV1S5mKN_b8<br> Is hate speech: Just because one is a nonconformist, it doesnt make him/her an idiot. There is credible research against undisputed vaccination effects. This naturally causes people to be averse towards vaccines in general, including potentially or proven good vaccines. Calling people idiots is wrong, because it automatically belittles them and turns them into voiceless pariahs.   Obs.: Im vaccinated, my wife, and my kids are as well. But, I dont take new vaccines lightly. The test of time is very important to me."
      ],
      "text/plain": [
       "<IPython.core.display.Markdown object>"
      ]
     },
     "metadata": {},
     "output_type": "display_data"
    },
    {
     "data": {
      "text/markdown": [
       "* Video id: tV1S5mKN_b8<br> Is hate speech: Always has the Verizon/Sprint  guy face as his screen cap."
      ],
      "text/plain": [
       "<IPython.core.display.Markdown object>"
      ]
     },
     "metadata": {},
     "output_type": "display_data"
    },
    {
     "data": {
      "text/markdown": [
       "* Video id: tV1S5mKN_b8<br> Is hate speech: Someone needs to find Dr. Andrew Wakefield and slap him for the shit he started with that damn vaccination scare..."
      ],
      "text/plain": [
       "<IPython.core.display.Markdown object>"
      ]
     },
     "metadata": {},
     "output_type": "display_data"
    },
    {
     "data": {
      "text/markdown": [
       "* Video id: tV1S5mKN_b8<br> Is hate speech: <a href=\"https://www.youtube.com/watch?v=tV1S5mKN_b8&amp;t=6m38s\">6:38</a>  I cant stop watching that girl at the left side of theat man, she just looks so done with it, like she is just hoping for this shit to end so she can go back to her regular life."
      ],
      "text/plain": [
       "<IPython.core.display.Markdown object>"
      ]
     },
     "metadata": {},
     "output_type": "display_data"
    },
    {
     "data": {
      "text/markdown": [
       "* Video id: tV1S5mKN_b8<br> Is hate speech: I would like to ask a question to the doctors. If vaccine is suppose to protect and prevent why worry about the one that don&#39;t get vaccinated. I think calling parents that don&#39;t believe that a shot would protect their child  stupid is not the way to do things. If that vaccine can be more harmful than helpful to some people than why. Stop and think if a shot is suppose to protect why not let the ones that is not getting them go thru it. Or is the facts the scientist telling you a lie."
      ],
      "text/plain": [
       "<IPython.core.display.Markdown object>"
      ]
     },
     "metadata": {},
     "output_type": "display_data"
    },
    {
     "data": {
      "text/markdown": [
       "* Video id: tV1S5mKN_b8<br> Is hate speech: man how can ppl sit and hear all this bull shit.."
      ],
      "text/plain": [
       "<IPython.core.display.Markdown object>"
      ]
     },
     "metadata": {},
     "output_type": "display_data"
    },
    {
     "data": {
      "text/markdown": [
       "* Video id: tV1S5mKN_b8<br> Is hate speech: This is America capitalism everything is for sale anytime anywhere anyplace money doesn&#39;t stop and money doesn&#39;t give a goddamn that Nipsey wouldn&#39;t got his dumb ass killed still hanging around gangbangers"
      ],
      "text/plain": [
       "<IPython.core.display.Markdown object>"
      ]
     },
     "metadata": {},
     "output_type": "display_data"
    },
    {
     "data": {
      "text/markdown": [
       "* Video id: tV1S5mKN_b8<br> Is hate speech: South Park had an episode making fun of this back in the late 90&#39;s. Measles parties are stupid, and we have known it&#39;s ineffective for over 20 years of my own life.  Science is your friend.</b>"
      ],
      "text/plain": [
       "<IPython.core.display.Markdown object>"
      ]
     },
     "metadata": {},
     "output_type": "display_data"
    },
    {
     "data": {
      "text/markdown": [
       "* Video id: tV1S5mKN_b8<br> Is hate speech: The blackhole looks like the eyes from the Resident Evil series"
      ],
      "text/plain": [
       "<IPython.core.display.Markdown object>"
      ]
     },
     "metadata": {},
     "output_type": "display_data"
    },
    {
     "data": {
      "text/markdown": [
       "* Video id: tV1S5mKN_b8<br> Is hate speech: dude im telling you J. Star is involved and this is about insurance. you dont just find stolen items in that huge amount in stores like that there&#39;s some serious shady crap happening here"
      ],
      "text/plain": [
       "<IPython.core.display.Markdown object>"
      ]
     },
     "metadata": {},
     "output_type": "display_data"
    },
    {
     "data": {
      "text/markdown": [
       "* Video id: tV1S5mKN_b8<br> Is hate speech: Dangerous disease, lol, so how many of these infected are dying off??? Im sorry but Im not Anti-vax but measles parties did work as the deaths by measles literally dropped to a negligible number after it was discovered cleanliness and proper diet prevented it. My Grandfather was a GP for over 35 years and non of his patients died by measles. End of story. <a href=\"https://youtu.be/eR6NEv6yCEg\">https://youtu.be/eR6NEv6yCEg</a>"
      ],
      "text/plain": [
       "<IPython.core.display.Markdown object>"
      ]
     },
     "metadata": {},
     "output_type": "display_data"
    },
    {
     "data": {
      "text/markdown": [
       "* Video id: tV1S5mKN_b8<br> Is hate speech: That black hole also looks like the eye of forking Sauron."
      ],
      "text/plain": [
       "<IPython.core.display.Markdown object>"
      ]
     },
     "metadata": {},
     "output_type": "display_data"
    },
    {
     "data": {
      "text/markdown": [
       "* Video id: tV1S5mKN_b8<br> Is hate speech: Im surprised that theres no Palestinian people commenting Dont you mean Palestine knowing damn well Palestine dont exist."
      ],
      "text/plain": [
       "<IPython.core.display.Markdown object>"
      ]
     },
     "metadata": {},
     "output_type": "display_data"
    },
    {
     "data": {
      "text/markdown": [
       "* Video id: tV1S5mKN_b8<br> Is hate speech:  This all sounds stupid as an African watching issues in America. You guys are all mad. Advanced as your country is, you&#39;ve antivaxxers.</b>"
      ],
      "text/plain": [
       "<IPython.core.display.Markdown object>"
      ]
     },
     "metadata": {},
     "output_type": "display_data"
    },
    {
     "data": {
      "text/markdown": [
       "* Video id: tV1S5mKN_b8<br> Is hate speech: I thought the black hole looked more like the eye of sauron  from lord of the rings &lt;_&lt;"
      ],
      "text/plain": [
       "<IPython.core.display.Markdown object>"
      ]
     },
     "metadata": {},
     "output_type": "display_data"
    },
    {
     "data": {
      "text/markdown": [
       "* Video id: tV1S5mKN_b8<br> Is hate speech: damn, didnt know jeffery star was so anti-middle class lol"
      ],
      "text/plain": [
       "<IPython.core.display.Markdown object>"
      ]
     },
     "metadata": {},
     "output_type": "display_data"
    },
    {
     "data": {
      "text/markdown": [
       "* Video id: tV1S5mKN_b8<br> Is hate speech: Who is this Jeffrey? Why is he selling weird shit like that and why is anyone buying it?"
      ],
      "text/plain": [
       "<IPython.core.display.Markdown object>"
      ]
     },
     "metadata": {},
     "output_type": "display_data"
    },
    {
     "data": {
      "text/markdown": [
       "* Video id: tV1S5mKN_b8<br> Is hate speech: Why do you call use that ?! Do you hate us"
      ],
      "text/plain": [
       "<IPython.core.display.Markdown object>"
      ]
     },
     "metadata": {},
     "output_type": "display_data"
    },
    {
     "data": {
      "text/markdown": [
       "* Video id: tV1S5mKN_b8<br> Is hate speech: <a href=\"https://www.youtube.com/watch?v=tV1S5mKN_b8&amp;t=5m55s\">5:55</a> I live in Rockland County I didnt even realize this was happening until now. Im scared lol"
      ],
      "text/plain": [
       "<IPython.core.display.Markdown object>"
      ]
     },
     "metadata": {},
     "output_type": "display_data"
    },
    {
     "data": {
      "text/markdown": [
       "* Video id: tV1S5mKN_b8<br> Is hate speech: Holy actually shit. I never actually thought that Jeffrees stolen products would end up in stores. Like what? How did these companies not reach the brand that theyre putting on their shelves."
      ],
      "text/plain": [
       "<IPython.core.display.Markdown object>"
      ]
     },
     "metadata": {},
     "output_type": "display_data"
    },
    {
     "data": {
      "text/markdown": [
       "* Video id: TLhJCerHFAw<br> Is hate speech: Why is she famous? She is so disgusting. I hate her. Gosh. Dotish muddacunt"
      ],
      "text/plain": [
       "<IPython.core.display.Markdown object>"
      ]
     },
     "metadata": {},
     "output_type": "display_data"
    },
    {
     "data": {
      "text/markdown": [
       "* Video id: TLhJCerHFAw<br> Is hate speech: I lost all of my respect for Oprah after she interviewed them liars and gave them a platform and saying this is not about Michael Jackson what the hell...??? Of course its about Michael Jackson you fake woman-they are accusing him of things that you havent even looked into!!! If its not about Michael then why didnt you make a show about your buddy Weinstein or your father!!!!"
      ],
      "text/plain": [
       "<IPython.core.display.Markdown object>"
      ]
     },
     "metadata": {},
     "output_type": "display_data"
    },
    {
     "data": {
      "text/markdown": [
       "* Video id: TLhJCerHFAw<br> Is hate speech: Fuck Oprah"
      ],
      "text/plain": [
       "<IPython.core.display.Markdown object>"
      ]
     },
     "metadata": {},
     "output_type": "display_data"
    },
    {
     "data": {
      "text/markdown": [
       "* Video id: TLhJCerHFAw<br> Is hate speech: That book was amazing! Im going to read it again starting this weekend! Little life reminders"
      ],
      "text/plain": [
       "<IPython.core.display.Markdown object>"
      ]
     },
     "metadata": {},
     "output_type": "display_data"
    },
    {
     "data": {
      "text/markdown": [
       "* Video id: TLhJCerHFAw<br> Is hate speech: <a href=\"https://www.youtube.com/watch?v=TLhJCerHFAw&amp;t=1m21s\">1:21</a> the laugh of a wealthy white guy lol"
      ],
      "text/plain": [
       "<IPython.core.display.Markdown object>"
      ]
     },
     "metadata": {},
     "output_type": "display_data"
    },
    {
     "data": {
      "text/markdown": [
       "* Video id: TLhJCerHFAw<br> Is hate speech: she gonna do you like Michael in a minute."
      ],
      "text/plain": [
       "<IPython.core.display.Markdown object>"
      ]
     },
     "metadata": {},
     "output_type": "display_data"
    },
    {
     "data": {
      "text/markdown": [
       "* Video id: TLhJCerHFAw<br> Is hate speech: Why do people treat her like she is God?"
      ],
      "text/plain": [
       "<IPython.core.display.Markdown object>"
      ]
     },
     "metadata": {},
     "output_type": "display_data"
    },
    {
     "data": {
      "text/markdown": [
       "* Video id: TLhJCerHFAw<br> Is hate speech: Oh look Harvey Weinstein&#39;s best friend who introduced hundreds of girls to Harvey is speaking.  This women is a criminal but the media portrays her like a god mother."
      ],
      "text/plain": [
       "<IPython.core.display.Markdown object>"
      ]
     },
     "metadata": {},
     "output_type": "display_data"
    },
    {
     "data": {
      "text/markdown": [
       "* Video id: TLhJCerHFAw<br> Is hate speech: fuck oprah harpo own nwo harpoon whale ass bitch"
      ],
      "text/plain": [
       "<IPython.core.display.Markdown object>"
      ]
     },
     "metadata": {},
     "output_type": "display_data"
    },
    {
     "data": {
      "text/markdown": [
       "* Video id: TLhJCerHFAw<br> Is hate speech: I see Silky G is getting her 5 minutes of fame! You go girl!!"
      ],
      "text/plain": [
       "<IPython.core.display.Markdown object>"
      ]
     },
     "metadata": {},
     "output_type": "display_data"
    },
    {
     "data": {
      "text/markdown": [
       "* Video id: TLhJCerHFAw<br> Is hate speech: Fuck Oprah..."
      ],
      "text/plain": [
       "<IPython.core.display.Markdown object>"
      ]
     },
     "metadata": {},
     "output_type": "display_data"
    },
    {
     "data": {
      "text/markdown": [
       "* Video id: TLhJCerHFAw<br> Is hate speech: Oprah such a slimy scummy bitch.   Hey Oprah you did a great Hatchet job on Michael where Harvey Weinstein at?"
      ],
      "text/plain": [
       "<IPython.core.display.Markdown object>"
      ]
     },
     "metadata": {},
     "output_type": "display_data"
    },
    {
     "data": {
      "text/markdown": [
       "* Video id: TLhJCerHFAw<br> Is hate speech: Fake ass Oprah, she cancel, andddddd Trevor yo ass was supposed to ask her about the Neverland doc, yo ass is starstruck....."
      ],
      "text/plain": [
       "<IPython.core.display.Markdown object>"
      ]
     },
     "metadata": {},
     "output_type": "display_data"
    },
    {
     "data": {
      "text/markdown": [
       "* Video id: TLhJCerHFAw<br> Is hate speech: I like Oprah.. I&#39;d love to hypnotize her and command her to marry me. She is rich pretty and sexy."
      ],
      "text/plain": [
       "<IPython.core.display.Markdown object>"
      ]
     },
     "metadata": {},
     "output_type": "display_data"
    },
    {
     "data": {
      "text/markdown": [
       "* Video id: TLhJCerHFAw<br> Is hate speech: I had never checked the price of avocado until now. Damn! it is really expensive! It&#39;s so expensive that the rich is saying its expensive! Whoa!!!"
      ],
      "text/plain": [
       "<IPython.core.display.Markdown object>"
      ]
     },
     "metadata": {},
     "output_type": "display_data"
    },
    {
     "data": {
      "text/markdown": [
       "* Video id: TLhJCerHFAw<br> Is hate speech: Rich people problems. You get an avocado!"
      ],
      "text/plain": [
       "<IPython.core.display.Markdown object>"
      ]
     },
     "metadata": {},
     "output_type": "display_data"
    },
    {
     "data": {
      "text/markdown": [
       "* Video id: TLhJCerHFAw<br> Is hate speech: Hypocritical sellout. I&#39;m not buying shit  she&#39;s selling. KARMA . Toodles."
      ],
      "text/plain": [
       "<IPython.core.display.Markdown object>"
      ]
     },
     "metadata": {},
     "output_type": "display_data"
    },
    {
     "data": {
      "text/markdown": [
       "* Video id: TLhJCerHFAw<br> Is hate speech: This is fake journalism. Ask oprah why she has been backtracking leaving Neverland, confront her about Jamess lies!!! Im tired of the US Media. Big disappointment!"
      ],
      "text/plain": [
       "<IPython.core.display.Markdown object>"
      ]
     },
     "metadata": {},
     "output_type": "display_data"
    },
    {
     "data": {
      "text/markdown": [
       "* Video id: TLhJCerHFAw<br> Is hate speech: Fuck oprah"
      ],
      "text/plain": [
       "<IPython.core.display.Markdown object>"
      ]
     },
     "metadata": {},
     "output_type": "display_data"
    },
    {
     "data": {
      "text/markdown": [
       "* Video id: u8tdT5pAE34<br> Is hate speech: At least he lived a life that he remembered.. "
      ],
      "text/plain": [
       "<IPython.core.display.Markdown object>"
      ]
     },
     "metadata": {},
     "output_type": "display_data"
    },
    {
     "data": {
      "text/markdown": [
       "* Video id: u8tdT5pAE34<br> Is hate speech: Im not crying. There&#39;s just something in my eye"
      ],
      "text/plain": [
       "<IPython.core.display.Markdown object>"
      ]
     },
     "metadata": {},
     "output_type": "display_data"
    },
    {
     "data": {
      "text/markdown": [
       "* Video id: u8tdT5pAE34<br> Is hate speech: From Peru   WE WANT YOU AVICII AND WE LOVE YOUR SONGS"
      ],
      "text/plain": [
       "<IPython.core.display.Markdown object>"
      ]
     },
     "metadata": {},
     "output_type": "display_data"
    },
    {
     "data": {
      "text/markdown": [
       "* Video id: u8tdT5pAE34<br> Is hate speech: From VietNam  legend never die"
      ],
      "text/plain": [
       "<IPython.core.display.Markdown object>"
      ]
     },
     "metadata": {},
     "output_type": "display_data"
    },
    {
     "data": {
      "text/markdown": [
       "* Video id: u8tdT5pAE34<br> Is hate speech:  avicii for life "
      ],
      "text/plain": [
       "<IPython.core.display.Markdown object>"
      ]
     },
     "metadata": {},
     "output_type": "display_data"
    },
    {
     "data": {
      "text/markdown": [
       "* Video id: u8tdT5pAE34<br> Is hate speech: From the Czech Republic  Legends never die. Thanks Tim for making us happier."
      ],
      "text/plain": [
       "<IPython.core.display.Markdown object>"
      ]
     },
     "metadata": {},
     "output_type": "display_data"
    },
    {
     "data": {
      "text/markdown": [
       "* Video id: u8tdT5pAE34<br> Is hate speech: This sounds like suicide ffs get outta here"
      ],
      "text/plain": [
       "<IPython.core.display.Markdown object>"
      ]
     },
     "metadata": {},
     "output_type": "display_data"
    },
    {
     "data": {
      "text/markdown": [
       "* Video id: u8tdT5pAE34<br> Is hate speech: From Morroco  2 kinds of ppl in the world ..  First : the normal ones . Second : The Legends that Spread Happiness behind them ...... What makes me sad as f***ING hell is that i only knew u are dead 1minute ago rest in peace mate the things that u make us feel are inexpressable  : )"
      ],
      "text/plain": [
       "<IPython.core.display.Markdown object>"
      ]
     },
     "metadata": {},
     "output_type": "display_data"
    },
    {
     "data": {
      "text/markdown": [
       "* Video id: tzUtNfyTswc<br> Is hate speech: Guarantee this Ppv flops cause the dumb espn Plus deal when it comes the Ppvs , Movies &amp; tv shows I want to watch it on my 80 inch Tv not a phone or a iPad it doesnt feel the same watching shit on a phone"
      ],
      "text/plain": [
       "<IPython.core.display.Markdown object>"
      ]
     },
     "metadata": {},
     "output_type": "display_data"
    },
    {
     "data": {
      "text/markdown": [
       "* Video id: tzUtNfyTswc<br> Is hate speech: Fuck all this i have Olympic gold who im i?"
      ],
      "text/plain": [
       "<IPython.core.display.Markdown object>"
      ]
     },
     "metadata": {},
     "output_type": "display_data"
    },
    {
     "data": {
      "text/markdown": [
       "* Video id: tzUtNfyTswc<br> Is hate speech: The guy in the thumbnail literally looks like he is a Neanderthal."
      ],
      "text/plain": [
       "<IPython.core.display.Markdown object>"
      ]
     },
     "metadata": {},
     "output_type": "display_data"
    },
    {
     "data": {
      "text/markdown": [
       "* Video id: tzUtNfyTswc<br> Is hate speech: cant forget the way mc gregor kicked poriers ass ,and same will happen on saturday again"
      ],
      "text/plain": [
       "<IPython.core.display.Markdown object>"
      ]
     },
     "metadata": {},
     "output_type": "display_data"
    },
    {
     "data": {
      "text/markdown": [
       "* Video id: tzUtNfyTswc<br> Is hate speech: Damn thats how u know bethesda aint shit no more . How pathetic."
      ],
      "text/plain": [
       "<IPython.core.display.Markdown object>"
      ]
     },
     "metadata": {},
     "output_type": "display_data"
    },
    {
     "data": {
      "text/markdown": [
       "* Video id: tzUtNfyTswc<br> Is hate speech: Dustin just had to go for that salon quality haircut didn&#39;t he?"
      ],
      "text/plain": [
       "<IPython.core.display.Markdown object>"
      ]
     },
     "metadata": {},
     "output_type": "display_data"
    },
    {
     "data": {
      "text/markdown": [
       "* Video id: tzUtNfyTswc<br> Is hate speech: Kelvin! That braves jersey is DOPE AS FUCK!"
      ],
      "text/plain": [
       "<IPython.core.display.Markdown object>"
      ]
     },
     "metadata": {},
     "output_type": "display_data"
    },
    {
     "data": {
      "text/markdown": [
       "* Video id: tzUtNfyTswc<br> Is hate speech: Bethesda... stop trying. Its sad at this point."
      ],
      "text/plain": [
       "<IPython.core.display.Markdown object>"
      ]
     },
     "metadata": {},
     "output_type": "display_data"
    },
    {
     "data": {
      "text/markdown": [
       "* Video id: tzUtNfyTswc<br> Is hate speech: Israel&#39;s look says, &quot;I&#39;m gonna beat the shit out of you, and there&#39;s nothing you can do about it&quot;."
      ],
      "text/plain": [
       "<IPython.core.display.Markdown object>"
      ]
     },
     "metadata": {},
     "output_type": "display_data"
    },
    {
     "data": {
      "text/markdown": [
       "* Video id: tzUtNfyTswc<br> Is hate speech: He left a hairclip in his hair. Holy fucking shit that&#39;s hilarious. How didn&#39;t he see it in the mirror..."
      ],
      "text/plain": [
       "<IPython.core.display.Markdown object>"
      ]
     },
     "metadata": {},
     "output_type": "display_data"
    },
    {
     "data": {
      "text/markdown": [
       "* Video id: tzUtNfyTswc<br> Is hate speech: Tj dilllashaw is the type of dude to get a tattoo of a needle along with his snake tattoo"
      ],
      "text/plain": [
       "<IPython.core.display.Markdown object>"
      ]
     },
     "metadata": {},
     "output_type": "display_data"
    },
    {
     "data": {
      "text/markdown": [
       "* Video id: tzUtNfyTswc<br> Is hate speech: Adesanya your head aint to small either u got a big ass head <a href=\"http://too.next/\">too.next</a> time u go to the barber ask for a blow out.that high top fade aint doing u no justice"
      ],
      "text/plain": [
       "<IPython.core.display.Markdown object>"
      ]
     },
     "metadata": {},
     "output_type": "display_data"
    },
    {
     "data": {
      "text/markdown": [
       "* Video id: tzUtNfyTswc<br> Is hate speech: HOW DO I GET THAT DAMN APP ?!"
      ],
      "text/plain": [
       "<IPython.core.display.Markdown object>"
      ]
     },
     "metadata": {},
     "output_type": "display_data"
    },
    {
     "data": {
      "text/markdown": [
       "* Video id: tzUtNfyTswc<br> Is hate speech: Like many celebrities, these guys frequently have drug and/or alcohol problems. I say this because MANY youngsters admire and respect them, but you don&#39;t know what happens when the cameras stop filming."
      ],
      "text/plain": [
       "<IPython.core.display.Markdown object>"
      ]
     },
     "metadata": {},
     "output_type": "display_data"
    },
    {
     "data": {
      "text/markdown": [
       "* Video id: tzUtNfyTswc<br> Is hate speech: Dustin is losing he got a haircut  Im calling it"
      ],
      "text/plain": [
       "<IPython.core.display.Markdown object>"
      ]
     },
     "metadata": {},
     "output_type": "display_data"
    },
    {
     "data": {
      "text/markdown": [
       "* Video id: tzUtNfyTswc<br> Is hate speech: what the actual fuck did he say the name of the app is? eve? feed? DEED? WHAT THE FUCK IS HE  SAYING"
      ],
      "text/plain": [
       "<IPython.core.display.Markdown object>"
      ]
     },
     "metadata": {},
     "output_type": "display_data"
    },
    {
     "data": {
      "text/markdown": [
       "* Video id: tzUtNfyTswc<br> Is hate speech: Why dont most UFC fighters have knecks?"
      ],
      "text/plain": [
       "<IPython.core.display.Markdown object>"
      ]
     },
     "metadata": {},
     "output_type": "display_data"
    },
    {
     "data": {
      "text/markdown": [
       "* Video id: tzUtNfyTswc<br> Is hate speech: Bro said give me a dolley Im dead lol"
      ],
      "text/plain": [
       "<IPython.core.display.Markdown object>"
      ]
     },
     "metadata": {},
     "output_type": "display_data"
    },
    {
     "data": {
      "text/markdown": [
       "* Video id: tzUtNfyTswc<br> Is hate speech: Lol fall out 76"
      ],
      "text/plain": [
       "<IPython.core.display.Markdown object>"
      ]
     },
     "metadata": {},
     "output_type": "display_data"
    },
    {
     "data": {
      "text/markdown": [
       "* Video id: tzUtNfyTswc<br> Is hate speech: Dustin trainer looks like fat Kevin Lee"
      ],
      "text/plain": [
       "<IPython.core.display.Markdown object>"
      ]
     },
     "metadata": {},
     "output_type": "display_data"
    },
    {
     "data": {
      "text/markdown": [
       "* Video id: tzUtNfyTswc<br> Is hate speech: I have an buddy whose an athlete. At first i thought he was fucking lazy. Turns out hes a more people person than I am. I also realized he physically puts in work the way i mentally put in work...and like real life, only a few make it....plus im not taking damage. Im a man, husband, and father willing to do whatever it takes....but these mofos are on a whole other different level. Respect to my homie and all athletes out there putting in work, love to those ain&#39;t getting paid yet."
      ],
      "text/plain": [
       "<IPython.core.display.Markdown object>"
      ]
     },
     "metadata": {},
     "output_type": "display_data"
    },
    {
     "data": {
      "text/markdown": [
       "* Video id: tzUtNfyTswc<br> Is hate speech: Hate it or love it Dustin is a G."
      ],
      "text/plain": [
       "<IPython.core.display.Markdown object>"
      ]
     },
     "metadata": {},
     "output_type": "display_data"
    },
    {
     "data": {
      "text/markdown": [
       "* Video id: tzUtNfyTswc<br> Is hate speech: Give Me A Dolly! "
      ],
      "text/plain": [
       "<IPython.core.display.Markdown object>"
      ]
     },
     "metadata": {},
     "output_type": "display_data"
    },
    {
     "data": {
      "text/markdown": [
       "* Video id: tzUtNfyTswc<br> Is hate speech: These guys dont even have Olympic gold... we know the real "
      ],
      "text/plain": [
       "<IPython.core.display.Markdown object>"
      ]
     },
     "metadata": {},
     "output_type": "display_data"
    },
    {
     "data": {
      "text/markdown": [
       "* Video id: tzUtNfyTswc<br> Is hate speech: I really want to like Adesanya but theres something about him that just wont allow me to..."
      ],
      "text/plain": [
       "<IPython.core.display.Markdown object>"
      ]
     },
     "metadata": {},
     "output_type": "display_data"
    },
    {
     "data": {
      "text/markdown": [
       "* Video id: tzUtNfyTswc<br> Is hate speech: I don&#39;t care what anybody says, if you&#39;re an MMA fan and you&#39;re honest with yourself, you have to love Max Blessed man, shit like this what he be talkin about, lol...just shows how down to earth the cat really is man <a href=\"https://www.youtube.com/watch?v=tzUtNfyTswc&amp;t=3m30s\">3:30</a> He&#39;s got to be one of the most coolest cats in the UFC...he &quot;Never&quot; seems uptight. I love D.P too, but even when he&#39;s not talkin shit about his opponents, he still seems a bit uptight in his interviews, not Ol&#39; Maxxie Baby"
      ],
      "text/plain": [
       "<IPython.core.display.Markdown object>"
      ]
     },
     "metadata": {},
     "output_type": "display_data"
    },
    {
     "data": {
      "text/markdown": [
       "* Video id: tzUtNfyTswc<br> Is hate speech:  Sees Dustin getting a haircut</b>  Oh no man what is you DOIN!?!?!?!"
      ],
      "text/plain": [
       "<IPython.core.display.Markdown object>"
      ]
     },
     "metadata": {},
     "output_type": "display_data"
    },
    {
     "data": {
      "text/markdown": [
       "* Video id: tzUtNfyTswc<br> Is hate speech: I feel like kg going ko Izzy"
      ],
      "text/plain": [
       "<IPython.core.display.Markdown object>"
      ]
     },
     "metadata": {},
     "output_type": "display_data"
    },
    {
     "data": {
      "text/markdown": [
       "* Video id: LL2jKGvyC8Y<br> Is hate speech: Lets go caps"
      ],
      "text/plain": [
       "<IPython.core.display.Markdown object>"
      ]
     },
     "metadata": {},
     "output_type": "display_data"
    },
    {
     "data": {
      "text/markdown": [
       "* Video id: LL2jKGvyC8Y<br> Is hate speech: I&#39;m gonna be honest, as a habs fan I really hate colombus right now ( i mean how can i not be salty? ) and wanted them to be crush by tampa, but damn they did impress me. After a terrible first period, they came back perfectly"
      ],
      "text/plain": [
       "<IPython.core.display.Markdown object>"
      ]
     },
     "metadata": {},
     "output_type": "display_data"
    },
    {
     "data": {
      "text/markdown": [
       "* Video id: LL2jKGvyC8Y<br> Is hate speech: <a href=\"http://www.youtube.com/results?search_query=%23wearentthe2007mavericks\">#wearentthe2007mavericks</a> Columbus acting like they won this series. Hopefully, we get them back and slaughter them like we did to the Bruins in the semis last year. But hey, Im used to The choking but I ll absolutely hate you URINATINGTREE if you make another video"
      ],
      "text/plain": [
       "<IPython.core.display.Markdown object>"
      ]
     },
     "metadata": {},
     "output_type": "display_data"
    },
    {
     "data": {
      "text/markdown": [
       "* Video id: LL2jKGvyC8Y<br> Is hate speech: Come on my boys on trending!"
      ],
      "text/plain": [
       "<IPython.core.display.Markdown object>"
      ]
     },
     "metadata": {},
     "output_type": "display_data"
    },
    {
     "data": {
      "text/markdown": [
       "* Video id: LL2jKGvyC8Y<br> Is hate speech: Columbus: subscribe to me Tampa: Like"
      ],
      "text/plain": [
       "<IPython.core.display.Markdown object>"
      ]
     },
     "metadata": {},
     "output_type": "display_data"
    },
    {
     "data": {
      "text/markdown": [
       "* Video id: LL2jKGvyC8Y<br> Is hate speech: What a game. Im a flyers fan but Im kinda a bandwagon lightning fan when the flyers are out of the playoffs"
      ],
      "text/plain": [
       "<IPython.core.display.Markdown object>"
      ]
     },
     "metadata": {},
     "output_type": "display_data"
    },
    {
     "data": {
      "text/markdown": [
       "* Video id: LL2jKGvyC8Y<br> Is hate speech: Playoff hockey is crazy, man."
      ],
      "text/plain": [
       "<IPython.core.display.Markdown object>"
      ]
     },
     "metadata": {},
     "output_type": "display_data"
    },
    {
     "data": {
      "text/markdown": [
       "* Video id: LL2jKGvyC8Y<br> Is hate speech: Like TB Comment CBJ"
      ],
      "text/plain": [
       "<IPython.core.display.Markdown object>"
      ]
     },
     "metadata": {},
     "output_type": "display_data"
    },
    {
     "data": {
      "text/markdown": [
       "* Video id: LL2jKGvyC8Y<br> Is hate speech: Wow bobroski for vezna lol way to choke Tampa X&#39;P (most likely misspelled, don&#39;t care)"
      ],
      "text/plain": [
       "<IPython.core.display.Markdown object>"
      ]
     },
     "metadata": {},
     "output_type": "display_data"
    },
    {
     "data": {
      "text/markdown": [
       "* Video id: LL2jKGvyC8Y<br> Is hate speech: GO BOLTS"
      ],
      "text/plain": [
       "<IPython.core.display.Markdown object>"
      ]
     },
     "metadata": {},
     "output_type": "display_data"
    },
    {
     "data": {
      "text/markdown": [
       "* Video id: LL2jKGvyC8Y<br> Is hate speech: Lets go CBJ"
      ],
      "text/plain": [
       "<IPython.core.display.Markdown object>"
      ]
     },
     "metadata": {},
     "output_type": "display_data"
    },
    {
     "data": {
      "text/markdown": [
       "* Video id: LL2jKGvyC8Y<br> Is hate speech: Hedman needs to get his head in the game man"
      ],
      "text/plain": [
       "<IPython.core.display.Markdown object>"
      ]
     },
     "metadata": {},
     "output_type": "display_data"
    },
    {
     "data": {
      "text/markdown": [
       "* Video id: LL2jKGvyC8Y<br> Is hate speech: One hell of a series opener"
      ],
      "text/plain": [
       "<IPython.core.display.Markdown object>"
      ]
     },
     "metadata": {},
     "output_type": "display_data"
    },
    {
     "data": {
      "text/markdown": [
       "* Video id: LL2jKGvyC8Y<br> Is hate speech: Lets go jackets"
      ],
      "text/plain": [
       "<IPython.core.display.Markdown object>"
      ]
     },
     "metadata": {},
     "output_type": "display_data"
    },
    {
     "data": {
      "text/markdown": [
       "* Video id: LL2jKGvyC8Y<br> Is hate speech: I know TB lost as a team, but what a brutal game by Hedman. this guys supposed to be a Norris contender? He was soft as hell on CBJ&#39;s 2nd and 3rd goals"
      ],
      "text/plain": [
       "<IPython.core.display.Markdown object>"
      ]
     },
     "metadata": {},
     "output_type": "display_data"
    },
    {
     "data": {
      "text/markdown": [
       "* Video id: LL2jKGvyC8Y<br> Is hate speech: The blue jackets like to lick mens buttholes"
      ],
      "text/plain": [
       "<IPython.core.display.Markdown object>"
      ]
     },
     "metadata": {},
     "output_type": "display_data"
    },
    {
     "data": {
      "text/markdown": [
       "* Video id: LL2jKGvyC8Y<br> Is hate speech: Bobrovsky get in here, you&#39;re back on the force."
      ],
      "text/plain": [
       "<IPython.core.display.Markdown object>"
      ]
     },
     "metadata": {},
     "output_type": "display_data"
    },
    {
     "data": {
      "text/markdown": [
       "* Video id: LL2jKGvyC8Y<br> Is hate speech: This was a pleasant surprise :)  Go Jackets!!!"
      ],
      "text/plain": [
       "<IPython.core.display.Markdown object>"
      ]
     },
     "metadata": {},
     "output_type": "display_data"
    },
    {
     "data": {
      "text/markdown": [
       "* Video id: LL2jKGvyC8Y<br> Is hate speech: Im BLUE Bobble Ski  Bobble Daey!!"
      ],
      "text/plain": [
       "<IPython.core.display.Markdown object>"
      ]
     },
     "metadata": {},
     "output_type": "display_data"
    },
    {
     "data": {
      "text/markdown": [
       "* Video id: LL2jKGvyC8Y<br> Is hate speech: Damn Columbus what the heck! You&#39;re goalie is gold - Leafs Fan"
      ],
      "text/plain": [
       "<IPython.core.display.Markdown object>"
      ]
     },
     "metadata": {},
     "output_type": "display_data"
    },
    {
     "data": {
      "text/markdown": [
       "* Video id: LL2jKGvyC8Y<br> Is hate speech: Uh Oh..............."
      ],
      "text/plain": [
       "<IPython.core.display.Markdown object>"
      ]
     },
     "metadata": {},
     "output_type": "display_data"
    },
    {
     "data": {
      "text/markdown": [
       "* Video id: LL2jKGvyC8Y<br> Is hate speech: 500 plus comments and no Blowhard Blowen. Lol."
      ],
      "text/plain": [
       "<IPython.core.display.Markdown object>"
      ]
     },
     "metadata": {},
     "output_type": "display_data"
    },
    {
     "data": {
      "text/markdown": [
       "* Video id: LL2jKGvyC8Y<br> Is hate speech: I an a jackets fan and I thought they had no chance but Tampa choked si ya go jackets. Fyi Tampa we have not one a series you suck go JACKETS"
      ],
      "text/plain": [
       "<IPython.core.display.Markdown object>"
      ]
     },
     "metadata": {},
     "output_type": "display_data"
    },
    {
     "data": {
      "text/markdown": [
       "* Video id: d034c--i7bg<br> Is hate speech: The Lakers suck. End of point. Stop all these drama already. Lol."
      ],
      "text/plain": [
       "<IPython.core.display.Markdown object>"
      ]
     },
     "metadata": {},
     "output_type": "display_data"
    },
    {
     "data": {
      "text/markdown": [
       "* Video id: d034c--i7bg<br> Is hate speech: If you cant do the job, get out of the way... your moves failed..."
      ],
      "text/plain": [
       "<IPython.core.display.Markdown object>"
      ]
     },
     "metadata": {},
     "output_type": "display_data"
    },
    {
     "data": {
      "text/markdown": [
       "* Video id: d034c--i7bg<br> Is hate speech: Its just <a href=\"http://basketball.run/\">basketball.run</a> around ..jump...throw a rubber inflated ball thru a hoop....who gives a <a href=\"http://fuck.talk/\">fuck.talk</a> about things that matter"
      ],
      "text/plain": [
       "<IPython.core.display.Markdown object>"
      ]
     },
     "metadata": {},
     "output_type": "display_data"
    },
    {
     "data": {
      "text/markdown": [
       "* Video id: d034c--i7bg<br> Is hate speech: I eat chicken"
      ],
      "text/plain": [
       "<IPython.core.display.Markdown object>"
      ]
     },
     "metadata": {},
     "output_type": "display_data"
    },
    {
     "data": {
      "text/markdown": [
       "* Video id: d034c--i7bg<br> Is hate speech: damn why jalen be blinking so damn much smh"
      ],
      "text/plain": [
       "<IPython.core.display.Markdown object>"
      ]
     },
     "metadata": {},
     "output_type": "display_data"
    },
    {
     "data": {
      "text/markdown": [
       "* Video id: d034c--i7bg<br> Is hate speech: Bruh get my man some eye drops goddamn"
      ],
      "text/plain": [
       "<IPython.core.display.Markdown object>"
      ]
     },
     "metadata": {},
     "output_type": "display_data"
    },
    {
     "data": {
      "text/markdown": [
       "* Video id: d034c--i7bg<br> Is hate speech: Did Magic really have sex with Michael Jackson?"
      ],
      "text/plain": [
       "<IPython.core.display.Markdown object>"
      ]
     },
     "metadata": {},
     "output_type": "display_data"
    },
    {
     "data": {
      "text/markdown": [
       "* Video id: d034c--i7bg<br> Is hate speech: I gave yall 14 mins...lol"
      ],
      "text/plain": [
       "<IPython.core.display.Markdown object>"
      ]
     },
     "metadata": {},
     "output_type": "display_data"
    },
    {
     "data": {
      "text/markdown": [
       "* Video id: d034c--i7bg<br> Is hate speech: HOW THIS LEGEND CAN HAVE A SHAME SON LIKE CJ JOHNSON ?"
      ],
      "text/plain": [
       "<IPython.core.display.Markdown object>"
      ]
     },
     "metadata": {},
     "output_type": "display_data"
    },
    {
     "data": {
      "text/markdown": [
       "* Video id: d034c--i7bg<br> Is hate speech: i love my lakers and love magic as a player but we all knew he was trash as in the front office making stupid moves and the way he quit on the team and made them worst lol but yet they say he&#39;s a nice guy aka quitter  lol .. and trust me that article must be true because i ran into magic twice at dodger stadium dude was a dick !!!!!!!!! Theirs a difference to act and prentend to be nice when the camera is on but once camera is off he becomes his truth self .."
      ],
      "text/plain": [
       "<IPython.core.display.Markdown object>"
      ]
     },
     "metadata": {},
     "output_type": "display_data"
    },
    {
     "data": {
      "text/markdown": [
       "* Video id: d034c--i7bg<br> Is hate speech: MAGIC WAS THE WORST THING TO HAPPEN TO THE LAKERS LMFAO HE DIDN&#39;T KNOW WHAT THE FUCK HE WAS DOING "
      ],
      "text/plain": [
       "<IPython.core.display.Markdown object>"
      ]
     },
     "metadata": {},
     "output_type": "display_data"
    },
    {
     "data": {
      "text/markdown": [
       "* Video id: d034c--i7bg<br> Is hate speech: Jalen act like we won&#39;t 2 games outta 3rd place before bron got hurt on Xmas"
      ],
      "text/plain": [
       "<IPython.core.display.Markdown object>"
      ]
     },
     "metadata": {},
     "output_type": "display_data"
    },
    {
     "data": {
      "text/markdown": [
       "* Video id: d034c--i7bg<br> Is hate speech: @<a href=\"https://www.youtube.com/watch?v=d034c--i7bg&amp;t=1m55s\">1:55</a> max laughing inside like &quot;he&#39;s bout to get on SAS ass now!&quot;"
      ],
      "text/plain": [
       "<IPython.core.display.Markdown object>"
      ]
     },
     "metadata": {},
     "output_type": "display_data"
    },
    {
     "data": {
      "text/markdown": [
       "* Video id: d034c--i7bg<br> Is hate speech: Why the fuck is this in my feed?"
      ],
      "text/plain": [
       "<IPython.core.display.Markdown object>"
      ]
     },
     "metadata": {},
     "output_type": "display_data"
    },
    {
     "data": {
      "text/markdown": [
       "* Video id: d034c--i7bg<br> Is hate speech: Now it&#39;s all Kobe&#39;s fault lol! They really tryna turn this into some GoT type shit."
      ],
      "text/plain": [
       "<IPython.core.display.Markdown object>"
      ]
     },
     "metadata": {},
     "output_type": "display_data"
    },
    {
     "data": {
      "text/markdown": [
       "* Video id: d034c--i7bg<br> Is hate speech: Lol shut up Molly, it&#39;s fine for her to interrupt everyone but you better not interrupt my man lol"
      ],
      "text/plain": [
       "<IPython.core.display.Markdown object>"
      ]
     },
     "metadata": {},
     "output_type": "display_data"
    },
    {
     "data": {
      "text/markdown": [
       "* Video id: d034c--i7bg<br> Is hate speech: When are thease magic Johnson gay cack riding nigas is going to admit he is not a good business man. 24 hour was already made when he got in on it the Dodgers was already made. Magic is just a gay as walking convinient store. Men fuck magic hommie gay ass bitch nigga"
      ],
      "text/plain": [
       "<IPython.core.display.Markdown object>"
      ]
     },
     "metadata": {},
     "output_type": "display_data"
    },
    {
     "data": {
      "text/markdown": [
       "* Video id: d034c--i7bg<br> Is hate speech: there goes the bias fake reporting again from the loud mouth. He doesnt want to say anything bad about Magic but he always gave Phil Jackson the business. This dude out here spewing hear say and saying what he heard but then says that he spoke to Jeannie and Rob. Well why dont you tell us what they told you. If he is trying to get to the bottom if it, why didnt he just ask. Aint nobody telling this joker nothing. Then he holds off his so called vacation to come on air to give his bias opinion after the real connected ones like Winhorst and Woj already gave us the low down.. What a tool"
      ],
      "text/plain": [
       "<IPython.core.display.Markdown object>"
      ]
     },
     "metadata": {},
     "output_type": "display_data"
    },
    {
     "data": {
      "text/markdown": [
       "* Video id: d034c--i7bg<br> Is hate speech: This nigga jalen really be tryna my niggas like broo yess yo bitch coo but thats about it"
      ],
      "text/plain": [
       "<IPython.core.display.Markdown object>"
      ]
     },
     "metadata": {},
     "output_type": "display_data"
    },
    {
     "data": {
      "text/markdown": [
       "* Video id: d034c--i7bg<br> Is hate speech: This guy gets the whole truth"
      ],
      "text/plain": [
       "<IPython.core.display.Markdown object>"
      ]
     },
     "metadata": {},
     "output_type": "display_data"
    },
    {
     "data": {
      "text/markdown": [
       "* Video id: d034c--i7bg<br> Is hate speech: Dont interrupt 81."
      ],
      "text/plain": [
       "<IPython.core.display.Markdown object>"
      ]
     },
     "metadata": {},
     "output_type": "display_data"
    },
    {
     "data": {
      "text/markdown": [
       "* Video id: d034c--i7bg<br> Is hate speech: Imagine if instead of LeBron, the Lakers kept D-Lo, Zubac and Randle. And instead of Magic/Pelinka the Lakers got a legit front office duo with experience. We&#39;d be exciting and looking to really become a threat instead of being a mess of a franchise with no clear direction. If the Lakers end up over-trading the roster to try to get a championship before LeBron exits the league we&#39;ll be back to the shit like when Kobe left and they kept bringing over vets trying to get one last championship before Kobe was done. These talking heads are ignorant to say trading all our youth for AD is a good move. That&#39;s how you cripple a fucking franchise for years to come."
      ],
      "text/plain": [
       "<IPython.core.display.Markdown object>"
      ]
     },
     "metadata": {},
     "output_type": "display_data"
    },
    {
     "data": {
      "text/markdown": [
       "* Video id: d034c--i7bg<br> Is hate speech: Yea Jalen magic couldnt deliver just like u couldnt in all ur championship games"
      ],
      "text/plain": [
       "<IPython.core.display.Markdown object>"
      ]
     },
     "metadata": {},
     "output_type": "display_data"
    },
    {
     "data": {
      "text/markdown": [
       "* Video id: d034c--i7bg<br> Is hate speech: Magic Johnson stepped down because he was going to get nailed for tampering. Saving face for the organization"
      ],
      "text/plain": [
       "<IPython.core.display.Markdown object>"
      ]
     },
     "metadata": {},
     "output_type": "display_data"
    },
    {
     "data": {
      "text/markdown": [
       "* Video id: d034c--i7bg<br> Is hate speech: damn now Molly is telling sas to shut up? she&#39;s gone wild folks"
      ],
      "text/plain": [
       "<IPython.core.display.Markdown object>"
      ]
     },
     "metadata": {},
     "output_type": "display_data"
    },
    {
     "data": {
      "text/markdown": [
       "* Video id: d034c--i7bg<br> Is hate speech: Fuck all that. Magic realized &quot;AD ain&#39;t on the waaaaay. Kawaii ain&#39;t on the waaaay. Klay ain&#39;t on da waaaaay. KD ain&#39;t on the waaaay. Mark Jackson ain&#39;t on the waaay!&quot; "
      ],
      "text/plain": [
       "<IPython.core.display.Markdown object>"
      ]
     },
     "metadata": {},
     "output_type": "display_data"
    },
    {
     "data": {
      "text/markdown": [
       "* Video id: d034c--i7bg<br> Is hate speech: Agreed! This position was too big for him"
      ],
      "text/plain": [
       "<IPython.core.display.Markdown object>"
      ]
     },
     "metadata": {},
     "output_type": "display_data"
    },
    {
     "data": {
      "text/markdown": [
       "* Video id: d034c--i7bg<br> Is hate speech: Jalen shut the hell up"
      ],
      "text/plain": [
       "<IPython.core.display.Markdown object>"
      ]
     },
     "metadata": {},
     "output_type": "display_data"
    },
    {
     "data": {
      "text/markdown": [
       "* Video id: d034c--i7bg<br> Is hate speech: Damn Molly Jalen wasn&#39;t talking bout nun lmao"
      ],
      "text/plain": [
       "<IPython.core.display.Markdown object>"
      ]
     },
     "metadata": {},
     "output_type": "display_data"
    },
    {
     "data": {
      "text/markdown": [
       "* Video id: d034c--i7bg<br> Is hate speech: Damn sure couldn&#39;t.  Should have never hired his infected ass anyways."
      ],
      "text/plain": [
       "<IPython.core.display.Markdown object>"
      ]
     },
     "metadata": {},
     "output_type": "display_data"
    },
    {
     "data": {
      "text/markdown": [
       "* Video id: d034c--i7bg<br> Is hate speech: jalen talks like hes reading a script"
      ],
      "text/plain": [
       "<IPython.core.display.Markdown object>"
      ]
     },
     "metadata": {},
     "output_type": "display_data"
    },
    {
     "data": {
      "text/markdown": [
       "* Video id: d034c--i7bg<br> Is hate speech: Max looking like someone stole his lunch money "
      ],
      "text/plain": [
       "<IPython.core.display.Markdown object>"
      ]
     },
     "metadata": {},
     "output_type": "display_data"
    },
    {
     "data": {
      "text/markdown": [
       "* Video id: d034c--i7bg<br> Is hate speech: Molly checked them punks, like &quot;Just let em finish!&quot; She got her husbands back. I like that shit"
      ],
      "text/plain": [
       "<IPython.core.display.Markdown object>"
      ]
     },
     "metadata": {},
     "output_type": "display_data"
    },
    {
     "data": {
      "text/markdown": [
       "* Video id: d034c--i7bg<br> Is hate speech: Hey Stephen A, shut the fuck up and let Jalen talk!"
      ],
      "text/plain": [
       "<IPython.core.display.Markdown object>"
      ]
     },
     "metadata": {},
     "output_type": "display_data"
    },
    {
     "data": {
      "text/markdown": [
       "* Video id: 8OrzfXyN3PI<br> Is hate speech: I eat chicken"
      ],
      "text/plain": [
       "<IPython.core.display.Markdown object>"
      ]
     },
     "metadata": {},
     "output_type": "display_data"
    },
    {
     "data": {
      "text/markdown": [
       "* Video id: 8OrzfXyN3PI<br> Is hate speech: shut up fool"
      ],
      "text/plain": [
       "<IPython.core.display.Markdown object>"
      ]
     },
     "metadata": {},
     "output_type": "display_data"
    },
    {
     "data": {
      "text/markdown": [
       "* Video id: 8OrzfXyN3PI<br> Is hate speech: Magic said, You dont walk away from me, I walk away from you, capisce?"
      ],
      "text/plain": [
       "<IPython.core.display.Markdown object>"
      ]
     },
     "metadata": {},
     "output_type": "display_data"
    },
    {
     "data": {
      "text/markdown": [
       "* Video id: 8OrzfXyN3PI<br> Is hate speech: Magic Johnson quitting stop no show of Dwyane and Dirk"
      ],
      "text/plain": [
       "<IPython.core.display.Markdown object>"
      ]
     },
     "metadata": {},
     "output_type": "display_data"
    },
    {
     "data": {
      "text/markdown": [
       "* Video id: 8OrzfXyN3PI<br> Is hate speech: dumb ass got used fa AIDS....dumb fuck....aids is fake....stupid ass nigga...."
      ],
      "text/plain": [
       "<IPython.core.display.Markdown object>"
      ]
     },
     "metadata": {},
     "output_type": "display_data"
    },
    {
     "data": {
      "text/markdown": [
       "* Video id: 8OrzfXyN3PI<br> Is hate speech: Sounds like Steven A, you are the vocal smoke screen of the mess in LA"
      ],
      "text/plain": [
       "<IPython.core.display.Markdown object>"
      ]
     },
     "metadata": {},
     "output_type": "display_data"
    },
    {
     "data": {
      "text/markdown": [
       "* Video id: 8OrzfXyN3PI<br> Is hate speech: Fuck the lakers"
      ],
      "text/plain": [
       "<IPython.core.display.Markdown object>"
      ]
     },
     "metadata": {},
     "output_type": "display_data"
    },
    {
     "data": {
      "text/markdown": [
       "* Video id: 8OrzfXyN3PI<br> Is hate speech: Guys. Our congress is preparing for a war with Russia or Iran, illegally, and instead of protesting that bullshit, half a million of you come to this video? Seriously fucked up society."
      ],
      "text/plain": [
       "<IPython.core.display.Markdown object>"
      ]
     },
     "metadata": {},
     "output_type": "display_data"
    },
    {
     "data": {
      "text/markdown": [
       "* Video id: 8OrzfXyN3PI<br> Is hate speech: Magic has AIDS because he likes to get sexed in the bum..."
      ],
      "text/plain": [
       "<IPython.core.display.Markdown object>"
      ]
     },
     "metadata": {},
     "output_type": "display_data"
    },
    {
     "data": {
      "text/markdown": [
       "* Video id: 8OrzfXyN3PI<br> Is hate speech: Magic welcome to real life."
      ],
      "text/plain": [
       "<IPython.core.display.Markdown object>"
      ]
     },
     "metadata": {},
     "output_type": "display_data"
    },
    {
     "data": {
      "text/markdown": [
       "* Video id: 8OrzfXyN3PI<br> Is hate speech: Lakers suck...lol"
      ],
      "text/plain": [
       "<IPython.core.display.Markdown object>"
      ]
     },
     "metadata": {},
     "output_type": "display_data"
    },
    {
     "data": {
      "text/markdown": [
       "* Video id: 8OrzfXyN3PI<br> Is hate speech: The thumbnail looks like a before and after"
      ],
      "text/plain": [
       "<IPython.core.display.Markdown object>"
      ]
     },
     "metadata": {},
     "output_type": "display_data"
    },
    {
     "data": {
      "text/markdown": [
       "* Video id: 8OrzfXyN3PI<br> Is hate speech: I was A lakers fan all my life. Until Lebron James signed with the Lakers. Now I fucking hate the Lakers."
      ],
      "text/plain": [
       "<IPython.core.display.Markdown object>"
      ]
     },
     "metadata": {},
     "output_type": "display_data"
    },
    {
     "data": {
      "text/markdown": [
       "* Video id: 8OrzfXyN3PI<br> Is hate speech: Damn he still alive like the queen of England. Something creepy he f*** to many skanks and shouldn&#39;t cry for it when did to himself"
      ],
      "text/plain": [
       "<IPython.core.display.Markdown object>"
      ]
     },
     "metadata": {},
     "output_type": "display_data"
    },
    {
     "data": {
      "text/markdown": [
       "* Video id: 8OrzfXyN3PI<br> Is hate speech: Nat medicine Middleton they need to get Middleton out of free agent hopefully they get to draft picks Zion Williamson so they can get him trade him and kuzma Ingram for Anthony Davis and holiday bring them over now you got LeBron holiday Davis and medicine and feel your bench out and it&#39;s on and Poppin Western conference finals or the finals next year"
      ],
      "text/plain": [
       "<IPython.core.display.Markdown object>"
      ]
     },
     "metadata": {},
     "output_type": "display_data"
    },
    {
     "data": {
      "text/markdown": [
       "* Video id: 8OrzfXyN3PI<br> Is hate speech: Now I do think they should have kept Julius randle you know and volley tight but he injury-prone so bring and rondo in and haven&#39;t bothered and rondo injury prone to like that really ain&#39;t make sense I see where you was going with it but it really didn&#39;t make no sense cuz today&#39;s game and you need a perimeter threat running point guy you know so that really makes sense or like I said it was LeBron want to keep bringing the ball up you run him at point guy and build the team around them point blank make his ass run plays and do a point guard do completely not just sometime in and all that s*** like no make him commit to just running point let him bring the ball up every goddamn time and set offense up and he should be able to average a triple-double just like Westbrook anything other than that is uncivilized"
      ],
      "text/plain": [
       "<IPython.core.display.Markdown object>"
      ]
     },
     "metadata": {},
     "output_type": "display_data"
    },
    {
     "data": {
      "text/markdown": [
       "* Video id: 8OrzfXyN3PI<br> Is hate speech: When will the media, oh what&#39;s that phrase... Get a life of their own. "
      ],
      "text/plain": [
       "<IPython.core.display.Markdown object>"
      ]
     },
     "metadata": {},
     "output_type": "display_data"
    },
    {
     "data": {
      "text/markdown": [
       "* Video id: 8OrzfXyN3PI<br> Is hate speech: Lonzo ball dad said 2 months ago magic was the figure head that&#39;s it me personally I think it was favoritism because of Luke Walton daddy Bill Walton and his relationship with the Lakers magic Johnson wanted to fire him but Jeanie buss won&#39;t let it go down like that"
      ],
      "text/plain": [
       "<IPython.core.display.Markdown object>"
      ]
     },
     "metadata": {},
     "output_type": "display_data"
    },
    {
     "data": {
      "text/markdown": [
       "* Video id: 8OrzfXyN3PI<br> Is hate speech: stephen a. fake news nba insider reporting is like the illuminati lots of conspiracy theories and speculation but no real facts lol"
      ],
      "text/plain": [
       "<IPython.core.display.Markdown object>"
      ]
     },
     "metadata": {},
     "output_type": "display_data"
    },
    {
     "data": {
      "text/markdown": [
       "* Video id: 8OrzfXyN3PI<br> Is hate speech: Maaaaan, if Bron never got injured we wouldn&#39;t be going through this horrible collapse. I&#39;m sorry, but Magic ducking out while the ship is sinking is punk af. At least give it another year big bro ,are you that weak?"
      ],
      "text/plain": [
       "<IPython.core.display.Markdown object>"
      ]
     },
     "metadata": {},
     "output_type": "display_data"
    },
    {
     "data": {
      "text/markdown": [
       "* Video id: 8OrzfXyN3PI<br> Is hate speech: Majic is a closet gay man, an AIDS victim yes but he is a hero."
      ],
      "text/plain": [
       "<IPython.core.display.Markdown object>"
      ]
     },
     "metadata": {},
     "output_type": "display_data"
    },
    {
     "data": {
      "text/markdown": [
       "* Video id: 8OrzfXyN3PI<br> Is hate speech: Basically Lebron didn&#39;t like it and forced Magic out. I just can&#39;t wait for people to stop considering Lebron as such an influence and for people to realize...he just isn&#39;t THAT great. He is running out of gas, but more particularly he always has his legacy saved by someone. Why do you think he moved to the Heat for a while? Because he couldn&#39;t do it himself. When he moved back to Cleveland, they surrounded him with talent. So much that Cleveland was the team with THEE biggest budget. Hands down...even over the Warriors. The guy is so overrated...but I not as overrated as Harden. I will give him that much."
      ],
      "text/plain": [
       "<IPython.core.display.Markdown object>"
      ]
     },
     "metadata": {},
     "output_type": "display_data"
    },
    {
     "data": {
      "text/markdown": [
       "* Video id: 8OrzfXyN3PI<br> Is hate speech: This genie lady seems to be an awful owner. Bitch just hires her friends"
      ],
      "text/plain": [
       "<IPython.core.display.Markdown object>"
      ]
     },
     "metadata": {},
     "output_type": "display_data"
    },
    {
     "data": {
      "text/markdown": [
       "* Video id: 8OrzfXyN3PI<br> Is hate speech: LOL Max kellerman is a social media whore always worrying about the media FUCK UUUU your dumb no one an I mean no is gonna take back bite n especially when they are already RICH so u are not rich as him so you gonna CRITICIZE HIM an it&#39;s TYPICAL coming from a social media WHORE like max dumb dumb kellerman Lol"
      ],
      "text/plain": [
       "<IPython.core.display.Markdown object>"
      ]
     },
     "metadata": {},
     "output_type": "display_data"
    },
    {
     "data": {
      "text/markdown": [
       "* Video id: 8OrzfXyN3PI<br> Is hate speech: I like this look on Stephen A"
      ],
      "text/plain": [
       "<IPython.core.display.Markdown object>"
      ]
     },
     "metadata": {},
     "output_type": "display_data"
    },
    {
     "data": {
      "text/markdown": [
       "* Video id: z5MCMhXSdQM<br> Is hate speech: I eat chicken"
      ],
      "text/plain": [
       "<IPython.core.display.Markdown object>"
      ]
     },
     "metadata": {},
     "output_type": "display_data"
    },
    {
     "data": {
      "text/markdown": [
       "* Video id: z5MCMhXSdQM<br> Is hate speech: Sounds like the perfect job for Jerry clutch West!"
      ],
      "text/plain": [
       "<IPython.core.display.Markdown object>"
      ]
     },
     "metadata": {},
     "output_type": "display_data"
    },
    {
     "data": {
      "text/markdown": [
       "* Video id: z5MCMhXSdQM<br> Is hate speech: Let&#39;s be real here,  Lavar Ball fired him.   .wasnt happy with how he handled Bonzo."
      ],
      "text/plain": [
       "<IPython.core.display.Markdown object>"
      ]
     },
     "metadata": {},
     "output_type": "display_data"
    },
    {
     "data": {
      "text/markdown": [
       "* Video id: z5MCMhXSdQM<br> Is hate speech: #32 Trending what a coincidence lol"
      ],
      "text/plain": [
       "<IPython.core.display.Markdown object>"
      ]
     },
     "metadata": {},
     "output_type": "display_data"
    },
    {
     "data": {
      "text/markdown": [
       "* Video id: z5MCMhXSdQM<br> Is hate speech: Skip nailed it!!! LeBron like hey Mike, Larry, Charles, Ewing ain&#39;t comin thru that door! Bron wanted Terrence Ross, DeAndre Jordan, etc..Jeannie wants to keep Kuzma..Bron wants Juwaan Howard, Jeannie wants Phil..."
      ],
      "text/plain": [
       "<IPython.core.display.Markdown object>"
      ]
     },
     "metadata": {},
     "output_type": "display_data"
    },
    {
     "data": {
      "text/markdown": [
       "* Video id: z5MCMhXSdQM<br> Is hate speech: No big free agents in laker history since shaq? Umm karl Malone, Steve Nash, Gary Payton, Pao Gasol......"
      ],
      "text/plain": [
       "<IPython.core.display.Markdown object>"
      ]
     },
     "metadata": {},
     "output_type": "display_data"
    },
    {
     "data": {
      "text/markdown": [
       "* Video id: z5MCMhXSdQM<br> Is hate speech: Lakers suck, I would have left too."
      ],
      "text/plain": [
       "<IPython.core.display.Markdown object>"
      ]
     },
     "metadata": {},
     "output_type": "display_data"
    },
    {
     "data": {
      "text/markdown": [
       "* Video id: z5MCMhXSdQM<br> Is hate speech: Magic didnt do/ want the job.  He just wants to get paid to rub elbows."
      ],
      "text/plain": [
       "<IPython.core.display.Markdown object>"
      ]
     },
     "metadata": {},
     "output_type": "display_data"
    },
    {
     "data": {
      "text/markdown": [
       "* Video id: z5MCMhXSdQM<br> Is hate speech: It&#39;s a free country. If Magic wants to quit, so what? You go, Magic."
      ],
      "text/plain": [
       "<IPython.core.display.Markdown object>"
      ]
     },
     "metadata": {},
     "output_type": "display_data"
    },
    {
     "data": {
      "text/markdown": [
       "* Video id: z5MCMhXSdQM<br> Is hate speech: LehelpmeKyrie needs to go. That fake goat should go back to Lavs and retire there."
      ],
      "text/plain": [
       "<IPython.core.display.Markdown object>"
      ]
     },
     "metadata": {},
     "output_type": "display_data"
    },
    {
     "data": {
      "text/markdown": [
       "* Video id: z5MCMhXSdQM<br> Is hate speech: He wanted more power Luke Walton was suppose to get fired"
      ],
      "text/plain": [
       "<IPython.core.display.Markdown object>"
      ]
     },
     "metadata": {},
     "output_type": "display_data"
    },
    {
     "data": {
      "text/markdown": [
       "* Video id: z5MCMhXSdQM<br> Is hate speech: Yall aint want to listen when big baller said magic wasnt running the show"
      ],
      "text/plain": [
       "<IPython.core.display.Markdown object>"
      ]
     },
     "metadata": {},
     "output_type": "display_data"
    },
    {
     "data": {
      "text/markdown": [
       "* Video id: z5MCMhXSdQM<br> Is hate speech: The Buss family should sell the team. They have no clue. Stop televising their games and fans stop going."
      ],
      "text/plain": [
       "<IPython.core.display.Markdown object>"
      ]
     },
     "metadata": {},
     "output_type": "display_data"
    },
    {
     "data": {
      "text/markdown": [
       "* Video id: z5MCMhXSdQM<br> Is hate speech: Hes gone... like magic"
      ],
      "text/plain": [
       "<IPython.core.display.Markdown object>"
      ]
     },
     "metadata": {},
     "output_type": "display_data"
    },
    {
     "data": {
      "text/markdown": [
       "* Video id: z5MCMhXSdQM<br> Is hate speech: You can&#39;t run from your own decisions n choices as a man you gotta man up n own up by default "
      ],
      "text/plain": [
       "<IPython.core.display.Markdown object>"
      ]
     },
     "metadata": {},
     "output_type": "display_data"
    },
    {
     "data": {
      "text/markdown": [
       "* Video id: N2DdOs5OhxY<br> Is hate speech: Wearing white after applying self tanner...... I too like to live dangerously "
      ],
      "text/plain": [
       "<IPython.core.display.Markdown object>"
      ]
     },
     "metadata": {},
     "output_type": "display_data"
    },
    {
     "data": {
      "text/markdown": [
       "* Video id: N2DdOs5OhxY<br> Is hate speech: You look like bruce jenner lol"
      ],
      "text/plain": [
       "<IPython.core.display.Markdown object>"
      ]
     },
     "metadata": {},
     "output_type": "display_data"
    },
    {
     "data": {
      "text/markdown": [
       "* Video id: N2DdOs5OhxY<br> Is hate speech: I eat chicken"
      ],
      "text/plain": [
       "<IPython.core.display.Markdown object>"
      ]
     },
     "metadata": {},
     "output_type": "display_data"
    },
    {
     "data": {
      "text/markdown": [
       "* Video id: N2DdOs5OhxY<br> Is hate speech: That cream bronzer is too much. It looks like you smeared peanut butter on your face like the baby in that vine"
      ],
      "text/plain": [
       "<IPython.core.display.Markdown object>"
      ]
     },
     "metadata": {},
     "output_type": "display_data"
    },
    {
     "data": {
      "text/markdown": [
       "* Video id: N2DdOs5OhxY<br> Is hate speech: Omg get on with it ....4 mins in and still blah blah blah..."
      ],
      "text/plain": [
       "<IPython.core.display.Markdown object>"
      ]
     },
     "metadata": {},
     "output_type": "display_data"
    },
    {
     "data": {
      "text/markdown": [
       "* Video id: N2DdOs5OhxY<br> Is hate speech: Watching this but Im a mom and Im disheveled and havent showered and dont look 1/1000th of what Tati looks like."
      ],
      "text/plain": [
       "<IPython.core.display.Markdown object>"
      ]
     },
     "metadata": {},
     "output_type": "display_data"
    },
    {
     "data": {
      "text/markdown": [
       "* Video id: N2DdOs5OhxY<br> Is hate speech: Im just confused on whats up with the red liner and nude lip stick?"
      ],
      "text/plain": [
       "<IPython.core.display.Markdown object>"
      ]
     },
     "metadata": {},
     "output_type": "display_data"
    },
    {
     "data": {
      "text/markdown": [
       "* Video id: N2DdOs5OhxY<br> Is hate speech: That Sleek lip topper looks like you kissed the Tin Man."
      ],
      "text/plain": [
       "<IPython.core.display.Markdown object>"
      ]
     },
     "metadata": {},
     "output_type": "display_data"
    },
    {
     "data": {
      "text/markdown": [
       "* Video id: N2DdOs5OhxY<br> Is hate speech: hey sisters"
      ],
      "text/plain": [
       "<IPython.core.display.Markdown object>"
      ]
     },
     "metadata": {},
     "output_type": "display_data"
    },
    {
     "data": {
      "text/markdown": [
       "* Video id: N2DdOs5OhxY<br> Is hate speech: Hey girl! Did you get those sweat pants from Cristine?"
      ],
      "text/plain": [
       "<IPython.core.display.Markdown object>"
      ]
     },
     "metadata": {},
     "output_type": "display_data"
    },
    {
     "data": {
      "text/markdown": [
       "* Video id: N2DdOs5OhxY<br> Is hate speech: Oh my gosh this looks terrible!  Tati continues to put on the terrible powder "
      ],
      "text/plain": [
       "<IPython.core.display.Markdown object>"
      ]
     },
     "metadata": {},
     "output_type": "display_data"
    },
    {
     "data": {
      "text/markdown": [
       "* Video id: N2DdOs5OhxY<br> Is hate speech: That PF Butter Bronzer BREAKS me OUT like crazy"
      ],
      "text/plain": [
       "<IPython.core.display.Markdown object>"
      ]
     },
     "metadata": {},
     "output_type": "display_data"
    },
    {
     "data": {
      "text/markdown": [
       "* Video id: N2DdOs5OhxY<br> Is hate speech: Holy sh!t an actually female doing make up tutorial on trending and not those those trash bag like Jefree and James who pretend to be females."
      ],
      "text/plain": [
       "<IPython.core.display.Markdown object>"
      ]
     },
     "metadata": {},
     "output_type": "display_data"
    },
    {
     "data": {
      "text/markdown": [
       "* Video id: N2DdOs5OhxY<br> Is hate speech: I dont know why but I have the feeling that Tati may be in the very early stages of pregnancy. Knowing her health issues, I totally pray this for her, I hope Im right."
      ],
      "text/plain": [
       "<IPython.core.display.Markdown object>"
      ]
     },
     "metadata": {},
     "output_type": "display_data"
    },
    {
     "data": {
      "text/markdown": [
       "* Video id: N2DdOs5OhxY<br> Is hate speech: The Sephora lipsticks Are actually the same price lol"
      ],
      "text/plain": [
       "<IPython.core.display.Markdown object>"
      ]
     },
     "metadata": {},
     "output_type": "display_data"
    },
    {
     "data": {
      "text/markdown": [
       "* Video id: N2DdOs5OhxY<br> Is hate speech: Make up is like catfishing the world, lol. Make up is evil"
      ],
      "text/plain": [
       "<IPython.core.display.Markdown object>"
      ]
     },
     "metadata": {},
     "output_type": "display_data"
    },
    {
     "data": {
      "text/markdown": [
       "* Video id: m1MewpFNBdc<br> Is hate speech: Hey Im only ten and I have a higher belt in karate then her. Lol  (Black belt)"
      ],
      "text/plain": [
       "<IPython.core.display.Markdown object>"
      ]
     },
     "metadata": {},
     "output_type": "display_data"
    },
    {
     "data": {
      "text/markdown": [
       "* Video id: m1MewpFNBdc<br> Is hate speech: Thumbnail looks like somebody photoshopped your head into a body of a 9 yr old"
      ],
      "text/plain": [
       "<IPython.core.display.Markdown object>"
      ]
     },
     "metadata": {},
     "output_type": "display_data"
    },
    {
     "data": {
      "text/markdown": [
       "* Video id: m1MewpFNBdc<br> Is hate speech: stop screaming!"
      ],
      "text/plain": [
       "<IPython.core.display.Markdown object>"
      ]
     },
     "metadata": {},
     "output_type": "display_data"
    },
    {
     "data": {
      "text/markdown": [
       "* Video id: m1MewpFNBdc<br> Is hate speech: Liza Koshy is the embodiment of every group of 2 girls when they act like dumb ass retards at a sleep over"
      ],
      "text/plain": [
       "<IPython.core.display.Markdown object>"
      ]
     },
     "metadata": {},
     "output_type": "display_data"
    },
    {
     "data": {
      "text/markdown": [
       "* Video id: m1MewpFNBdc<br> Is hate speech: wow im so proud of zane"
      ],
      "text/plain": [
       "<IPython.core.display.Markdown object>"
      ]
     },
     "metadata": {},
     "output_type": "display_data"
    },
    {
     "data": {
      "text/markdown": [
       "* Video id: m1MewpFNBdc<br> Is hate speech: i love this combo of people omg, they all get along so well and i really shows in their videos...the energy is really contagious"
      ],
      "text/plain": [
       "<IPython.core.display.Markdown object>"
      ]
     },
     "metadata": {},
     "output_type": "display_data"
    },
    {
     "data": {
      "text/markdown": [
       "* Video id: m1MewpFNBdc<br> Is hate speech: OH SHE BACK BABY"
      ],
      "text/plain": [
       "<IPython.core.display.Markdown object>"
      ]
     },
     "metadata": {},
     "output_type": "display_data"
    },
    {
     "data": {
      "text/markdown": [
       "* Video id: m1MewpFNBdc<br> Is hate speech: Hi im a 1st dan black belt :&gt;"
      ],
      "text/plain": [
       "<IPython.core.display.Markdown object>"
      ]
     },
     "metadata": {},
     "output_type": "display_data"
    },
    {
     "data": {
      "text/markdown": [
       "* Video id: m1MewpFNBdc<br> Is hate speech: I eat chicken"
      ],
      "text/plain": [
       "<IPython.core.display.Markdown object>"
      ]
     },
     "metadata": {},
     "output_type": "display_data"
    },
    {
     "data": {
      "text/markdown": [
       "* Video id: m1MewpFNBdc<br> Is hate speech: more videos just like this please &lt;3"
      ],
      "text/plain": [
       "<IPython.core.display.Markdown object>"
      ]
     },
     "metadata": {},
     "output_type": "display_data"
    },
    {
     "data": {
      "text/markdown": [
       "* Video id: m1MewpFNBdc<br> Is hate speech: she remembered her password yay lol"
      ],
      "text/plain": [
       "<IPython.core.display.Markdown object>"
      ]
     },
     "metadata": {},
     "output_type": "display_data"
    },
    {
     "data": {
      "text/markdown": [
       "* Video id: m1MewpFNBdc<br> Is hate speech: Big head thumbnail pissed me off, fuck you"
      ],
      "text/plain": [
       "<IPython.core.display.Markdown object>"
      ]
     },
     "metadata": {},
     "output_type": "display_data"
    },
    {
     "data": {
      "text/markdown": [
       "* Video id: m1MewpFNBdc<br> Is hate speech: This is really cool Im so proud"
      ],
      "text/plain": [
       "<IPython.core.display.Markdown object>"
      ]
     },
     "metadata": {},
     "output_type": "display_data"
    },
    {
     "data": {
      "text/markdown": [
       "* Video id: m1MewpFNBdc<br> Is hate speech: Love the content!! But like seriously. Amateurs can break wooden boards like its nbd?"
      ],
      "text/plain": [
       "<IPython.core.display.Markdown object>"
      ]
     },
     "metadata": {},
     "output_type": "display_data"
    },
    {
     "data": {
      "text/markdown": [
       "* Video id: m1MewpFNBdc<br> Is hate speech: I want to throat chop that loud bitch. This is wack."
      ],
      "text/plain": [
       "<IPython.core.display.Markdown object>"
      ]
     },
     "metadata": {},
     "output_type": "display_data"
    },
    {
     "data": {
      "text/markdown": [
       "* Video id: m1MewpFNBdc<br> Is hate speech: Zanes grunt sounds like Jason the Red Ranger from MMPR"
      ],
      "text/plain": [
       "<IPython.core.display.Markdown object>"
      ]
     },
     "metadata": {},
     "output_type": "display_data"
    },
    {
     "data": {
      "text/markdown": [
       "* Video id: m1MewpFNBdc<br> Is hate speech: DONT MESS WITH LIZZA NOW"
      ],
      "text/plain": [
       "<IPython.core.display.Markdown object>"
      ]
     },
     "metadata": {},
     "output_type": "display_data"
    },
    {
     "data": {
      "text/markdown": [
       "* Video id: m1MewpFNBdc<br> Is hate speech: I love the try squad. Zane, Heath, Mat, Liza, and Mariah. And sometimes Scott lol."
      ],
      "text/plain": [
       "<IPython.core.display.Markdown object>"
      ]
     },
     "metadata": {},
     "output_type": "display_data"
    },
    {
     "data": {
      "text/markdown": [
       "* Video id: m1MewpFNBdc<br> Is hate speech: Liza is such a hype beast lol"
      ],
      "text/plain": [
       "<IPython.core.display.Markdown object>"
      ]
     },
     "metadata": {},
     "output_type": "display_data"
    },
    {
     "data": {
      "text/markdown": [
       "* Video id: m1MewpFNBdc<br> Is hate speech: Why is Lisa good at everything she does like what?"
      ],
      "text/plain": [
       "<IPython.core.display.Markdown object>"
      ]
     },
     "metadata": {},
     "output_type": "display_data"
    },
    {
     "data": {
      "text/markdown": [
       "* Video id: m1MewpFNBdc<br> Is hate speech: Hey iam a hijazi too"
      ],
      "text/plain": [
       "<IPython.core.display.Markdown object>"
      ]
     },
     "metadata": {},
     "output_type": "display_data"
    },
    {
     "data": {
      "text/markdown": [
       "* Video id: 17A_wsy6WX0<br> Is hate speech: This is disrespectul as fuck. Gus would have hated this and you all fucking know it. Fuck you, Sus Boy. Mackned murdered Lil peep with fentanyl on purpose for leaving GBC. Sus Boy is a complete scam artist that only appeared after Gus&#39; death. Stop giving them any money or attention."
      ],
      "text/plain": [
       "<IPython.core.display.Markdown object>"
      ]
     },
     "metadata": {},
     "output_type": "display_data"
    },
    {
     "data": {
      "text/markdown": [
       "* Video id: 17A_wsy6WX0<br> Is hate speech: Ilovemakkenon from selling dope now he&#39;s gay?"
      ],
      "text/plain": [
       "<IPython.core.display.Markdown object>"
      ]
     },
     "metadata": {},
     "output_type": "display_data"
    },
    {
     "data": {
      "text/markdown": [
       "* Video id: 17A_wsy6WX0<br> Is hate speech: I&#39;ve been waiting (I&#39;ve been waiting) I&#39;ve been waiting up &#39;Cause I can&#39;t get enough, oh I feel I&#39;m fading (yeah) When I fall apart Your needle sews my heart, oh Fuck me up and make me just go crazy Addicted to the pain that you just made me love I&#39;m fiendin&#39; for your touchin&#39; on the daily You&#39;re the only one that I want Break my heart but don&#39;t tell me I&#39;m not doin&#39; fine &#39;Cause I&#39;m doin&#39; fine Let me go, I&#39;m spendin&#39; time Not doin&#39; fine but I&#39;m doin&#39; fine Why you actin&#39; vain for my love, vain for my love When you got everything that I want? Why you actin&#39; vain for my blood, vain for my blood When you got everything that I want? Why you actin&#39;? I&#39;ve been dreamin&#39; (uh) Of your uniform Your uniform of non-conformity The tears, the tears Tears aren&#39;t strong enough The years aren&#39;t long enough, no Fuck me up and make me just go crazy Addicted to the pain that you just made me love (woah, yeah) I&#39;m fiendin&#39; for your touchin&#39; on the daily You&#39;re the only one that I want (yeah) Break my heart but don&#39;t tell me I&#39;m not doin&#39; fine &#39;Cause I&#39;m doin&#39; fine Let me go, I&#39;m spendin&#39; time Not doin&#39; fine but I&#39;m doin&#39; fine Why you actin&#39; vain for my love, vain for my love When you got everything that I want? Why you actin&#39; vain for my blood, vain for my blood When you got everything that I want? Why you actin&#39; vain? It&#39;s hard to miss you When you are always on the tip of my tongue, now I feel like I&#39;m looking for somethin&#39; Somethin&#39; that&#39;ll never come Call me when you&#39;re in the city again My head just went oblivion It&#39;s hard to miss you When you are always on the tip of my tongue (Always on the tip of my tongue) And now the time is right, you wanna do me so wrong Now the time is right, you wanna do me so wrong When I&#39;ve been waitin&#39; (I&#39;ve been waitin&#39;) Long for you (long for you) I wanna drink my wine, I wanna pass that by I wanna make her cry, she wanna make me die Apple pie, six cigarettes And I&#39;ll catch the vibe that we can&#39;t forget Why you actin&#39; vain for my love, vain for my love When you got everything that I want? Why you actin&#39; vain for my blood, vain for my blood When you got everything that I want? Why you actin&#39; vain? It&#39;s hard to miss you When you are always on the tip of my tongue I feel like I&#39;m looking for somethin&#39; Somethin&#39; that&#39;ll never come I&#39;ll be waiting (I&#39;ll be waiting) Oh, for you (I&#39;ll be waiting) (for you) And now the time is right, you wanna do me so wrong (I&#39;ll be waiting) And now the time is right, you wanna do me so wrong (for you)"
      ],
      "text/plain": [
       "<IPython.core.display.Markdown object>"
      ]
     },
     "metadata": {},
     "output_type": "display_data"
    },
    {
     "data": {
      "text/markdown": [
       "* Video id: 17A_wsy6WX0<br> Is hate speech: Pls like Lil Peep Legendary"
      ],
      "text/plain": [
       "<IPython.core.display.Markdown object>"
      ]
     },
     "metadata": {},
     "output_type": "display_data"
    },
    {
     "data": {
      "text/markdown": [
       "* Video id: 17A_wsy6WX0<br> Is hate speech: oh peep &lt;3"
      ],
      "text/plain": [
       "<IPython.core.display.Markdown object>"
      ]
     },
     "metadata": {},
     "output_type": "display_data"
    },
    {
     "data": {
      "text/markdown": [
       "* Video id: 17A_wsy6WX0<br> Is hate speech: Pete looks like a bag of shit."
      ],
      "text/plain": [
       "<IPython.core.display.Markdown object>"
      ]
     },
     "metadata": {},
     "output_type": "display_data"
    },
    {
     "data": {
      "text/markdown": [
       "* Video id: 17A_wsy6WX0<br> Is hate speech: Why these rapper have to die early and the thief and bad guy still alive this is so unfair"
      ],
      "text/plain": [
       "<IPython.core.display.Markdown object>"
      ]
     },
     "metadata": {},
     "output_type": "display_data"
    },
    {
     "data": {
      "text/markdown": [
       "* Video id: 17A_wsy6WX0<br> Is hate speech: When it did Peeps part towards the end with all the tattoos, shit made me start to cry."
      ],
      "text/plain": [
       "<IPython.core.display.Markdown object>"
      ]
     },
     "metadata": {},
     "output_type": "display_data"
    },
    {
     "data": {
      "text/markdown": [
       "* Video id: 17A_wsy6WX0<br> Is hate speech: im so happy"
      ],
      "text/plain": [
       "<IPython.core.display.Markdown object>"
      ]
     },
     "metadata": {},
     "output_type": "display_data"
    },
    {
     "data": {
      "text/markdown": [
       "* Video id: ECdQ6OV-rkU<br> Is hate speech: this is soooo WHITE i feel like gagging"
      ],
      "text/plain": [
       "<IPython.core.display.Markdown object>"
      ]
     },
     "metadata": {},
     "output_type": "display_data"
    },
    {
     "data": {
      "text/markdown": [
       "* Video id: ECdQ6OV-rkU<br> Is hate speech: I like donuts."
      ],
      "text/plain": [
       "<IPython.core.display.Markdown object>"
      ]
     },
     "metadata": {},
     "output_type": "display_data"
    },
    {
     "data": {
      "text/markdown": [
       "* Video id: ECdQ6OV-rkU<br> Is hate speech: My life&#39;s dream is to have RDJ look at me like he looked at ScarJo while she was speaking!!! And I really want Jeremy to stop slurring his words(it sometimes gets kinda hard to understand... it&#39;s kinda cute tho^^)"
      ],
      "text/plain": [
       "<IPython.core.display.Markdown object>"
      ]
     },
     "metadata": {},
     "output_type": "display_data"
    },
    {
     "data": {
      "text/markdown": [
       "* Video id: ECdQ6OV-rkU<br> Is hate speech: man an obsessed with these interviews i tell u"
      ],
      "text/plain": [
       "<IPython.core.display.Markdown object>"
      ]
     },
     "metadata": {},
     "output_type": "display_data"
    },
    {
     "data": {
      "text/markdown": [
       "* Video id: ECdQ6OV-rkU<br> Is hate speech: You know you guys did an Interview perfectly when the Like/Dislike ratio is good lol."
      ],
      "text/plain": [
       "<IPython.core.display.Markdown object>"
      ]
     },
     "metadata": {},
     "output_type": "display_data"
    },
    {
     "data": {
      "text/markdown": [
       "* Video id: ECdQ6OV-rkU<br> Is hate speech: This is how the interviews should be held. No one here looked like they were obliged to sit and answer stupid questions. Every person was actually having a great time discussing their memories."
      ],
      "text/plain": [
       "<IPython.core.display.Markdown object>"
      ]
     },
     "metadata": {},
     "output_type": "display_data"
    },
    {
     "data": {
      "text/markdown": [
       "* Video id: ECdQ6OV-rkU<br> Is hate speech: Love this interview! And how does Chris Hemsworth seem to get more beautiful with age?"
      ],
      "text/plain": [
       "<IPython.core.display.Markdown object>"
      ]
     },
     "metadata": {},
     "output_type": "display_data"
    },
    {
     "data": {
      "text/markdown": [
       "* Video id: ECdQ6OV-rkU<br> Is hate speech: I hope you defeat the garbage of the last jedi and the Cameron&#39;s shit: Titanic and Avatar."
      ],
      "text/plain": [
       "<IPython.core.display.Markdown object>"
      ]
     },
     "metadata": {},
     "output_type": "display_data"
    },
    {
     "data": {
      "text/markdown": [
       "* Video id: ECdQ6OV-rkU<br> Is hate speech: Kevin is like quite type of guy (loved him )"
      ],
      "text/plain": [
       "<IPython.core.display.Markdown object>"
      ]
     },
     "metadata": {},
     "output_type": "display_data"
    },
    {
     "data": {
      "text/markdown": [
       "* Video id: ECdQ6OV-rkU<br> Is hate speech: Like Thor said it&#39;s the chemistry between these friends that makes amazing movies"
      ],
      "text/plain": [
       "<IPython.core.display.Markdown object>"
      ]
     },
     "metadata": {},
     "output_type": "display_data"
    },
    {
     "data": {
      "text/markdown": [
       "* Video id: ECdQ6OV-rkU<br> Is hate speech: Black Panther on Mark Ruffalo speech be like:- Get this man an oscar."
      ],
      "text/plain": [
       "<IPython.core.display.Markdown object>"
      ]
     },
     "metadata": {},
     "output_type": "display_data"
    },
    {
     "data": {
      "text/markdown": [
       "* Video id: ECdQ6OV-rkU<br> Is hate speech: Mark Ruffalo why everything political. Stop."
      ],
      "text/plain": [
       "<IPython.core.display.Markdown object>"
      ]
     },
     "metadata": {},
     "output_type": "display_data"
    },
    {
     "data": {
      "text/markdown": [
       "* Video id: ECdQ6OV-rkU<br> Is hate speech: Started these movies When I was 11 years old, Im 22 now...lifes a trip"
      ],
      "text/plain": [
       "<IPython.core.display.Markdown object>"
      ]
     },
     "metadata": {},
     "output_type": "display_data"
    },
    {
     "data": {
      "text/markdown": [
       "* Video id: ECdQ6OV-rkU<br> Is hate speech: Perfect interview. No spoilers for Endgame, no annoying questions just everyone open and candid enjoying each others company and voice like family. Nice. Honestly I started to melt a lil as they all talked about Stan like he was their grandpa."
      ],
      "text/plain": [
       "<IPython.core.display.Markdown object>"
      ]
     },
     "metadata": {},
     "output_type": "display_data"
    },
    {
     "data": {
      "text/markdown": [
       "* Video id: ECdQ6OV-rkU<br> Is hate speech: where the fuck is Bradley Cooper!!!"
      ],
      "text/plain": [
       "<IPython.core.display.Markdown object>"
      ]
     },
     "metadata": {},
     "output_type": "display_data"
    },
    {
     "data": {
      "text/markdown": [
       "* Video id: ECdQ6OV-rkU<br> Is hate speech: I was 14 when I saw the first avengers movie and now Im 21 and Im happy that marvel grew as big as it did and made a lot of revolutionary movies throughout the decade. I remember when it used to be weird to be a girl and like these movies, or just to be a person and like these movies it was seen as a dorky thing and now everybody and their mama is obsessed lol. This cast means a lot to me because this is where it all started for me. (Well technically ironman is) but after I saw avengers I was officially obsessed with superheroes. Also shoutout to Kevin idk how he did it but he was able to bring everything together and I cant imagine another franchise or company doing what he did here for the past 10 years."
      ],
      "text/plain": [
       "<IPython.core.display.Markdown object>"
      ]
     },
     "metadata": {},
     "output_type": "display_data"
    },
    {
     "data": {
      "text/markdown": [
       "* Video id: HUsIcK1a4B0<br> Is hate speech: Someone:Billie isnt nice she only cares about dark stuff and she hate every cute stuff I hate her.  Me: here look at this vid :)"
      ],
      "text/plain": [
       "<IPython.core.display.Markdown object>"
      ]
     },
     "metadata": {},
     "output_type": "display_data"
    },
    {
     "data": {
      "text/markdown": [
       "* Video id: HUsIcK1a4B0<br> Is hate speech: Is this what heaven looks like?"
      ],
      "text/plain": [
       "<IPython.core.display.Markdown object>"
      ]
     },
     "metadata": {},
     "output_type": "display_data"
    },
    {
     "data": {
      "text/markdown": [
       "* Video id: HUsIcK1a4B0<br> Is hate speech: <a href=\"https://www.youtube.com/watch?v=HUsIcK1a4B0&amp;t=5m43s\">5:43</a> That shit smell like doo doo  -Billie Eilish 2019"
      ],
      "text/plain": [
       "<IPython.core.display.Markdown object>"
      ]
     },
     "metadata": {},
     "output_type": "display_data"
    },
    {
     "data": {
      "text/markdown": [
       "* Video id: HUsIcK1a4B0<br> Is hate speech: <a href=\"https://www.youtube.com/watch?v=HUsIcK1a4B0&amp;t=1m28s\">1:28</a> pink dinki doo, hate the color pink but have the hair pink, this is like the best live action."
      ],
      "text/plain": [
       "<IPython.core.display.Markdown object>"
      ]
     },
     "metadata": {},
     "output_type": "display_data"
    },
    {
     "data": {
      "text/markdown": [
       "* Video id: HUsIcK1a4B0<br> Is hate speech: Is it just me or yall started saying  FIREEEE about everything like billie "
      ],
      "text/plain": [
       "<IPython.core.display.Markdown object>"
      ]
     },
     "metadata": {},
     "output_type": "display_data"
    },
    {
     "data": {
      "text/markdown": [
       "* Video id: HUsIcK1a4B0<br> Is hate speech: What breed is that black dog?? Pls I really wanna know XD"
      ],
      "text/plain": [
       "<IPython.core.display.Markdown object>"
      ]
     },
     "metadata": {},
     "output_type": "display_data"
    },
    {
     "data": {
      "text/markdown": [
       "* Video id: HUsIcK1a4B0<br> Is hate speech: Kill it :&lt;"
      ],
      "text/plain": [
       "<IPython.core.display.Markdown object>"
      ]
     },
     "metadata": {},
     "output_type": "display_data"
    },
    {
     "data": {
      "text/markdown": [
       "* Video id: HUsIcK1a4B0<br> Is hate speech: What a wonderful life"
      ],
      "text/plain": [
       "<IPython.core.display.Markdown object>"
      ]
     },
     "metadata": {},
     "output_type": "display_data"
    },
    {
     "data": {
      "text/markdown": [
       "* Video id: HUsIcK1a4B0<br> Is hate speech: When shes mad about her hair THAT BEEP GUY BEEP WONT GET MY HAIR COLOR OUT"
      ],
      "text/plain": [
       "<IPython.core.display.Markdown object>"
      ]
     },
     "metadata": {},
     "output_type": "display_data"
    },
    {
     "data": {
      "text/markdown": [
       "* Video id: HUsIcK1a4B0<br> Is hate speech: What the hell did she said in minute <a href=\"https://www.youtube.com/watch?v=HUsIcK1a4B0&amp;t=5m55s\">5:55</a> ?"
      ],
      "text/plain": [
       "<IPython.core.display.Markdown object>"
      ]
     },
     "metadata": {},
     "output_type": "display_data"
    },
    {
     "data": {
      "text/markdown": [
       "* Video id: HUsIcK1a4B0<br> Is hate speech: Kinda looks like scarjo"
      ],
      "text/plain": [
       "<IPython.core.display.Markdown object>"
      ]
     },
     "metadata": {},
     "output_type": "display_data"
    },
    {
     "data": {
      "text/markdown": [
       "* Video id: HUsIcK1a4B0<br> Is hate speech: For like...  Hours and hours and hours and hours and hours and hours and hours and hours and hours and hours and hours and hours and hours and hours and hours and hours and hours and hours and hours and hours and hours and hours and hours</b>"
      ],
      "text/plain": [
       "<IPython.core.display.Markdown object>"
      ]
     },
     "metadata": {},
     "output_type": "display_data"
    },
    {
     "data": {
      "text/markdown": [
       "* Video id: HUsIcK1a4B0<br> Is hate speech: Lol what she did to the beanie"
      ],
      "text/plain": [
       "<IPython.core.display.Markdown object>"
      ]
     },
     "metadata": {},
     "output_type": "display_data"
    },
    {
     "data": {
      "text/markdown": [
       "* Video id: HUsIcK1a4B0<br> Is hate speech: She loves Avril Lavigne and that&#39;s enough reason for me to stream all her songs,  love her, watch all her videos,  and wait for her to go to my country to watch her live."
      ],
      "text/plain": [
       "<IPython.core.display.Markdown object>"
      ]
     },
     "metadata": {},
     "output_type": "display_data"
    },
    {
     "data": {
      "text/markdown": [
       "* Video id: HUsIcK1a4B0<br> Is hate speech: Oh my God I&#39;m like your biggest fan and you have my most favorite dog in the entire universe"
      ],
      "text/plain": [
       "<IPython.core.display.Markdown object>"
      ]
     },
     "metadata": {},
     "output_type": "display_data"
    },
    {
     "data": {
      "text/markdown": [
       "* Video id: HUsIcK1a4B0<br> Is hate speech: Why does she have a gangster pikachu on her head, did she kill it?      oh gosh i need to go back to sleep</b>"
      ],
      "text/plain": [
       "<IPython.core.display.Markdown object>"
      ]
     },
     "metadata": {},
     "output_type": "display_data"
    },
    {
     "data": {
      "text/markdown": [
       "* Video id: HUsIcK1a4B0<br> Is hate speech: I feel like shed get along with my sister"
      ],
      "text/plain": [
       "<IPython.core.display.Markdown object>"
      ]
     },
     "metadata": {},
     "output_type": "display_data"
    },
    {
     "data": {
      "text/markdown": [
       "* Video id: HUsIcK1a4B0<br> Is hate speech: Want that head"
      ],
      "text/plain": [
       "<IPython.core.display.Markdown object>"
      ]
     },
     "metadata": {},
     "output_type": "display_data"
    },
    {
     "data": {
      "text/markdown": [
       "* Video id: kAb8HO3GSCk<br> Is hate speech: honestly no hate but everyone is getting mad at ethan when he picked this outfit but when ethan got mad at graysons tattoo everyone got mad at him. i see who the favorite twin is.."
      ],
      "text/plain": [
       "<IPython.core.display.Markdown object>"
      ]
     },
     "metadata": {},
     "output_type": "display_data"
    },
    {
     "data": {
      "text/markdown": [
       "* Video id: kAb8HO3GSCk<br> Is hate speech: Go naked papu jajaja"
      ],
      "text/plain": [
       "<IPython.core.display.Markdown object>"
      ]
     },
     "metadata": {},
     "output_type": "display_data"
    },
    {
     "data": {
      "text/markdown": [
       "* Video id: kAb8HO3GSCk<br> Is hate speech: grayson in the intro jimmy neutron looking ass"
      ],
      "text/plain": [
       "<IPython.core.display.Markdown object>"
      ]
     },
     "metadata": {},
     "output_type": "display_data"
    },
    {
     "data": {
      "text/markdown": [
       "* Video id: kAb8HO3GSCk<br> Is hate speech: Lol this video is cute these twins give me life nd brighten my day"
      ],
      "text/plain": [
       "<IPython.core.display.Markdown object>"
      ]
     },
     "metadata": {},
     "output_type": "display_data"
    },
    {
     "data": {
      "text/markdown": [
       "* Video id: kAb8HO3GSCk<br> Is hate speech: 2 seconds after receiving the plain white shirt  stares at his brother like wtf yo :(</b>"
      ],
      "text/plain": [
       "<IPython.core.display.Markdown object>"
      ]
     },
     "metadata": {},
     "output_type": "display_data"
    },
    {
     "data": {
      "text/markdown": [
       "* Video id: kAb8HO3GSCk<br> Is hate speech: Me: fuck louis vuitton ass niggas  Me 2 seconds later: those shoes are fire yo"
      ],
      "text/plain": [
       "<IPython.core.display.Markdown object>"
      ]
     },
     "metadata": {},
     "output_type": "display_data"
    },
    {
     "data": {
      "text/markdown": [
       "* Video id: kAb8HO3GSCk<br> Is hate speech: oh my god poor Grayson"
      ],
      "text/plain": [
       "<IPython.core.display.Markdown object>"
      ]
     },
     "metadata": {},
     "output_type": "display_data"
    },
    {
     "data": {
      "text/markdown": [
       "* Video id: kAb8HO3GSCk<br> Is hate speech: what is Coachella ? Dont judge me"
      ],
      "text/plain": [
       "<IPython.core.display.Markdown object>"
      ]
     },
     "metadata": {},
     "output_type": "display_data"
    },
    {
     "data": {
      "text/markdown": [
       "* Video id: kAb8HO3GSCk<br> Is hate speech: &quot;That stupid face&quot;  we&#39;re identical</b>"
      ],
      "text/plain": [
       "<IPython.core.display.Markdown object>"
      ]
     },
     "metadata": {},
     "output_type": "display_data"
    },
    {
     "data": {
      "text/markdown": [
       "* Video id: kAb8HO3GSCk<br> Is hate speech: Crimson Chin looking ass"
      ],
      "text/plain": [
       "<IPython.core.display.Markdown object>"
      ]
     },
     "metadata": {},
     "output_type": "display_data"
    },
    {
     "data": {
      "text/markdown": [
       "* Video id: kAb8HO3GSCk<br> Is hate speech: They&#39;re so like hollow wtf"
      ],
      "text/plain": [
       "<IPython.core.display.Markdown object>"
      ]
     },
     "metadata": {},
     "output_type": "display_data"
    },
    {
     "data": {
      "text/markdown": [
       "* Video id: kAb8HO3GSCk<br> Is hate speech: Graysons outfit is horrible !!! Dont wear it lol Ethans our was nice !"
      ],
      "text/plain": [
       "<IPython.core.display.Markdown object>"
      ]
     },
     "metadata": {},
     "output_type": "display_data"
    },
    {
     "data": {
      "text/markdown": [
       "* Video id: kAb8HO3GSCk<br> Is hate speech: Grayson- I will try to make you look as cool as I can...With that stupid face  Ethan- Were identical....  Me: "
      ],
      "text/plain": [
       "<IPython.core.display.Markdown object>"
      ]
     },
     "metadata": {},
     "output_type": "display_data"
    },
    {
     "data": {
      "text/markdown": [
       "* Video id: kAb8HO3GSCk<br> Is hate speech: I thought you guys weren&#39;t twins for a bit of this video. Cause TBH you guys look like you may be brothers or cousins but you look nothing a like. No hate"
      ],
      "text/plain": [
       "<IPython.core.display.Markdown object>"
      ]
     },
     "metadata": {},
     "output_type": "display_data"
    },
    {
     "data": {
      "text/markdown": [
       "* Video id: kAb8HO3GSCk<br> Is hate speech: Stupid face..   Were identical"
      ],
      "text/plain": [
       "<IPython.core.display.Markdown object>"
      ]
     },
     "metadata": {},
     "output_type": "display_data"
    },
    {
     "data": {
      "text/markdown": [
       "* Video id: kAb8HO3GSCk<br> Is hate speech: Grayson yells a lot at Ethan so much. But thats me so Im Grayson Lol "
      ],
      "text/plain": [
       "<IPython.core.display.Markdown object>"
      ]
     },
     "metadata": {},
     "output_type": "display_data"
    },
    {
     "data": {
      "text/markdown": [
       "* Video id: kAb8HO3GSCk<br> Is hate speech: I am white and you both have made me racist towards white people!"
      ],
      "text/plain": [
       "<IPython.core.display.Markdown object>"
      ]
     },
     "metadata": {},
     "output_type": "display_data"
    },
    {
     "data": {
      "text/markdown": [
       "* Video id: lvgVGtqqR1M<br> Is hate speech: Ordered me some razors! Lol, seems like a very good deal. "
      ],
      "text/plain": [
       "<IPython.core.display.Markdown object>"
      ]
     },
     "metadata": {},
     "output_type": "display_data"
    },
    {
     "data": {
      "text/markdown": [
       "* Video id: lvgVGtqqR1M<br> Is hate speech: I just realised Andrews laugh sounds like a goat haha"
      ],
      "text/plain": [
       "<IPython.core.display.Markdown object>"
      ]
     },
     "metadata": {},
     "output_type": "display_data"
    },
    {
     "data": {
      "text/markdown": [
       "* Video id: lvgVGtqqR1M<br> Is hate speech: More like downward goat "
      ],
      "text/plain": [
       "<IPython.core.display.Markdown object>"
      ]
     },
     "metadata": {},
     "output_type": "display_data"
    },
    {
     "data": {
      "text/markdown": [
       "* Video id: lvgVGtqqR1M<br> Is hate speech: I hate these assholes. They put a red bar on the blttom of the video thumbnail to instinctively bait you into thinking you&#39;ve watched this video and click on it. Just want you to know I didn&#39;t fall for it and I clicked willingly to dislike"
      ],
      "text/plain": [
       "<IPython.core.display.Markdown object>"
      ]
     },
     "metadata": {},
     "output_type": "display_data"
    },
    {
     "data": {
      "text/markdown": [
       "* Video id: lvgVGtqqR1M<br> Is hate speech: 15 min  wt this y they humping  .    i hate cow morgan bad ass shes not beautiful  ugly laugh"
      ],
      "text/plain": [
       "<IPython.core.display.Markdown object>"
      ]
     },
     "metadata": {},
     "output_type": "display_data"
    },
    {
     "data": {
      "text/markdown": [
       "* Video id: lvgVGtqqR1M<br> Is hate speech: Nice Shane you gonna fuck your goat too?"
      ],
      "text/plain": [
       "<IPython.core.display.Markdown object>"
      ]
     },
     "metadata": {},
     "output_type": "display_data"
    },
    {
     "data": {
      "text/markdown": [
       "* Video id: lvgVGtqqR1M<br> Is hate speech: Just a question Ryland. Are you a Taurus by any chance ?? Im not sure if you are but you really seem like one in the aspect that you are down for litteraly anything.  Im also a Taurus and Im exactly the same and Im very curious In zodiacs and stuff and realised this was one of the traits"
      ],
      "text/plain": [
       "<IPython.core.display.Markdown object>"
      ]
     },
     "metadata": {},
     "output_type": "display_data"
    },
    {
     "data": {
      "text/markdown": [
       "* Video id: lvgVGtqqR1M<br> Is hate speech: Dont fuck the goat"
      ],
      "text/plain": [
       "<IPython.core.display.Markdown object>"
      ]
     },
     "metadata": {},
     "output_type": "display_data"
    },
    {
     "data": {
      "text/markdown": [
       "* Video id: lvgVGtqqR1M<br> Is hate speech: So cuuuuuuute! Please, go vegan! They&#39;re just too adorable! "
      ],
      "text/plain": [
       "<IPython.core.display.Markdown object>"
      ]
     },
     "metadata": {},
     "output_type": "display_data"
    },
    {
     "data": {
      "text/markdown": [
       "* Video id: lvgVGtqqR1M<br> Is hate speech: icons as always. bitch we stan."
      ],
      "text/plain": [
       "<IPython.core.display.Markdown object>"
      ]
     },
     "metadata": {},
     "output_type": "display_data"
    },
    {
     "data": {
      "text/markdown": [
       "* Video id: lvgVGtqqR1M<br> Is hate speech: Lol shane is gonna fuck them cause he likes having sex with animals like dogs and cats"
      ],
      "text/plain": [
       "<IPython.core.display.Markdown object>"
      ]
     },
     "metadata": {},
     "output_type": "display_data"
    },
    {
     "data": {
      "text/markdown": [
       "* Video id: lvgVGtqqR1M<br> Is hate speech: Is funny how gay people be getting hella views just bc theyre gay and special tf"
      ],
      "text/plain": [
       "<IPython.core.display.Markdown object>"
      ]
     },
     "metadata": {},
     "output_type": "display_data"
    },
    {
     "data": {
      "text/markdown": [
       "* Video id: lvgVGtqqR1M<br> Is hate speech: I love this Ryland is living his BEST life and bringing happiness to his family "
      ],
      "text/plain": [
       "<IPython.core.display.Markdown object>"
      ]
     },
     "metadata": {},
     "output_type": "display_data"
    },
    {
     "data": {
      "text/markdown": [
       "* Video id: lvgVGtqqR1M<br> Is hate speech: Morgan: Im taking my goat for a ride  cuts to clip of her crawling away w kid on her back</b> I CACKLED HA"
      ],
      "text/plain": [
       "<IPython.core.display.Markdown object>"
      ]
     },
     "metadata": {},
     "output_type": "display_data"
    },
    {
     "data": {
      "text/markdown": [
       "* Video id: lvgVGtqqR1M<br> Is hate speech: Is Shane gonna nut on it lol"
      ],
      "text/plain": [
       "<IPython.core.display.Markdown object>"
      ]
     },
     "metadata": {},
     "output_type": "display_data"
    },
    {
     "data": {
      "text/markdown": [
       "* Video id: lvgVGtqqR1M<br> Is hate speech: Another thing for shane to fuck"
      ],
      "text/plain": [
       "<IPython.core.display.Markdown object>"
      ]
     },
     "metadata": {},
     "output_type": "display_data"
    },
    {
     "data": {
      "text/markdown": [
       "* Video id: lvgVGtqqR1M<br> Is hate speech: I hate every colour meee"
      ],
      "text/plain": [
       "<IPython.core.display.Markdown object>"
      ]
     },
     "metadata": {},
     "output_type": "display_data"
    },
    {
     "data": {
      "text/markdown": [
       "* Video id: lvgVGtqqR1M<br> Is hate speech: OH MY GOOOD I LOVE GOATS   BTW CONGRATS ON YOUR ENGAGEMENT "
      ],
      "text/plain": [
       "<IPython.core.display.Markdown object>"
      ]
     },
     "metadata": {},
     "output_type": "display_data"
    },
    {
     "data": {
      "text/markdown": [
       "* Video id: lvgVGtqqR1M<br> Is hate speech: Lol oral"
      ],
      "text/plain": [
       "<IPython.core.display.Markdown object>"
      ]
     },
     "metadata": {},
     "output_type": "display_data"
    },
    {
     "data": {
      "text/markdown": [
       "* Video id: lvgVGtqqR1M<br> Is hate speech: DONT TOUCH THE GOATS BOYS YOU SICK BASTARDS"
      ],
      "text/plain": [
       "<IPython.core.display.Markdown object>"
      ]
     },
     "metadata": {},
     "output_type": "display_data"
    },
    {
     "data": {
      "text/markdown": [
       "* Video id: lvgVGtqqR1M<br> Is hate speech: Hey Ryland! I know you and Shane have talked about getting a llama at some point.  But maybe consider a pair (they can die of loneliness) of Alpacas instead. They&#39;re smaller, nicer, need less pasture space, and sound like squeaky toys when alarmed."
      ],
      "text/plain": [
       "<IPython.core.display.Markdown object>"
      ]
     },
     "metadata": {},
     "output_type": "display_data"
    },
    {
     "data": {
      "text/markdown": [
       "* Video id: zxVmyC5xqUE<br> Is hate speech: This is my first time watching youre video and I find you funny as hell so I subscribed! From Canada "
      ],
      "text/plain": [
       "<IPython.core.display.Markdown object>"
      ]
     },
     "metadata": {},
     "output_type": "display_data"
    },
    {
     "data": {
      "text/markdown": [
       "* Video id: zxVmyC5xqUE<br> Is hate speech: People who don&#39;t like pickles should not be allowed to decide how many pickles go on a burger."
      ],
      "text/plain": [
       "<IPython.core.display.Markdown object>"
      ]
     },
     "metadata": {},
     "output_type": "display_data"
    },
    {
     "data": {
      "text/markdown": [
       "* Video id: zxVmyC5xqUE<br> Is hate speech: That&#39;s a masterpiece Sam... hey... what happened to that artsy fartsy music that used to play in the background back in the early 2000s... like 06ish... with the cool lighting and shit.... well, at least we don&#39;t have to see your feet anymore while conjuring the hunger for the great culinary feats that you accomplish... your culinary feats are better without the feets...  "
      ],
      "text/plain": [
       "<IPython.core.display.Markdown object>"
      ]
     },
     "metadata": {},
     "output_type": "display_data"
    },
    {
     "data": {
      "text/markdown": [
       "* Video id: zxVmyC5xqUE<br> Is hate speech: I really like these videos where you just ramble on about stuff."
      ],
      "text/plain": [
       "<IPython.core.display.Markdown object>"
      ]
     },
     "metadata": {},
     "output_type": "display_data"
    },
    {
     "data": {
      "text/markdown": [
       "* Video id: zxVmyC5xqUE<br> Is hate speech: Fucking Allan and his god damn pickle restriction"
      ],
      "text/plain": [
       "<IPython.core.display.Markdown object>"
      ]
     },
     "metadata": {},
     "output_type": "display_data"
    },
    {
     "data": {
      "text/markdown": [
       "* Video id: zxVmyC5xqUE<br> Is hate speech: As usual I come to see a Big Mac replicated only to find yet another YouTuber giving up any semblance of a real Big Mac and really just making a double-decker burger. You had the lettuce wrong, you needed long shreds, pickles were way too thick, the onions were diced and not minced as they should be, you even got the sauce wrong, and of course you made the burgers thicker than a Big Mac.Why not just say here is my double decker burger, it is &quot;styled&quot; after the Big Mac but blah, blah, blah. I have made plenty of double-deckers but they are notBig Mac&#39;s, there is only one way to get a Big Mac, you have to go to McDonalds, it costs a lot less than home made, takes a lot more time, and in the end does not taste like a Big Mac.   Of course I will look at a Big Mac again, you know, any time I don&#39;t have an hour to get aburger."
      ],
      "text/plain": [
       "<IPython.core.display.Markdown object>"
      ]
     },
     "metadata": {},
     "output_type": "display_data"
    },
    {
     "data": {
      "text/markdown": [
       "* Video id: zxVmyC5xqUE<br> Is hate speech: Yo b!tch your wack ass didn&#39;t make your own bun...... Still gonna subscribe tho..."
      ],
      "text/plain": [
       "<IPython.core.display.Markdown object>"
      ]
     },
     "metadata": {},
     "output_type": "display_data"
    },
    {
     "data": {
      "text/markdown": [
       "* Video id: zxVmyC5xqUE<br> Is hate speech: Ive never tried wagyu beef before, how big of a mistake is that?"
      ],
      "text/plain": [
       "<IPython.core.display.Markdown object>"
      ]
     },
     "metadata": {},
     "output_type": "display_data"
    },
    {
     "data": {
      "text/markdown": [
       "* Video id: zxVmyC5xqUE<br> Is hate speech: Alan is a d***  lol"
      ],
      "text/plain": [
       "<IPython.core.display.Markdown object>"
      ]
     },
     "metadata": {},
     "output_type": "display_data"
    },
    {
     "data": {
      "text/markdown": [
       "* Video id: zxVmyC5xqUE<br> Is hate speech: Hey ass hole... lol"
      ],
      "text/plain": [
       "<IPython.core.display.Markdown object>"
      ]
     },
     "metadata": {},
     "output_type": "display_data"
    },
    {
     "data": {
      "text/markdown": [
       "* Video id: zxVmyC5xqUE<br> Is hate speech: Holy shit, I love your shirt lol"
      ],
      "text/plain": [
       "<IPython.core.display.Markdown object>"
      ]
     },
     "metadata": {},
     "output_type": "display_data"
    },
    {
     "data": {
      "text/markdown": [
       "* Video id: zxVmyC5xqUE<br> Is hate speech: Lol you cut the fuck out of that board"
      ],
      "text/plain": [
       "<IPython.core.display.Markdown object>"
      ]
     },
     "metadata": {},
     "output_type": "display_data"
    },
    {
     "data": {
      "text/markdown": [
       "* Video id: zxVmyC5xqUE<br> Is hate speech: Sam! I suggested the and we mix shirts weeks ago! Why does Jenna get all the love???!"
      ],
      "text/plain": [
       "<IPython.core.display.Markdown object>"
      ]
     },
     "metadata": {},
     "output_type": "display_data"
    },
    {
     "data": {
      "text/markdown": [
       "* Video id: zxVmyC5xqUE<br> Is hate speech: Can&#39;t believe those people insulted you like that! It should have gone, &quot;Hey fuckwhistle, you have got to be dumber than weasel shit at the bottom of a well to not make your own bun!&quot; There, that&#39;s better."
      ],
      "text/plain": [
       "<IPython.core.display.Markdown object>"
      ]
     },
     "metadata": {},
     "output_type": "display_data"
    },
    {
     "data": {
      "text/markdown": [
       "* Video id: zxVmyC5xqUE<br> Is hate speech: This niggas high as mother fucka puttin a hot hash brown in his burger, dawg i get its basically smash fries, but dawg you shoulda put in mcdonalds hot fries."
      ],
      "text/plain": [
       "<IPython.core.display.Markdown object>"
      ]
     },
     "metadata": {},
     "output_type": "display_data"
    },
    {
     "data": {
      "text/markdown": [
       "* Video id: zxVmyC5xqUE<br> Is hate speech: Sams $42 Big Mac."
      ],
      "text/plain": [
       "<IPython.core.display.Markdown object>"
      ]
     },
     "metadata": {},
     "output_type": "display_data"
    },
    {
     "data": {
      "text/markdown": [
       "* Video id: zxVmyC5xqUE<br> Is hate speech: I wont eat McDees its not beef, who knows what it is"
      ],
      "text/plain": [
       "<IPython.core.display.Markdown object>"
      ]
     },
     "metadata": {},
     "output_type": "display_data"
    },
    {
     "data": {
      "text/markdown": [
       "* Video id: zxVmyC5xqUE<br> Is hate speech: Im not a cook!!  Sorry you did the Nixon thing.  Man I need to go shopping tomorrow.  This is going to be delicious.  Thanks man.  Oh and on 4/2 I stopped by NNT with the family and it was great!  To bad we missed you."
      ],
      "text/plain": [
       "<IPython.core.display.Markdown object>"
      ]
     },
     "metadata": {},
     "output_type": "display_data"
    },
    {
     "data": {
      "text/markdown": [
       "* Video id: zxVmyC5xqUE<br> Is hate speech: Can we get &quot;Fuck Alan&quot; shirts?"
      ],
      "text/plain": [
       "<IPython.core.display.Markdown object>"
      ]
     },
     "metadata": {},
     "output_type": "display_data"
    },
    {
     "data": {
      "text/markdown": [
       "* Video id: AkK_n5Q8M38<br> Is hate speech: Get Riley do the part 2 with LowSpecGamer please :D"
      ],
      "text/plain": [
       "<IPython.core.display.Markdown object>"
      ]
     },
     "metadata": {},
     "output_type": "display_data"
    },
    {
     "data": {
      "text/markdown": [
       "* Video id: AkK_n5Q8M38<br> Is hate speech: Is it worth the prize to get a i5 9600k over a i5 9400f?"
      ],
      "text/plain": [
       "<IPython.core.display.Markdown object>"
      ]
     },
     "metadata": {},
     "output_type": "display_data"
    },
    {
     "data": {
      "text/markdown": [
       "* Video id: AkK_n5Q8M38<br> Is hate speech: Writers shouldnt come outside to the real world !"
      ],
      "text/plain": [
       "<IPython.core.display.Markdown object>"
      ]
     },
     "metadata": {},
     "output_type": "display_data"
    },
    {
     "data": {
      "text/markdown": [
       "* Video id: AkK_n5Q8M38<br> Is hate speech: Those companies are like the douchie boyfriend who buys food for his girlfriend 3 times a day. Fucking her for breakfast, lunch, and dinner."
      ],
      "text/plain": [
       "<IPython.core.display.Markdown object>"
      ]
     },
     "metadata": {},
     "output_type": "display_data"
    },
    {
     "data": {
      "text/markdown": [
       "* Video id: AkK_n5Q8M38<br> Is hate speech: Oh its like my current PC, but I have more ram :)"
      ],
      "text/plain": [
       "<IPython.core.display.Markdown object>"
      ]
     },
     "metadata": {},
     "output_type": "display_data"
    },
    {
     "data": {
      "text/markdown": [
       "* Video id: AkK_n5Q8M38<br> Is hate speech: That looked like unreal tournament you were playing"
      ],
      "text/plain": [
       "<IPython.core.display.Markdown object>"
      ]
     },
     "metadata": {},
     "output_type": "display_data"
    },
    {
     "data": {
      "text/markdown": [
       "* Video id: AkK_n5Q8M38<br> Is hate speech: So guys. Today is a historic moment. I realized that Linus is the creepy old gay neighbour from family guy, but when he was younger.  Who sees it? Notice how Linus likes to switch up his on-screen colleagues quiite often? Nudge nudge,  he hits on his onscreen assistants so much that it actually has to be played down and edited out it&#39;s so bad</b>"
      ],
      "text/plain": [
       "<IPython.core.display.Markdown object>"
      ]
     },
     "metadata": {},
     "output_type": "display_data"
    },
    {
     "data": {
      "text/markdown": [
       "* Video id: AkK_n5Q8M38<br> Is hate speech: And that&#39;s y i dont buy prebuilt."
      ],
      "text/plain": [
       "<IPython.core.display.Markdown object>"
      ]
     },
     "metadata": {},
     "output_type": "display_data"
    },
    {
     "data": {
      "text/markdown": [
       "* Video id: AkK_n5Q8M38<br> Is hate speech: video is color graded like a bitch"
      ],
      "text/plain": [
       "<IPython.core.display.Markdown object>"
      ]
     },
     "metadata": {},
     "output_type": "display_data"
    },
    {
     "data": {
      "text/markdown": [
       "* Video id: AkK_n5Q8M38<br> Is hate speech: Lol"
      ],
      "text/plain": [
       "<IPython.core.display.Markdown object>"
      ]
     },
     "metadata": {},
     "output_type": "display_data"
    },
    {
     "data": {
      "text/markdown": [
       "* Video id: AkK_n5Q8M38<br> Is hate speech: Pcpartpicker compatibility checker. Thats all Im gonna say."
      ],
      "text/plain": [
       "<IPython.core.display.Markdown object>"
      ]
     },
     "metadata": {},
     "output_type": "display_data"
    },
    {
     "data": {
      "text/markdown": [
       "* Video id: AkK_n5Q8M38<br> Is hate speech: I fucking love Riley. Always have, always will. Loved him when he was at NCIX and loved when he got a job at LTT. I&#39;m straight, but for Riley... oh man..."
      ],
      "text/plain": [
       "<IPython.core.display.Markdown object>"
      ]
     },
     "metadata": {},
     "output_type": "display_data"
    },
    {
     "data": {
      "text/markdown": [
       "* Video id: AkK_n5Q8M38<br> Is hate speech: shoot that pc with buck shot or maybe a slug lol"
      ],
      "text/plain": [
       "<IPython.core.display.Markdown object>"
      ]
     },
     "metadata": {},
     "output_type": "display_data"
    },
    {
     "data": {
      "text/markdown": [
       "* Video id: AkK_n5Q8M38<br> Is hate speech: The beginning of the video is bright as fuck. For a second thought my TV was having problems."
      ],
      "text/plain": [
       "<IPython.core.display.Markdown object>"
      ]
     },
     "metadata": {},
     "output_type": "display_data"
    },
    {
     "data": {
      "text/markdown": [
       "* Video id: AkK_n5Q8M38<br> Is hate speech: This is the kind of shit I come here for. Love it."
      ],
      "text/plain": [
       "<IPython.core.display.Markdown object>"
      ]
     },
     "metadata": {},
     "output_type": "display_data"
    },
    {
     "data": {
      "text/markdown": [
       "* Video id: AkK_n5Q8M38<br> Is hate speech: Riley could get a job at the Verge."
      ],
      "text/plain": [
       "<IPython.core.display.Markdown object>"
      ]
     },
     "metadata": {},
     "output_type": "display_data"
    },
    {
     "data": {
      "text/markdown": [
       "* Video id: FZIKVN9BQQA<br> Is hate speech: Carter (the bigger girl) is beautiful as fuck. Like, girl, be my bff and teach me your secrets cause youre STUNNING"
      ],
      "text/plain": [
       "<IPython.core.display.Markdown object>"
      ]
     },
     "metadata": {},
     "output_type": "display_data"
    },
    {
     "data": {
      "text/markdown": [
       "* Video id: FZIKVN9BQQA<br> Is hate speech: People freaking suck!! Why put other people down!? These people are all beautiful!"
      ],
      "text/plain": [
       "<IPython.core.display.Markdown object>"
      ]
     },
     "metadata": {},
     "output_type": "display_data"
    },
    {
     "data": {
      "text/markdown": [
       "* Video id: FZIKVN9BQQA<br> Is hate speech: I don&#39;t care what anyone says Carter is gorgeous"
      ],
      "text/plain": [
       "<IPython.core.display.Markdown object>"
      ]
     },
     "metadata": {},
     "output_type": "display_data"
    },
    {
     "data": {
      "text/markdown": [
       "* Video id: FZIKVN9BQQA<br> Is hate speech: I&#39;m a fat person because i eat out of self steam issues and always being depressed. When i see another fat person i assume the same for them. Also, fat people tend to be very picky when it comes to the opposite sex, for some fucking reason."
      ],
      "text/plain": [
       "<IPython.core.display.Markdown object>"
      ]
     },
     "metadata": {},
     "output_type": "display_data"
    },
    {
     "data": {
      "text/markdown": [
       "* Video id: FZIKVN9BQQA<br> Is hate speech:  if i were there i&#39;d be like, &#39;bitch you fine as fuck where&#39;d you get those earrings?</b>"
      ],
      "text/plain": [
       "<IPython.core.display.Markdown object>"
      ]
     },
     "metadata": {},
     "output_type": "display_data"
    },
    {
     "data": {
      "text/markdown": [
       "* Video id: FZIKVN9BQQA<br> Is hate speech: That tall model guy isn&#39;t attractive at all. He&#39;s arrogant...and I really don&#39;t like that."
      ],
      "text/plain": [
       "<IPython.core.display.Markdown object>"
      ]
     },
     "metadata": {},
     "output_type": "display_data"
    },
    {
     "data": {
      "text/markdown": [
       "* Video id: FZIKVN9BQQA<br> Is hate speech: now the thing they dont tell you is that there is very likely someone who looks at you as at least an 8"
      ],
      "text/plain": [
       "<IPython.core.display.Markdown object>"
      ]
     },
     "metadata": {},
     "output_type": "display_data"
    },
    {
     "data": {
      "text/markdown": [
       "* Video id: FZIKVN9BQQA<br> Is hate speech: Afro guy is hot"
      ],
      "text/plain": [
       "<IPython.core.display.Markdown object>"
      ]
     },
     "metadata": {},
     "output_type": "display_data"
    },
    {
     "data": {
      "text/markdown": [
       "* Video id: FZIKVN9BQQA<br> Is hate speech: Whats the plus size girls insta? Shes so beautiful her personality is the shit."
      ],
      "text/plain": [
       "<IPython.core.display.Markdown object>"
      ]
     },
     "metadata": {},
     "output_type": "display_data"
    },
    {
     "data": {
      "text/markdown": [
       "* Video id: FZIKVN9BQQA<br> Is hate speech: People judge me cause Im a fat bitch"
      ],
      "text/plain": [
       "<IPython.core.display.Markdown object>"
      ]
     },
     "metadata": {},
     "output_type": "display_data"
    },
    {
     "data": {
      "text/markdown": [
       "* Video id: FZIKVN9BQQA<br> Is hate speech: I think the people being judged should have then judged the people who judged them. Honestly those people just said some really hurtful shit nothing nice unless you were &quot;Pretty and skinny&quot; I mean wow"
      ],
      "text/plain": [
       "<IPython.core.display.Markdown object>"
      ]
     },
     "metadata": {},
     "output_type": "display_data"
    },
    {
     "data": {
      "text/markdown": [
       "* Video id: FZIKVN9BQQA<br> Is hate speech: Honestly......        Im a Gremlin so you know Im like an 1000 right?"
      ],
      "text/plain": [
       "<IPython.core.display.Markdown object>"
      ]
     },
     "metadata": {},
     "output_type": "display_data"
    },
    {
     "data": {
      "text/markdown": [
       "* Video id: FZIKVN9BQQA<br> Is hate speech: Brothers from the hood likes big girls if u know what im sayin"
      ],
      "text/plain": [
       "<IPython.core.display.Markdown object>"
      ]
     },
     "metadata": {},
     "output_type": "display_data"
    },
    {
     "data": {
      "text/markdown": [
       "* Video id: FZIKVN9BQQA<br> Is hate speech: Its true society does shit on fat people.  I as a curvy lady I feel like that is true. I dont let that hold me back though. I only have one life to live to be down about it all the time .Im may not be attracted to most of these people but I do find them all beautiful."
      ],
      "text/plain": [
       "<IPython.core.display.Markdown object>"
      ]
     },
     "metadata": {},
     "output_type": "display_data"
    },
    {
     "data": {
      "text/markdown": [
       "* Video id: FZIKVN9BQQA<br> Is hate speech: I dont think that white guy looks good mane idk"
      ],
      "text/plain": [
       "<IPython.core.display.Markdown object>"
      ]
     },
     "metadata": {},
     "output_type": "display_data"
    },
    {
     "data": {
      "text/markdown": [
       "* Video id: FZIKVN9BQQA<br> Is hate speech: Wait the asian guy has a perfectly fine face! Its not long at all + there was NOTHING weird about his face.. Im not even being nice"
      ],
      "text/plain": [
       "<IPython.core.display.Markdown object>"
      ]
     },
     "metadata": {},
     "output_type": "display_data"
    },
    {
     "data": {
      "text/markdown": [
       "* Video id: FZIKVN9BQQA<br> Is hate speech: madison needa go"
      ],
      "text/plain": [
       "<IPython.core.display.Markdown object>"
      ]
     },
     "metadata": {},
     "output_type": "display_data"
    },
    {
     "data": {
      "text/markdown": [
       "* Video id: FZIKVN9BQQA<br> Is hate speech: Fat people represent"
      ],
      "text/plain": [
       "<IPython.core.display.Markdown object>"
      ]
     },
     "metadata": {},
     "output_type": "display_data"
    },
    {
     "data": {
      "text/markdown": [
       "* Video id: FZIKVN9BQQA<br> Is hate speech: The girl in the blue blazer was a bitch and seemed to only give the white people the highest rating"
      ],
      "text/plain": [
       "<IPython.core.display.Markdown object>"
      ]
     },
     "metadata": {},
     "output_type": "display_data"
    },
    {
     "data": {
      "text/markdown": [
       "* Video id: FZIKVN9BQQA<br> Is hate speech: carter is the shit"
      ],
      "text/plain": [
       "<IPython.core.display.Markdown object>"
      ]
     },
     "metadata": {},
     "output_type": "display_data"
    },
    {
     "data": {
      "text/markdown": [
       "* Video id: FZIKVN9BQQA<br> Is hate speech: I usally hate cringey clickbaity websites like this one and others but this video I&#39;m okay with"
      ],
      "text/plain": [
       "<IPython.core.display.Markdown object>"
      ]
     },
     "metadata": {},
     "output_type": "display_data"
    },
    {
     "data": {
      "text/markdown": [
       "* Video id: FZIKVN9BQQA<br> Is hate speech: The two white people got 10/10 not surprised  for me The Asian guy and the black guy were 10/10"
      ],
      "text/plain": [
       "<IPython.core.display.Markdown object>"
      ]
     },
     "metadata": {},
     "output_type": "display_data"
    },
    {
     "data": {
      "text/markdown": [
       "* Video id: FZIKVN9BQQA<br> Is hate speech: The fat bitches favor place to eat in hardees "
      ],
      "text/plain": [
       "<IPython.core.display.Markdown object>"
      ]
     },
     "metadata": {},
     "output_type": "display_data"
    },
    {
     "data": {
      "text/markdown": [
       "* Video id: FZIKVN9BQQA<br> Is hate speech: The girl with the star earrings is so pretty. Fat or not for me personally that&#39;s not something that determines beauty."
      ],
      "text/plain": [
       "<IPython.core.display.Markdown object>"
      ]
     },
     "metadata": {},
     "output_type": "display_data"
    },
    {
     "data": {
      "text/markdown": [
       "* Video id: FZIKVN9BQQA<br> Is hate speech: You females saying that male model is basic or ugly know that he would never mess with yall ugly basic asses and because of that you just start thinking fuck it this guy would never want me so ill just be a a fucking lying bitch right now and talk shit about him. You bitches make me sick really commenting trying to make other people think he ain&#39;t all that whem you hoes never been with someone that good looking and currently dating niggas that look like lil boosie"
      ],
      "text/plain": [
       "<IPython.core.display.Markdown object>"
      ]
     },
     "metadata": {},
     "output_type": "display_data"
    },
    {
     "data": {
      "text/markdown": [
       "* Video id: FZIKVN9BQQA<br> Is hate speech: I thought Brajoro was pretty cute, but I didn&#39;t like the mustache mostly cause I don&#39;t really like them lol"
      ],
      "text/plain": [
       "<IPython.core.display.Markdown object>"
      ]
     },
     "metadata": {},
     "output_type": "display_data"
    },
    {
     "data": {
      "text/markdown": [
       "* Video id: FZIKVN9BQQA<br> Is hate speech: Gay!"
      ],
      "text/plain": [
       "<IPython.core.display.Markdown object>"
      ]
     },
     "metadata": {},
     "output_type": "display_data"
    },
    {
     "data": {
      "text/markdown": [
       "* Video id: FZIKVN9BQQA<br> Is hate speech: I like that attractive guy he was speaking truth about attractive people having privilege."
      ],
      "text/plain": [
       "<IPython.core.display.Markdown object>"
      ]
     },
     "metadata": {},
     "output_type": "display_data"
    },
    {
     "data": {
      "text/markdown": [
       "* Video id: FZIKVN9BQQA<br> Is hate speech: Im talking about that fat girl... Its obvious her self-esteem is so bad.. she know she doesnt look nice .. but instead of trying or and satisfying her self doing something nice for her self..she just.. accept thay she is not attractive and stays like that... And you know that might be even worse for her health! I mean take care of yourselves in any situation.. work it.. or at least try to look good.. don&#39;t just accept that you never gonna look nice... If you dont like yourselves.... Boyyy i m telling you noone is gonna like you... Just cause of your insecurity... Be good .m first for yourself.. and then you will be nice and for the others! (No hate.. just waking some people up that they need it!) "
      ],
      "text/plain": [
       "<IPython.core.display.Markdown object>"
      ]
     },
     "metadata": {},
     "output_type": "display_data"
    },
    {
     "data": {
      "text/markdown": [
       "* Video id: FZIKVN9BQQA<br> Is hate speech: not a single person in this video is unattractive !!! beauty is so dumb, every human has different preferences and i hate this idea of judging on a number scale. fuck that, all yall gorgeous!!!! hit me up ;) lmaiduvhifjoafsid"
      ],
      "text/plain": [
       "<IPython.core.display.Markdown object>"
      ]
     },
     "metadata": {},
     "output_type": "display_data"
    },
    {
     "data": {
      "text/markdown": [
       "* Video id: FZIKVN9BQQA<br> Is hate speech: fat people are ugly black people are unsightly people with weird and made up genders  are schizos live with that.    (i can smell the original &quot;oh *generic and unfunny progressive  answer*+live with that comments )"
      ],
      "text/plain": [
       "<IPython.core.display.Markdown object>"
      ]
     },
     "metadata": {},
     "output_type": "display_data"
    },
    {
     "data": {
      "text/markdown": [
       "* Video id: FZIKVN9BQQA<br> Is hate speech: Shut the fuck  up pussy libtards, the  west  has died   and it&#39;s your fault"
      ],
      "text/plain": [
       "<IPython.core.display.Markdown object>"
      ]
     },
     "metadata": {},
     "output_type": "display_data"
    },
    {
     "data": {
      "text/markdown": [
       "* Video id: FZIKVN9BQQA<br> Is hate speech: Bro they act as if being fat is fate. Just go workout. U cant be a fat ass and expect to be beautiful and say SoCiEtY sHiTs On FaT pEoPlE"
      ],
      "text/plain": [
       "<IPython.core.display.Markdown object>"
      ]
     },
     "metadata": {},
     "output_type": "display_data"
    },
    {
     "data": {
      "text/markdown": [
       "* Video id: FZIKVN9BQQA<br> Is hate speech: I hate the first guy he has the worst voice"
      ],
      "text/plain": [
       "<IPython.core.display.Markdown object>"
      ]
     },
     "metadata": {},
     "output_type": "display_data"
    },
    {
     "data": {
      "text/markdown": [
       "* Video id: FZIKVN9BQQA<br> Is hate speech: Some of these are crazy..... I almost never prefer black women, but Jenny is fine as hell.  Hey Jenny, if you like slightly overweight white dudes that love to cook, have a great job, and like motorsports: HIT ME UP.    Unrelated.... Blazer girl is the &quot;extremely high standards even though I&#39;m a 5 and can&#39;t figure out why I&#39;m forever single&quot; kinda girl..... it isn&#39;t your looks you black hearted, demon hooker."
      ],
      "text/plain": [
       "<IPython.core.display.Markdown object>"
      ]
     },
     "metadata": {},
     "output_type": "display_data"
    },
    {
     "data": {
      "text/markdown": [
       "* Video id: FZIKVN9BQQA<br> Is hate speech: Stop judging people based on looks"
      ],
      "text/plain": [
       "<IPython.core.display.Markdown object>"
      ]
     },
     "metadata": {},
     "output_type": "display_data"
    },
    {
     "data": {
      "text/markdown": [
       "* Video id: FZIKVN9BQQA<br> Is hate speech: Why do I always end up liking the gay guys :c? I&#39;m the opposite of James Charles wtf. (James always likes the straight guys lol)"
      ],
      "text/plain": [
       "<IPython.core.display.Markdown object>"
      ]
     },
     "metadata": {},
     "output_type": "display_data"
    },
    {
     "data": {
      "text/markdown": [
       "* Video id: FZIKVN9BQQA<br> Is hate speech: How about yall dont feature Madison anymore... that woman seems to be really high on her shit. Yikes."
      ],
      "text/plain": [
       "<IPython.core.display.Markdown object>"
      ]
     },
     "metadata": {},
     "output_type": "display_data"
    },
    {
     "data": {
      "text/markdown": [
       "* Video id: FZIKVN9BQQA<br> Is hate speech: Wtf ...Who these cornballs to judge people on their looks? Especially that bitchy whore with the one night stand material comment. Girl is a -23 fuck outta here"
      ],
      "text/plain": [
       "<IPython.core.display.Markdown object>"
      ]
     },
     "metadata": {},
     "output_type": "display_data"
    },
    {
     "data": {
      "text/markdown": [
       "* Video id: FZIKVN9BQQA<br> Is hate speech: I feel Carter. Like how fat people can be seen as unattractive or fetishised, that happens a lot to Asian women. Kids would tell me I&#39;m ugly when i was young but now people stare on me when i walk down the street"
      ],
      "text/plain": [
       "<IPython.core.display.Markdown object>"
      ]
     },
     "metadata": {},
     "output_type": "display_data"
    },
    {
     "data": {
      "text/markdown": [
       "* Video id: FZIKVN9BQQA<br> Is hate speech: I really, really, REALLY adore Carter! She looks like a real sweety with a big heart! I like her looks AND size, too. I&#39;m a chubby chaser, but mainly look a great personality, and she definitely has all that. I find that people like Carter are unique in which those people are hard to find in our society nowadays. I, personally would LOVE to have  Carter by my side ;-)"
      ],
      "text/plain": [
       "<IPython.core.display.Markdown object>"
      ]
     },
     "metadata": {},
     "output_type": "display_data"
    },
    {
     "data": {
      "text/markdown": [
       "* Video id: FZIKVN9BQQA<br> Is hate speech: Itd be funny if someone like Gisele Bundchen walked out and rated Madison a five lol"
      ],
      "text/plain": [
       "<IPython.core.display.Markdown object>"
      ]
     },
     "metadata": {},
     "output_type": "display_data"
    },
    {
     "data": {
      "text/markdown": [
       "* Video id: FZIKVN9BQQA<br> Is hate speech: None of these ppl are 5s they really are dick heads"
      ],
      "text/plain": [
       "<IPython.core.display.Markdown object>"
      ]
     },
     "metadata": {},
     "output_type": "display_data"
    },
    {
     "data": {
      "text/markdown": [
       "* Video id: klpDHn8viX8<br> Is hate speech: So everyones experiencing a 2D reality on the surface but perspective makes it feel like a true 3D reality. Is that why I think Im the shit! Makes sense.."
      ],
      "text/plain": [
       "<IPython.core.display.Markdown object>"
      ]
     },
     "metadata": {},
     "output_type": "display_data"
    },
    {
     "data": {
      "text/markdown": [
       "* Video id: klpDHn8viX8<br> Is hate speech: This video makes me feel stupid."
      ],
      "text/plain": [
       "<IPython.core.display.Markdown object>"
      ]
     },
     "metadata": {},
     "output_type": "display_data"
    },
    {
     "data": {
      "text/markdown": [
       "* Video id: klpDHn8viX8<br> Is hate speech: Yea.... maybe...... so what. Want to watch something worthwhile concerning life and its purpose......type Mary Neal and Eben Alexander"
      ],
      "text/plain": [
       "<IPython.core.display.Markdown object>"
      ]
     },
     "metadata": {},
     "output_type": "display_data"
    },
    {
     "data": {
      "text/markdown": [
       "* Video id: klpDHn8viX8<br> Is hate speech: When we die, our simulation is reset and we wake up. All of humanity enter a room and there is Sir Penrose sitting in the throne."
      ],
      "text/plain": [
       "<IPython.core.display.Markdown object>"
      ]
     },
     "metadata": {},
     "output_type": "display_data"
    },
    {
     "data": {
      "text/markdown": [
       "* Video id: klpDHn8viX8<br> Is hate speech: I tried taking the stairs to get up to Prof. Penrose&#39;s office but I kept ending up in the cafeteria on the next lower floor."
      ],
      "text/plain": [
       "<IPython.core.display.Markdown object>"
      ]
     },
     "metadata": {},
     "output_type": "display_data"
    },
    {
     "data": {
      "text/markdown": [
       "* Video id: klpDHn8viX8<br> Is hate speech: I felt like I was stoned when I was listening to this"
      ],
      "text/plain": [
       "<IPython.core.display.Markdown object>"
      ]
     },
     "metadata": {},
     "output_type": "display_data"
    },
    {
     "data": {
      "text/markdown": [
       "* Video id: klpDHn8viX8<br> Is hate speech: I love smokin some weed and watchin this shit..   it blows my mind!!"
      ],
      "text/plain": [
       "<IPython.core.display.Markdown object>"
      ]
     },
     "metadata": {},
     "output_type": "display_data"
    },
    {
     "data": {
      "text/markdown": [
       "* Video id: klpDHn8viX8<br> Is hate speech: Nani the fuck"
      ],
      "text/plain": [
       "<IPython.core.display.Markdown object>"
      ]
     },
     "metadata": {},
     "output_type": "display_data"
    },
    {
     "data": {
      "text/markdown": [
       "* Video id: j4jZx4Zwkzo<br> Is hate speech: I like blue cheese :("
      ],
      "text/plain": [
       "<IPython.core.display.Markdown object>"
      ]
     },
     "metadata": {},
     "output_type": "display_data"
    },
    {
     "data": {
      "text/markdown": [
       "* Video id: j4jZx4Zwkzo<br> Is hate speech: Im with Jen I hate blue cheese "
      ],
      "text/plain": [
       "<IPython.core.display.Markdown object>"
      ]
     },
     "metadata": {},
     "output_type": "display_data"
    },
    {
     "data": {
      "text/markdown": [
       "* Video id: j4jZx4Zwkzo<br> Is hate speech: this is my favorite lady like combo. more jen and kristin"
      ],
      "text/plain": [
       "<IPython.core.display.Markdown object>"
      ]
     },
     "metadata": {},
     "output_type": "display_data"
    },
    {
     "data": {
      "text/markdown": [
       "* Video id: j4jZx4Zwkzo<br> Is hate speech: What are the 29 cheeses you guys used? I want to make it at home and just eat it for 3 days"
      ],
      "text/plain": [
       "<IPython.core.display.Markdown object>"
      ]
     },
     "metadata": {},
     "output_type": "display_data"
    },
    {
     "data": {
      "text/markdown": [
       "* Video id: j4jZx4Zwkzo<br> Is hate speech: I love Jen&#39;s face in the thumbnail xDDD"
      ],
      "text/plain": [
       "<IPython.core.display.Markdown object>"
      ]
     },
     "metadata": {},
     "output_type": "display_data"
    },
    {
     "data": {
      "text/markdown": [
       "* Video id: j4jZx4Zwkzo<br> Is hate speech: 2 lesbian bitches make a grilled-cheese sandwich lol"
      ],
      "text/plain": [
       "<IPython.core.display.Markdown object>"
      ]
     },
     "metadata": {},
     "output_type": "display_data"
    },
    {
     "data": {
      "text/markdown": [
       "* Video id: j4jZx4Zwkzo<br> Is hate speech: Must like a nightmare to clean up"
      ],
      "text/plain": [
       "<IPython.core.display.Markdown object>"
      ]
     },
     "metadata": {},
     "output_type": "display_data"
    },
    {
     "data": {
      "text/markdown": [
       "* Video id: j4jZx4Zwkzo<br> Is hate speech: You&#39;ve heard of 3 cheese now get ready for 29 cheese"
      ],
      "text/plain": [
       "<IPython.core.display.Markdown object>"
      ]
     },
     "metadata": {},
     "output_type": "display_data"
    },
    {
     "data": {
      "text/markdown": [
       "* Video id: j4jZx4Zwkzo<br> Is hate speech: Is that a guy in the thumbnail? Your cute"
      ],
      "text/plain": [
       "<IPython.core.display.Markdown object>"
      ]
     },
     "metadata": {},
     "output_type": "display_data"
    },
    {
     "data": {
      "text/markdown": [
       "* Video id: j4jZx4Zwkzo<br> Is hate speech: Did Kristin get divorced? I haven&#39;t seen her wear her wedding rings in a while."
      ],
      "text/plain": [
       "<IPython.core.display.Markdown object>"
      ]
     },
     "metadata": {},
     "output_type": "display_data"
    },
    {
     "data": {
      "text/markdown": [
       "* Video id: j4jZx4Zwkzo<br> Is hate speech: Taste like Cheesus Christ"
      ],
      "text/plain": [
       "<IPython.core.display.Markdown object>"
      ]
     },
     "metadata": {},
     "output_type": "display_data"
    },
    {
     "data": {
      "text/markdown": [
       "* Video id: j4jZx4Zwkzo<br> Is hate speech: For a moment there as they were pronouncing cheese names as they were throwing them in it sounded like they were singing the Kokomo song by the beach boys lol"
      ],
      "text/plain": [
       "<IPython.core.display.Markdown object>"
      ]
     },
     "metadata": {},
     "output_type": "display_data"
    },
    {
     "data": {
      "text/markdown": [
       "* Video id: j4jZx4Zwkzo<br> Is hate speech: I like how this dude wanna be is hosting lady like makes sense"
      ],
      "text/plain": [
       "<IPython.core.display.Markdown object>"
      ]
     },
     "metadata": {},
     "output_type": "display_data"
    },
    {
     "data": {
      "text/markdown": [
       "* Video id: j4jZx4Zwkzo<br> Is hate speech: She dont like blue cheese she is not a cheese lover blue cheese is amazing"
      ],
      "text/plain": [
       "<IPython.core.display.Markdown object>"
      ]
     },
     "metadata": {},
     "output_type": "display_data"
    },
    {
     "data": {
      "text/markdown": [
       "* Video id: j4jZx4Zwkzo<br> Is hate speech: Bleu cheese is VASTLY superior to feta, fight me.  Also, that looks like the most amazing fondue EVER."
      ],
      "text/plain": [
       "<IPython.core.display.Markdown object>"
      ]
     },
     "metadata": {},
     "output_type": "display_data"
    },
    {
     "data": {
      "text/markdown": [
       "* Video id: j4jZx4Zwkzo<br> Is hate speech: Its like leaving puppies at the pound"
      ],
      "text/plain": [
       "<IPython.core.display.Markdown object>"
      ]
     },
     "metadata": {},
     "output_type": "display_data"
    },
    {
     "data": {
      "text/markdown": [
       "* Video id: j4jZx4Zwkzo<br> Is hate speech: To make it 30 cheeses, you should have added cottage cheese lol"
      ],
      "text/plain": [
       "<IPython.core.display.Markdown object>"
      ]
     },
     "metadata": {},
     "output_type": "display_data"
    },
    {
     "data": {
      "text/markdown": [
       "* Video id: j4jZx4Zwkzo<br> Is hate speech: I feel like Kristen is like  really</b> high off all that cheese"
      ],
      "text/plain": [
       "<IPython.core.display.Markdown object>"
      ]
     },
     "metadata": {},
     "output_type": "display_data"
    },
    {
     "data": {
      "text/markdown": [
       "* Video id: R6FTaE6q288<br> Is hate speech: Im so tired of Becky"
      ],
      "text/plain": [
       "<IPython.core.display.Markdown object>"
      ]
     },
     "metadata": {},
     "output_type": "display_data"
    },
    {
     "data": {
      "text/markdown": [
       "* Video id: R6FTaE6q288<br> Is hate speech: Like for Braun Strowman on SDL"
      ],
      "text/plain": [
       "<IPython.core.display.Markdown object>"
      ]
     },
     "metadata": {},
     "output_type": "display_data"
    },
    {
     "data": {
      "text/markdown": [
       "* Video id: R6FTaE6q288<br> Is hate speech: Everyone says big E is gay and married if so who&#39;s his husband??"
      ],
      "text/plain": [
       "<IPython.core.display.Markdown object>"
      ]
     },
     "metadata": {},
     "output_type": "display_data"
    },
    {
     "data": {
      "text/markdown": [
       "* Video id: R6FTaE6q288<br> Is hate speech: Shut up byron"
      ],
      "text/plain": [
       "<IPython.core.display.Markdown object>"
      ]
     },
     "metadata": {},
     "output_type": "display_data"
    },
    {
     "data": {
      "text/markdown": [
       "* Video id: R6FTaE6q288<br> Is hate speech: The new gay"
      ],
      "text/plain": [
       "<IPython.core.display.Markdown object>"
      ]
     },
     "metadata": {},
     "output_type": "display_data"
    },
    {
     "data": {
      "text/markdown": [
       "* Video id: R6FTaE6q288<br> Is hate speech: Doesnt Lars Sullivan look like shrek?"
      ],
      "text/plain": [
       "<IPython.core.display.Markdown object>"
      ]
     },
     "metadata": {},
     "output_type": "display_data"
    },
    {
     "data": {
      "text/markdown": [
       "* Video id: R6FTaE6q288<br> Is hate speech: You know how I know youre gay? You watch WWE."
      ],
      "text/plain": [
       "<IPython.core.display.Markdown object>"
      ]
     },
     "metadata": {},
     "output_type": "display_data"
    },
    {
     "data": {
      "text/markdown": [
       "* Video id: R6FTaE6q288<br> Is hate speech: Samoa Joe reminds me of....       BIG CHUNGUS"
      ],
      "text/plain": [
       "<IPython.core.display.Markdown object>"
      ]
     },
     "metadata": {},
     "output_type": "display_data"
    },
    {
     "data": {
      "text/markdown": [
       "* Video id: R6FTaE6q288<br> Is hate speech: Mustafa Ali impress us everyday he should get a big opportunity"
      ],
      "text/plain": [
       "<IPython.core.display.Markdown object>"
      ]
     },
     "metadata": {},
     "output_type": "display_data"
    },
    {
     "data": {
      "text/markdown": [
       "* Video id: R6FTaE6q288<br> Is hate speech: Lol Smackdown is ready for Survivor Series"
      ],
      "text/plain": [
       "<IPython.core.display.Markdown object>"
      ]
     },
     "metadata": {},
     "output_type": "display_data"
    },
    {
     "data": {
      "text/markdown": [
       "* Video id: R6FTaE6q288<br> Is hate speech: Hi new day your overaction plz stop stop"
      ],
      "text/plain": [
       "<IPython.core.display.Markdown object>"
      ]
     },
     "metadata": {},
     "output_type": "display_data"
    },
    {
     "data": {
      "text/markdown": [
       "* Video id: R6FTaE6q288<br> Is hate speech: charlotte flair have a very big body and i like it"
      ],
      "text/plain": [
       "<IPython.core.display.Markdown object>"
      ]
     },
     "metadata": {},
     "output_type": "display_data"
    },
    {
     "data": {
      "text/markdown": [
       "* Video id: R6FTaE6q288<br> Is hate speech: That super gay"
      ],
      "text/plain": [
       "<IPython.core.display.Markdown object>"
      ]
     },
     "metadata": {},
     "output_type": "display_data"
    },
    {
     "data": {
      "text/markdown": [
       "* Video id: TjXKS6ONtLQ<br> Is hate speech: Budweiser what are you doing!?  Youre supposed to get me drunk not make me cry"
      ],
      "text/plain": [
       "<IPython.core.display.Markdown object>"
      ]
     },
     "metadata": {},
     "output_type": "display_data"
    },
    {
     "data": {
      "text/markdown": [
       "* Video id: TjXKS6ONtLQ<br> Is hate speech: D.wade is the shit . hof level player. And thats coming from a Spurs fan"
      ],
      "text/plain": [
       "<IPython.core.display.Markdown object>"
      ]
     },
     "metadata": {},
     "output_type": "display_data"
    },
    {
     "data": {
      "text/markdown": [
       "* Video id: TjXKS6ONtLQ<br> Is hate speech: Whoever gave a thumbs down is a piece of shit"
      ],
      "text/plain": [
       "<IPython.core.display.Markdown object>"
      ]
     },
     "metadata": {},
     "output_type": "display_data"
    },
    {
     "data": {
      "text/markdown": [
       "* Video id: TjXKS6ONtLQ<br> Is hate speech: Wtf.....now I&#39;m crying......damn!"
      ],
      "text/plain": [
       "<IPython.core.display.Markdown object>"
      ]
     },
     "metadata": {},
     "output_type": "display_data"
    },
    {
     "data": {
      "text/markdown": [
       "* Video id: TjXKS6ONtLQ<br> Is hate speech: That was deep lol"
      ],
      "text/plain": [
       "<IPython.core.display.Markdown object>"
      ]
     },
     "metadata": {},
     "output_type": "display_data"
    },
    {
     "data": {
      "text/markdown": [
       "* Video id: TjXKS6ONtLQ<br> Is hate speech: Damn that was rough to watch"
      ],
      "text/plain": [
       "<IPython.core.display.Markdown object>"
      ]
     },
     "metadata": {},
     "output_type": "display_data"
    },
    {
     "data": {
      "text/markdown": [
       "* Video id: TjXKS6ONtLQ<br> Is hate speech: Im getting real sick and tired of being a fully grown ass man and getting emotional asf every time i see a new DWade tribute video. Miss you man"
      ],
      "text/plain": [
       "<IPython.core.display.Markdown object>"
      ]
     },
     "metadata": {},
     "output_type": "display_data"
    },
    {
     "data": {
      "text/markdown": [
       "* Video id: TjXKS6ONtLQ<br> Is hate speech: Why my throat feeling weird, couldn&#39;t swallow the entire 4 mins.... Damn, what a man..."
      ],
      "text/plain": [
       "<IPython.core.display.Markdown object>"
      ]
     },
     "metadata": {},
     "output_type": "display_data"
    },
    {
     "data": {
      "text/markdown": [
       "* Video id: TjXKS6ONtLQ<br> Is hate speech: dope as fuck "
      ],
      "text/plain": [
       "<IPython.core.display.Markdown object>"
      ]
     },
     "metadata": {},
     "output_type": "display_data"
    },
    {
     "data": {
      "text/markdown": [
       "* Video id: TjXKS6ONtLQ<br> Is hate speech: Ima go buy a 12 pack!  Budweiser!"
      ],
      "text/plain": [
       "<IPython.core.display.Markdown object>"
      ]
     },
     "metadata": {},
     "output_type": "display_data"
    },
    {
     "data": {
      "text/markdown": [
       "* Video id: TjXKS6ONtLQ<br> Is hate speech: Who cuttin onions in this bitch??"
      ],
      "text/plain": [
       "<IPython.core.display.Markdown object>"
      ]
     },
     "metadata": {},
     "output_type": "display_data"
    },
    {
     "data": {
      "text/markdown": [
       "* Video id: TjXKS6ONtLQ<br> Is hate speech: More like this farts for you haha. Seriously I just farted."
      ],
      "text/plain": [
       "<IPython.core.display.Markdown object>"
      ]
     },
     "metadata": {},
     "output_type": "display_data"
    },
    {
     "data": {
      "text/markdown": [
       "* Video id: TjXKS6ONtLQ<br> Is hate speech: Let&#39;s get drunk now."
      ],
      "text/plain": [
       "<IPython.core.display.Markdown object>"
      ]
     },
     "metadata": {},
     "output_type": "display_data"
    },
    {
     "data": {
      "text/markdown": [
       "* Video id: TjXKS6ONtLQ<br> Is hate speech: Life goes by so quick love u wade"
      ],
      "text/plain": [
       "<IPython.core.display.Markdown object>"
      ]
     },
     "metadata": {},
     "output_type": "display_data"
    },
    {
     "data": {
      "text/markdown": [
       "* Video id: TjXKS6ONtLQ<br> Is hate speech: Why the fuck was this so sad"
      ],
      "text/plain": [
       "<IPython.core.display.Markdown object>"
      ]
     },
     "metadata": {},
     "output_type": "display_data"
    },
    {
     "data": {
      "text/markdown": [
       "* Video id: TjXKS6ONtLQ<br> Is hate speech: Damn! Deep and beautiful"
      ],
      "text/plain": [
       "<IPython.core.display.Markdown object>"
      ]
     },
     "metadata": {},
     "output_type": "display_data"
    },
    {
     "data": {
      "text/markdown": [
       "* Video id: TjXKS6ONtLQ<br> Is hate speech: Wade county forever! #3 is a legend, because he really was bigger than the game! Let&#39;s get that man a statue on front of the arena!!!"
      ],
      "text/plain": [
       "<IPython.core.display.Markdown object>"
      ]
     },
     "metadata": {},
     "output_type": "display_data"
    },
    {
     "data": {
      "text/markdown": [
       "* Video id: TjXKS6ONtLQ<br> Is hate speech: I dont know why everyone is crying, I mean my allergies are just acting up really bad."
      ],
      "text/plain": [
       "<IPython.core.display.Markdown object>"
      ]
     },
     "metadata": {},
     "output_type": "display_data"
    },
    {
     "data": {
      "text/markdown": [
       "* Video id: TjXKS6ONtLQ<br> Is hate speech: Very cool... I&#39;ll never like water-beer."
      ],
      "text/plain": [
       "<IPython.core.display.Markdown object>"
      ]
     },
     "metadata": {},
     "output_type": "display_data"
    },
    {
     "data": {
      "text/markdown": [
       "* Video id: TjXKS6ONtLQ<br> Is hate speech: Im aight, its just windy"
      ],
      "text/plain": [
       "<IPython.core.display.Markdown object>"
      ]
     },
     "metadata": {},
     "output_type": "display_data"
    },
    {
     "data": {
      "text/markdown": [
       "* Video id: TjXKS6ONtLQ<br> Is hate speech: The tears won&#39;t stop"
      ],
      "text/plain": [
       "<IPython.core.display.Markdown object>"
      ]
     },
     "metadata": {},
     "output_type": "display_data"
    },
    {
     "data": {
      "text/markdown": [
       "* Video id: TjXKS6ONtLQ<br> Is hate speech: Welp I made the mistake of watching this on the subway. Im a literal mess right now. About to get off and jump in a taxi. Im still 30 min from my house lol"
      ],
      "text/plain": [
       "<IPython.core.display.Markdown object>"
      ]
     },
     "metadata": {},
     "output_type": "display_data"
    },
    {
     "data": {
      "text/markdown": [
       "* Video id: mvZo5dYvCpE<br> Is hate speech: Oh no this is reminding me of the wii U adverts"
      ],
      "text/plain": [
       "<IPython.core.display.Markdown object>"
      ]
     },
     "metadata": {},
     "output_type": "display_data"
    },
    {
     "data": {
      "text/markdown": [
       "* Video id: mvZo5dYvCpE<br> Is hate speech: Looks like a wiiu commercial     Pls do&#39;nt do the same mistake"
      ],
      "text/plain": [
       "<IPython.core.display.Markdown object>"
      ]
     },
     "metadata": {},
     "output_type": "display_data"
    },
    {
     "data": {
      "text/markdown": [
       "* Video id: mvZo5dYvCpE<br> Is hate speech: Why do all the kids look like Rick Astley from  Never Gonna Give You Up ?</b>"
      ],
      "text/plain": [
       "<IPython.core.display.Markdown object>"
      ]
     },
     "metadata": {},
     "output_type": "display_data"
    },
    {
     "data": {
      "text/markdown": [
       "* Video id: mvZo5dYvCpE<br> Is hate speech: Hey guys did you notice that they leaked stage builder, I dont think anyone has noticed yet."
      ],
      "text/plain": [
       "<IPython.core.display.Markdown object>"
      ]
     },
     "metadata": {},
     "output_type": "display_data"
    },
    {
     "data": {
      "text/markdown": [
       "* Video id: mvZo5dYvCpE<br> Is hate speech: These kids need to get off the couch and go play outside ...nature is waiting for ya &#39;ll lazy kids to join.   Omg. Bye t9 Nintendo"
      ],
      "text/plain": [
       "<IPython.core.display.Markdown object>"
      ]
     },
     "metadata": {},
     "output_type": "display_data"
    },
    {
     "data": {
      "text/markdown": [
       "* Video id: mvZo5dYvCpE<br> Is hate speech: I MAIN INKLING TOO!!! MY FRIENDS HATE MY SIDE B!!"
      ],
      "text/plain": [
       "<IPython.core.display.Markdown object>"
      ]
     },
     "metadata": {},
     "output_type": "display_data"
    },
    {
     "data": {
      "text/markdown": [
       "* Video id: mvZo5dYvCpE<br> Is hate speech: When the weasleys get ahold of a switch"
      ],
      "text/plain": [
       "<IPython.core.display.Markdown object>"
      ]
     },
     "metadata": {},
     "output_type": "display_data"
    },
    {
     "data": {
      "text/markdown": [
       "* Video id: mvZo5dYvCpE<br> Is hate speech: Why are they acting different when I ever play smash bros with my friends I want to kill them"
      ],
      "text/plain": [
       "<IPython.core.display.Markdown object>"
      ]
     },
     "metadata": {},
     "output_type": "display_data"
    },
    {
     "data": {
      "text/markdown": [
       "* Video id: mvZo5dYvCpE<br> Is hate speech: Im watching this only for the hot redheads"
      ],
      "text/plain": [
       "<IPython.core.display.Markdown object>"
      ]
     },
     "metadata": {},
     "output_type": "display_data"
    },
    {
     "data": {
      "text/markdown": [
       "* Video id: mvZo5dYvCpE<br> Is hate speech: Sakurai: cant get leaked if you leak your own product"
      ],
      "text/plain": [
       "<IPython.core.display.Markdown object>"
      ]
     },
     "metadata": {},
     "output_type": "display_data"
    },
    {
     "data": {
      "text/markdown": [
       "* Video id: mvZo5dYvCpE<br> Is hate speech: Don&#39;t know why... but i get sm4sh commercial vibes from watching this"
      ],
      "text/plain": [
       "<IPython.core.display.Markdown object>"
      ]
     },
     "metadata": {},
     "output_type": "display_data"
    },
    {
     "data": {
      "text/markdown": [
       "* Video id: mvZo5dYvCpE<br> Is hate speech: I like the sad attempt at blurring out the stage builder."
      ],
      "text/plain": [
       "<IPython.core.display.Markdown object>"
      ]
     },
     "metadata": {},
     "output_type": "display_data"
    },
    {
     "data": {
      "text/markdown": [
       "* Video id: lzQpS1rH3zI<br> Is hate speech: I hate you"
      ],
      "text/plain": [
       "<IPython.core.display.Markdown object>"
      ]
     },
     "metadata": {},
     "output_type": "display_data"
    },
    {
     "data": {
      "text/markdown": [
       "* Video id: lzQpS1rH3zI<br> Is hate speech: Let&#39;s get this shit 2 /3ml fan RIP for who dose not "
      ],
      "text/plain": [
       "<IPython.core.display.Markdown object>"
      ]
     },
     "metadata": {},
     "output_type": "display_data"
    },
    {
     "data": {
      "text/markdown": [
       "* Video id: lzQpS1rH3zI<br> Is hate speech: I been living fast, fast, fast, fast Feeling really bad, bad, bad, bad Time really moves fast, fast, fast, fast Better hurry up and get in your bag, bag, bag, bag I wear Dior, not a fad, &#39;ad, ad, &#39;ad I know all these niggas gettin&#39; mad, mad, mad, mad My hand on my trigger, Ima die with respect, yeah Fucking with my money, you&#39;ll get dealt like that, yeah  [Verse 1] I took too many pills, count up the bills, uh Molly in my cup, I can&#39;t tell you how I feel, uh Oh, last call Oh-oh, it&#39;s gnarly Every day I be counting up, counting up the blues Gotta win sometimes when you always lose I get high as a bitch, still the same dude I was back then, and now I&#39;m lost and confused  [Pre-Chorus] I ain&#39;t see it coming I ain&#39;t see it coming But it still came I&#39;m talkin bout life, ayy (Talkin&#39; bout life)  [Chorus] I been living fast, fast, fast, fast Feeling really bad, bad, bad, bad Time really moves fast, fast, fast, fast Better hurry up and get in your bag, bag, bag, bag I wear Dior, not a fad, &#39;ad, &#39;ad, &#39;ad I know all these niggas gettin mad, mad, mad, mad My hand on my trigger, I&#39;ma die with respect, yeah Fucking with my money, you&#39;ll get dealt like that, yeah  [Verse 2] I go through so much, I&#39;m 19 years old It&#39;s been months since I felt at home But it&#39;s okay &#39;cause I&#39;m rich Psych, I&#39;m still sad as a bitch, right I don&#39;t want nobody to think that I&#39;m an asshole I don&#39;t try to be mean on purpose, I promise My mama taught me better than that, I&#39;ll be honest I blame it on the drugs and this life I&#39;m involved in  [Pre-Chorus] I ain&#39;t see it coming (I ain&#39;t see it) I ain&#39;t see it coming (I ain&#39;t see it) But it still came (Yeah, yeah, it still came) I&#39;m talkin&#39; &#39;bout life, ayy (Talkin&#39; &#39;bout life)  [Chorus] I been living fast, fast, fast, fast Feeling really bad, bad, bad, bad Time really moves fast, fast, fast, fast Better hurry up and get in your bag, bag, bag, bag I wear Dior, not a fad, &#39;ad, &#39;ad, &#39;ad I know all these niggas gettin&#39; mad, mad, mad, mad My hand on my trigger, I&#39;ma die with respect, yeah Fucking with my money, you&#39;ll get dealt like that, yeah  [Bridge] Elevate, elevate, elevate myself Now I&#39;m on the ground, on the ground, haven&#39;t been myself But it&#39;s okay, it&#39;s cool, won&#39;t push the issue What happens next? A story to be continued, yeah  [Chorus] I been living fast, fast, fast, fast Feeling really bad, bad, bad, bad Time really moves fast, fast, fast, fast Better hurry up and get in your bag, bag, bag, bag I wear Dior, not a fad, &#39;ad, &#39;ad, &#39;ad I know all these niggas gettin&#39; mad, mad, mad, mad My hand on my trigger, I&#39;ma die with respect, yeah Fucking with my money, you&#39;ll get dealt like that, yeah  [Outro] This is fire, hahaha, yeah This is fire"
      ],
      "text/plain": [
       "<IPython.core.display.Markdown object>"
      ]
     },
     "metadata": {},
     "output_type": "display_data"
    },
    {
     "data": {
      "text/markdown": [
       "* Video id: lzQpS1rH3zI<br> Is hate speech: I like this shit"
      ],
      "text/plain": [
       "<IPython.core.display.Markdown object>"
      ]
     },
     "metadata": {},
     "output_type": "display_data"
    },
    {
     "data": {
      "text/markdown": [
       "* Video id: lzQpS1rH3zI<br> Is hate speech: i love this vid like if juice wrld is better then lil pump"
      ],
      "text/plain": [
       "<IPython.core.display.Markdown object>"
      ]
     },
     "metadata": {},
     "output_type": "display_data"
    },
    {
     "data": {
      "text/markdown": [
       "* Video id: lzQpS1rH3zI<br> Is hate speech: This gives me Post Malone vibes but I like it"
      ],
      "text/plain": [
       "<IPython.core.display.Markdown object>"
      ]
     },
     "metadata": {},
     "output_type": "display_data"
    },
    {
     "data": {
      "text/markdown": [
       "* Video id: lzQpS1rH3zI<br> Is hate speech: im fast af boi"
      ],
      "text/plain": [
       "<IPython.core.display.Markdown object>"
      ]
     },
     "metadata": {},
     "output_type": "display_data"
    },
    {
     "data": {
      "text/markdown": [
       "* Video id: lzQpS1rH3zI<br> Is hate speech: BUT ITS OK CUZ IM RICH, SIKE! IM STILL SAD AS A BITCH, RIGHT?"
      ],
      "text/plain": [
       "<IPython.core.display.Markdown object>"
      ]
     },
     "metadata": {},
     "output_type": "display_data"
    },
    {
     "data": {
      "text/markdown": [
       "* Video id: lzQpS1rH3zI<br> Is hate speech: Where&#39;d real Juice Wrld go?"
      ],
      "text/plain": [
       "<IPython.core.display.Markdown object>"
      ]
     },
     "metadata": {},
     "output_type": "display_data"
    },
    {
     "data": {
      "text/markdown": [
       "* Video id: lzQpS1rH3zI<br> Is hate speech: shit i had no idea juice wrld is only 19 y/o, maybe i might wanna hit him up after all ayy"
      ],
      "text/plain": [
       "<IPython.core.display.Markdown object>"
      ]
     },
     "metadata": {},
     "output_type": "display_data"
    },
    {
     "data": {
      "text/markdown": [
       "* Video id: lzQpS1rH3zI<br> Is hate speech: CAN&#39;T STOP WATCHING IT I LOOPED IT FOR A FULL DAY!!!!"
      ],
      "text/plain": [
       "<IPython.core.display.Markdown object>"
      ]
     },
     "metadata": {},
     "output_type": "display_data"
    },
    {
     "data": {
      "text/markdown": [
       "* Video id: lzQpS1rH3zI<br> Is hate speech: This sounds like joji slow dancing in the dark"
      ],
      "text/plain": [
       "<IPython.core.display.Markdown object>"
      ]
     },
     "metadata": {},
     "output_type": "display_data"
    },
    {
     "data": {
      "text/markdown": [
       "* Video id: lzQpS1rH3zI<br> Is hate speech: I&#39;m fast like u juice "
      ],
      "text/plain": [
       "<IPython.core.display.Markdown object>"
      ]
     },
     "metadata": {},
     "output_type": "display_data"
    },
    {
     "data": {
      "text/markdown": [
       "* Video id: lzQpS1rH3zI<br> Is hate speech: I love you man"
      ],
      "text/plain": [
       "<IPython.core.display.Markdown object>"
      ]
     },
     "metadata": {},
     "output_type": "display_data"
    },
    {
     "data": {
      "text/markdown": [
       "* Video id: lzQpS1rH3zI<br> Is hate speech: go to imh smart autistic faggot with 10000000000000IQ musical instrumental string sounding autistic smart faggot with 100000000IQ in imh and nuh and kk hospital insane to be honest 10000000IQ damage a brain cell in imh these hospital in these and their stupid brain cell containing 0IQ percent of the musical sounds in strining the smart autsitic strings in a stuipid musical instrument in a sounding autistic smart autistic musical brain cell containing 100000000000IQ"
      ],
      "text/plain": [
       "<IPython.core.display.Markdown object>"
      ]
     },
     "metadata": {},
     "output_type": "display_data"
    },
    {
     "data": {
      "text/markdown": [
       "* Video id: lzQpS1rH3zI<br> Is hate speech: So this is pop right? Anyway this shit is trash trash trash trash wtf are you kids listening to nowadays"
      ],
      "text/plain": [
       "<IPython.core.display.Markdown object>"
      ]
     },
     "metadata": {},
     "output_type": "display_data"
    },
    {
     "data": {
      "text/markdown": [
       "* Video id: C4-oqJc_Q_A<br> Is hate speech: Dirk was like Roberto Baggio in football, in terms playing the right way.. Both are legend.."
      ],
      "text/plain": [
       "<IPython.core.display.Markdown object>"
      ]
     },
     "metadata": {},
     "output_type": "display_data"
    },
    {
     "data": {
      "text/markdown": [
       "* Video id: C4-oqJc_Q_A<br> Is hate speech: If its gonna be any statue its gonna be two statutes, one with Dirk swishing a jumpshot in the face of Bron,Wade and Bosh  The other statue a fade-away on Serge Ibaka with the Van Gundy commentary constantly playing on loop if Im serge Ibaka Im naming my first son Dirk."
      ],
      "text/plain": [
       "<IPython.core.display.Markdown object>"
      ]
     },
     "metadata": {},
     "output_type": "display_data"
    },
    {
     "data": {
      "text/markdown": [
       "* Video id: C4-oqJc_Q_A<br> Is hate speech: This give me fucking chills and is so heartwarming."
      ],
      "text/plain": [
       "<IPython.core.display.Markdown object>"
      ]
     },
     "metadata": {},
     "output_type": "display_data"
    },
    {
     "data": {
      "text/markdown": [
       "* Video id: C4-oqJc_Q_A<br> Is hate speech: what the fuck was that bush move ?"
      ],
      "text/plain": [
       "<IPython.core.display.Markdown object>"
      ]
     },
     "metadata": {},
     "output_type": "display_data"
    },
    {
     "data": {
      "text/markdown": [
       "* Video id: C4-oqJc_Q_A<br> Is hate speech: Dallas has had its fair share of incredible athletes, between the Cowboys and Rangers and even the Stars, but when I was growing up, I never couldve imagined that wed ever have a basketball player like Dirk Nowitzki. I cant wait to see what life has in store for him. Hell remain as someone truly special to the metroplex for years to come."
      ],
      "text/plain": [
       "<IPython.core.display.Markdown object>"
      ]
     },
     "metadata": {},
     "output_type": "display_data"
    },
    {
     "data": {
      "text/markdown": [
       "* Video id: C4-oqJc_Q_A<br> Is hate speech: Dirk has precious chivalry ,in other word--loyalty,which is fading away and  neglected from our life"
      ],
      "text/plain": [
       "<IPython.core.display.Markdown object>"
      ]
     },
     "metadata": {},
     "output_type": "display_data"
    },
    {
     "data": {
      "text/markdown": [
       "* Video id: C4-oqJc_Q_A<br> Is hate speech: Love that manbig man shooter legenddefinitely(Hall of famer)goodbyeyou&#39;re the man Dirk."
      ],
      "text/plain": [
       "<IPython.core.display.Markdown object>"
      ]
     },
     "metadata": {},
     "output_type": "display_data"
    },
    {
     "data": {
      "text/markdown": [
       "* Video id: C4-oqJc_Q_A<br> Is hate speech: Man, this onion is cutting itself in here."
      ],
      "text/plain": [
       "<IPython.core.display.Markdown object>"
      ]
     },
     "metadata": {},
     "output_type": "display_data"
    },
    {
     "data": {
      "text/markdown": [
       "* Video id: C4-oqJc_Q_A<br> Is hate speech: Nein nein ich Weine nicht, mir ist nur was ins Auge gekommen.  Danke dir Dirk, du hast die NBA verndert und warst immer ein Vorbild.  Gott segne dich"
      ],
      "text/plain": [
       "<IPython.core.display.Markdown object>"
      ]
     },
     "metadata": {},
     "output_type": "display_data"
    },
    {
     "data": {
      "text/markdown": [
       "* Video id: C4-oqJc_Q_A<br> Is hate speech: Only reason why i really like Mavericks basketball is that they have a Dirk."
      ],
      "text/plain": [
       "<IPython.core.display.Markdown object>"
      ]
     },
     "metadata": {},
     "output_type": "display_data"
    },
    {
     "data": {
      "text/markdown": [
       "* Video id: C4-oqJc_Q_A<br> Is hate speech: Damn even Larry legend was there. That guy still has the goat aura in him you can tell and the classy fans of Dallas know as well. But Im so happy for dirk and what he brought to nba"
      ],
      "text/plain": [
       "<IPython.core.display.Markdown object>"
      ]
     },
     "metadata": {},
     "output_type": "display_data"
    },
    {
     "data": {
      "text/markdown": [
       "* Video id: C4-oqJc_Q_A<br> Is hate speech: Great send off!  Mark cuban looked like he was bout to cry lol"
      ],
      "text/plain": [
       "<IPython.core.display.Markdown object>"
      ]
     },
     "metadata": {},
     "output_type": "display_data"
    },
    {
     "data": {
      "text/markdown": [
       "* Video id: C4-oqJc_Q_A<br> Is hate speech: Only messed up thing is that rap song at the end. Play some real rap like Bone lol"
      ],
      "text/plain": [
       "<IPython.core.display.Markdown object>"
      ]
     },
     "metadata": {},
     "output_type": "display_data"
    }
   ],
   "source": [
    "from IPython.display import display, Markdown\n",
    "\n",
    "cnt = 0\n",
    "for index, row in df.iterrows():\n",
    "    cnt += 1\n",
    "    is_hate_speech = comments_result[index]\n",
    "    current_video_id = row['VIDEOID']\n",
    "    \n",
    "    result_by_video_id = result.get(current_video_id);\n",
    "    \n",
    "    if result_by_video_id is not None:\n",
    "\n",
    "        if is_hate_speech == 1:\n",
    "            item = '* Video id: ' + row['VIDEOID'] + '<br> Is hate speech: ' + row['COMMENT']\n",
    "            result_by_video_id['hate_comment_count'] += 1\n",
    "            display(Markdown(item))\n",
    "\n",
    "        result_by_video_id['total_comment_count'] += 1\n",
    "        \n",
    "        result_by_video_id['video_name'] = row['VIDEONAME']"
   ]
  },
  {
   "cell_type": "code",
   "execution_count": 10,
   "metadata": {},
   "outputs": [],
   "source": [
    "most_hate_comment_count_video_id= ''\n",
    "most_hate_comment_count = 0;\n",
    "\n",
    "for key, value in result.items():\n",
    "    if (value.get('hate_comment_count') > most_hate_comment_count):\n",
    "        most_hate_comment_count = value.get('hate_comment_count')\n",
    "        most_hate_comment_count_video_id = key\n",
    "        \n",
    "direct_url = 'https://www.youtube.com/watch?v=' + most_hate_comment_count_video_id"
   ]
  },
  {
   "cell_type": "code",
   "execution_count": 11,
   "metadata": {},
   "outputs": [
    {
     "name": "stdout",
     "output_type": "stream",
     "text": [
      "Most hated trending video on youtube: \n",
      "https://www.youtube.com/watch?v=FZIKVN9BQQA\n"
     ]
    }
   ],
   "source": [
    "print('Most hated trending video on youtube: ')\n",
    "print(direct_url)"
   ]
  },
  {
   "cell_type": "code",
   "execution_count": 12,
   "metadata": {},
   "outputs": [
    {
     "data": {
      "text/html": [
       "<iframe width=\"560\" height=\"315\" src=\"https://www.youtube.com/embed/FZIKVN9BQQA\" frameborder=\"0\" allow=\"accelerometer; autoplay; encrypted-media; gyroscope; picture-in-picture\" allowfullscreen></iframe>"
      ],
      "text/plain": [
       "<IPython.core.display.HTML object>"
      ]
     },
     "execution_count": 12,
     "metadata": {},
     "output_type": "execute_result"
    }
   ],
   "source": [
    "from IPython.display import HTML\n",
    "embed_url = 'https://www.youtube.com/embed/' + most_hate_comment_count_video_id\n",
    "HTML('<iframe width=\"560\" height=\"315\" src=\"{0}\" frameborder=\"0\" allow=\"accelerometer; autoplay; encrypted-media; gyroscope; picture-in-picture\" allowfullscreen></iframe>'.format(embed_url))"
   ]
  },
  {
   "cell_type": "code",
   "execution_count": null,
   "metadata": {},
   "outputs": [],
   "source": []
  }
 ],
 "metadata": {
  "kernelspec": {
   "display_name": "Python 3",
   "language": "python",
   "name": "python3"
  },
  "language_info": {
   "codemirror_mode": {
    "name": "ipython",
    "version": 3
   },
   "file_extension": ".py",
   "mimetype": "text/x-python",
   "name": "python",
   "nbconvert_exporter": "python",
   "pygments_lexer": "ipython3",
   "version": "3.6.5"
  }
 },
 "nbformat": 4,
 "nbformat_minor": 2
}
