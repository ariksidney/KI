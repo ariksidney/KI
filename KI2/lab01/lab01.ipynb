{
 "cells": [
  {
   "cell_type": "markdown",
   "metadata": {},
   "source": [
    "# Lab 01\n",
    "\n",
    "## By Alicia Rüegg, Jonas Huber, Arik Guggenheim\n"
   ]
  },
  {
   "cell_type": "code",
   "execution_count": 75,
   "metadata": {},
   "outputs": [],
   "source": [
    "\"\"\"\n",
    "Cluster artists based on the words in their lyrics\n",
    "Data from kaggle\n",
    "Format data with create_data_kaggle.py\n",
    "\"\"\"\n",
    "\n",
    "__author__ = 'don.tuggener@zhaw.ch'\n",
    "\n",
    "import numpy\n",
    "import pdb\n",
    "import re\n",
    "from scipy.cluster.hierarchy import linkage, dendrogram\n",
    "from matplotlib import pyplot as plt\n",
    "from sklearn.feature_extraction import text\n",
    "from scipy import mean\n",
    "\n",
    "%matplotlib inline\n",
    "\n",
    "def plot_dendrogram(clustered, artists):\n",
    "   \"\"\" Plot a dendrogram from the hierarchical clustering of the artist lyrics \"\"\"\n",
    "   plt.figure(figsize=(10, 25))\n",
    "   #plt.figure(figsize=(25, 10))\n",
    "   plt.title('Hierarchical Clustering Dendrogram')\n",
    "   plt.xlabel('Distance')  # this' but the label of the whole axis!\n",
    "   plt.ylabel('Artists')\n",
    "   plt.tight_layout()\n",
    "   dendrogram(clustered,\n",
    "           color_threshold=1.45,\n",
    "           leaf_font_size=8.,  # font size for the x axis labels\n",
    "           labels = artists,\n",
    "           orientation = 'left',\n",
    "           )\n",
    "   plt.show()\n",
    "   plt.clf()\n",
    "    \n",
    "\n",
    "def build_stop_word_list():\n",
    "    return text.ENGLISH_STOP_WORDS.union(['aa', 'aaa', 'aaaa', 'aaaaa', 'aaaaaa', 'aaaaaaaaaaaaa', 'aaaaaaaaaaaaaaaaa', 'aaaaaaaaaaaaaaaaaa', 'aaaaaaaaaaaaaaaaaaaaaaaa', 'aaaaaaaaaaaaaaaaaaaaaaaaaaaaaaaa', 'aaaaaaaaaaaaaaaaaaaaaaaaaaaaaaaaa', 'aaaaaaaaaaaaaaaaaaaaaaaaaaaaaaaaooooooooooooooooooooh', 'aaaaaaaaaaaaaahhhhhhhhhhhhhh', 'aaaaaaaaaaaaooooooooooooooooooooooooooooooooeeeeeeeeeeeeeeooooooooo', 'aaaaaaaaaaah', 'aaaaaaaaaah', 'aaaaaaaah', 'aaaaaaahhhhhhhh', 'aaaaaaall', 'aaaaaagh', 'aaaaaah', 'aaaaaahhhh', 'aaaaaahhhhhhh', 'aaaaaal', 'aaaaaalright', 'aaaaaamen', 'aaaaaank', 'aaaaaannnnddd', 'aaaaagghh', 'aaaaah', 'aaaaahhhhhhhhhhhhh', 'aaaaggghhh', 'aaaah', 'aaaain', 'aaaall', 'aaaallll', 'aaaangs', 'aaaare', 'aaaargh', 'aaah', 'aaahhh', 'aaahhhggggrrr', 'aaahhhh', 'aaahhhhh', 'aaall', 'aaand', 'aaannnttt', 'aaate', 'aaawww', 'aaayyyyoooow', 'aah', 'aahh', 'aahhahah', 'aahhh', 'aahhhh'])\n",
    "    \n"
   ]
  },
  {
   "cell_type": "markdown",
   "metadata": {},
   "source": [
    "## Function for getting most used words per Artist\n"
   ]
  },
  {
   "cell_type": "code",
   "execution_count": 76,
   "metadata": {},
   "outputs": [],
   "source": [
    "from IPython.display import display, Markdown\n",
    "\n",
    "def words_per_artist(artist_lyrics, lyrics_tfidf_matrix, ix2word, n=10):\n",
    "    \"\"\" \n",
    "    For each artist, print the most highly weighted words acc. to TF IDF \n",
    "    Print n words that are above the mean weight \n",
    "    \"\"\"\n",
    "    mean_weight = mean(lyrics_tfidf_matrix)\n",
    "    print(mean_weight)\n",
    "    artists = list(artist_lyrics.keys())\n",
    "    tfidf_list = lyrics_tfidf_matrix.toarray()\n",
    "    \n",
    "    for cnt in range(len(artists)):\n",
    "        lyric_elements = dict(zip(ix2word, tfidf_list[cnt]))\n",
    "        words_over_mean = {k: v for k, v in lyric_elements.items() if v > mean_weight}\n",
    "        words_sorted = sorted(words_over_mean, key=lyric_elements.get, reverse=True)\n",
    "        artist_markdown = '* ### ' + artists[cnt] + '\\n' + ', '.join(words_sorted[:n])\n",
    "        display(Markdown(artist_markdown))\n"
   ]
  },
  {
   "cell_type": "markdown",
   "metadata": {},
   "source": [
    "## Step 1\n",
    "\n",
    "Loading all needed data from json files"
   ]
  },
  {
   "cell_type": "code",
   "execution_count": 77,
   "metadata": {},
   "outputs": [],
   "source": [
    "import json\n",
    "\n",
    "artist2genre = json.load(\n",
    "    open('data/artist2genre_kaggle.json', 'r', encoding='utf-8'))\n",
    "artist_lyrics = json.load(\n",
    "    open('data/artist_lyrics_kaggle.json', 'r', encoding='utf-8'))\n",
    "# Custom tokenization to remove numbers etc.\n",
    "lyrics = [' '.join(re.findall('[A-Za-z]+', l))\n",
    "            for l in artist_lyrics.values()]"
   ]
  },
  {
   "cell_type": "markdown",
   "metadata": {},
   "source": [
    "## Vectorizing with TF IDF"
   ]
  },
  {
   "cell_type": "code",
   "execution_count": 78,
   "metadata": {},
   "outputs": [],
   "source": [
    "from sklearn.feature_extraction.text import TfidfVectorizer\n",
    "\n",
    "# Vectorize the song lyrics\n",
    "vectorizer = TfidfVectorizer(analyzer='word', stop_words=build_stop_word_list())\n",
    "lyrics_tfidf_matrix = vectorizer.fit_transform(lyrics)\n",
    "ix2word = vectorizer.get_feature_names()"
   ]
  },
  {
   "cell_type": "markdown",
   "metadata": {},
   "source": [
    "## Get Distinct words per artist and cluster"
   ]
  },
  {
   "cell_type": "code",
   "execution_count": 79,
   "metadata": {},
   "outputs": [
    {
     "name": "stdout",
     "output_type": "stream",
     "text": [
      "0.00032743537390488725\n"
     ]
    },
    {
     "data": {
      "text/markdown": [
       "* ### annihilator\n",
       "ll, just, time, ve, don, phantasmagoria, alison, annihilator, got, hell"
      ],
      "text/plain": [
       "<IPython.core.display.Markdown object>"
      ]
     },
     "metadata": {},
     "output_type": "display_data"
    },
    {
     "data": {
      "text/markdown": [
       "* ### busta-rhymes\n",
       "niggas, nigga, shit, busta, yo, like, know, flipmode, rhymes, got"
      ],
      "text/plain": [
       "<IPython.core.display.Markdown object>"
      ]
     },
     "metadata": {},
     "output_type": "display_data"
    },
    {
     "data": {
      "text/markdown": [
       "* ### crduan-xshadows\n",
       "swims, gambit, eyes, love, heart, life, na, don, like, let"
      ],
      "text/plain": [
       "<IPython.core.display.Markdown object>"
      ]
     },
     "metadata": {},
     "output_type": "display_data"
    },
    {
     "data": {
      "text/markdown": [
       "* ### fats-domino\n",
       "love, don, baby, come, gonna, know, ll, oh, liza, home"
      ],
      "text/plain": [
       "<IPython.core.display.Markdown object>"
      ]
     },
     "metadata": {},
     "output_type": "display_data"
    },
    {
     "data": {
      "text/markdown": [
       "* ### game\n",
       "nigga, niggas, like, shit, fuck, got, compton, ain, bitch, don"
      ],
      "text/plain": [
       "<IPython.core.display.Markdown object>"
      ]
     },
     "metadata": {},
     "output_type": "display_data"
    },
    {
     "data": {
      "text/markdown": [
       "* ### american-idol\n",
       "love, know, don, oh, baby, just, like, ll, yeah, got"
      ],
      "text/plain": [
       "<IPython.core.display.Markdown object>"
      ]
     },
     "metadata": {},
     "output_type": "display_data"
    },
    {
     "data": {
      "text/markdown": [
       "* ### dar-williams\n",
       "know, like, love, ll, just, oh, time, don, say, said"
      ],
      "text/plain": [
       "<IPython.core.display.Markdown object>"
      ]
     },
     "metadata": {},
     "output_type": "display_data"
    },
    {
     "data": {
      "text/markdown": [
       "* ### 50-cent\n",
       "nigga, niggas, shit, like, got, don, ain, bitch, know, fuck"
      ],
      "text/plain": [
       "<IPython.core.display.Markdown object>"
      ]
     },
     "metadata": {},
     "output_type": "display_data"
    },
    {
     "data": {
      "text/markdown": [
       "* ### amos-lee\n",
       "know, oh, bau, gonna, ve, just, tm, don, love, wanna"
      ],
      "text/plain": [
       "<IPython.core.display.Markdown object>"
      ]
     },
     "metadata": {},
     "output_type": "display_data"
    },
    {
     "data": {
      "text/markdown": [
       "* ### david-bowie\n",
       "oh, love, don, ll, la, like, uh, just, ve, buh"
      ],
      "text/plain": [
       "<IPython.core.display.Markdown object>"
      ]
     },
     "metadata": {},
     "output_type": "display_data"
    },
    {
     "data": {
      "text/markdown": [
       "* ### bobby-bare\n",
       "ll, just, love, don, know, got, ve, man, time, like"
      ],
      "text/plain": [
       "<IPython.core.display.Markdown object>"
      ]
     },
     "metadata": {},
     "output_type": "display_data"
    },
    {
     "data": {
      "text/markdown": [
       "* ### chamillionaire\n",
       "chamillionaire, like, ya, know, nigga, got, ain, don, gon, just"
      ],
      "text/plain": [
       "<IPython.core.display.Markdown object>"
      ]
     },
     "metadata": {},
     "output_type": "display_data"
    },
    {
     "data": {
      "text/markdown": [
       "* ### e-40\n",
       "nigga, like, shit, niggas, got, bitch, know, ain, don, ass"
      ],
      "text/plain": [
       "<IPython.core.display.Markdown object>"
      ]
     },
     "metadata": {},
     "output_type": "display_data"
    },
    {
     "data": {
      "text/markdown": [
       "* ### beirut\n",
       "la, long, time, paused, ll, know, oh, smile, fe, leozinho"
      ],
      "text/plain": [
       "<IPython.core.display.Markdown object>"
      ]
     },
     "metadata": {},
     "output_type": "display_data"
    },
    {
     "data": {
      "text/markdown": [
       "* ### clannad\n",
       "na, ar, agus, mo, ag, gan, liom, bh, gur, ach"
      ],
      "text/plain": [
       "<IPython.core.display.Markdown object>"
      ]
     },
     "metadata": {},
     "output_type": "display_data"
    },
    {
     "data": {
      "text/markdown": [
       "* ### chumbawamba\n",
       "got, ll, don, just, timebomb, repeats, love, ve, know, world"
      ],
      "text/plain": [
       "<IPython.core.display.Markdown object>"
      ]
     },
     "metadata": {},
     "output_type": "display_data"
    },
    {
     "data": {
      "text/markdown": [
       "* ### doris-day\n",
       "love, sera, ll, la, heart, just, like, don, know, time"
      ],
      "text/plain": [
       "<IPython.core.display.Markdown object>"
      ]
     },
     "metadata": {},
     "output_type": "display_data"
    },
    {
     "data": {
      "text/markdown": [
       "* ### andre-rieu\n",
       "instrumental, america, oh, maastricht, diech, libiamo, amigos, love, kom, stad"
      ],
      "text/plain": [
       "<IPython.core.display.Markdown object>"
      ]
     },
     "metadata": {},
     "output_type": "display_data"
    },
    {
     "data": {
      "text/markdown": [
       "* ### avicii\n",
       "oh, love, ve, like, yeah, make, tell, superlove, don, way"
      ],
      "text/plain": [
       "<IPython.core.display.Markdown object>"
      ]
     },
     "metadata": {},
     "output_type": "display_data"
    },
    {
     "data": {
      "text/markdown": [
       "* ### etta-james\n",
       "oh, love, yeah, baby, got, don, know, want, ll, basement"
      ],
      "text/plain": [
       "<IPython.core.display.Markdown object>"
      ]
     },
     "metadata": {},
     "output_type": "display_data"
    },
    {
     "data": {
      "text/markdown": [
       "* ### ella-fitzgerald\n",
       "love, ll, just, oh, got, don, ve, know, heart, let"
      ],
      "text/plain": [
       "<IPython.core.display.Markdown object>"
      ]
     },
     "metadata": {},
     "output_type": "display_data"
    },
    {
     "data": {
      "text/markdown": [
       "* ### city-and-colour\n",
       "oh, know, love, don, come, ooh, like, life, ve, just"
      ],
      "text/plain": [
       "<IPython.core.display.Markdown object>"
      ]
     },
     "metadata": {},
     "output_type": "display_data"
    },
    {
     "data": {
      "text/markdown": [
       "* ### armin-van-buuren\n",
       "just, love, watching, bit, ll, dominator, little, don, sucker, know"
      ],
      "text/plain": [
       "<IPython.core.display.Markdown object>"
      ]
     },
     "metadata": {},
     "output_type": "display_data"
    },
    {
     "data": {
      "text/markdown": [
       "* ### ernest-tubb\n",
       "love, ll, just, ve, know, heart, don, time, got, dear"
      ],
      "text/plain": [
       "<IPython.core.display.Markdown object>"
      ]
     },
     "metadata": {},
     "output_type": "display_data"
    },
    {
     "data": {
      "text/markdown": [
       "* ### curtis-mayfield\n",
       "love, don, just, baby, worry, let, got, know, junkie, people"
      ],
      "text/plain": [
       "<IPython.core.display.Markdown object>"
      ]
     },
     "metadata": {},
     "output_type": "display_data"
    },
    {
     "data": {
      "text/markdown": [
       "* ### ataraxia\n",
       "ridi, et, novus, totus, laugh, la, questa, di, des, dans"
      ],
      "text/plain": [
       "<IPython.core.display.Markdown object>"
      ]
     },
     "metadata": {},
     "output_type": "display_data"
    },
    {
     "data": {
      "text/markdown": [
       "* ### britney-spears\n",
       "oh, baby, just, gimme, don, la, like, know, yeah, love"
      ],
      "text/plain": [
       "<IPython.core.display.Markdown object>"
      ]
     },
     "metadata": {},
     "output_type": "display_data"
    },
    {
     "data": {
      "text/markdown": [
       "* ### cradle-of-filth\n",
       "like, nymphetamine, lilith, death, dark, thy, danse, black, love, come"
      ],
      "text/plain": [
       "<IPython.core.display.Markdown object>"
      ]
     },
     "metadata": {},
     "output_type": "display_data"
    },
    {
     "data": {
      "text/markdown": [
       "* ### everything-but-the-girl\n",
       "love, don, know, like, want, time, just, ve, ll, deserts"
      ],
      "text/plain": [
       "<IPython.core.display.Markdown object>"
      ]
     },
     "metadata": {},
     "output_type": "display_data"
    },
    {
     "data": {
      "text/markdown": [
       "* ### eric-clapton\n",
       "love, don, baby, got, know, ve, gonna, time, chorus, just"
      ],
      "text/plain": [
       "<IPython.core.display.Markdown object>"
      ]
     },
     "metadata": {},
     "output_type": "display_data"
    },
    {
     "data": {
      "text/markdown": [
       "* ### frank-zappa\n",
       "vocals, keyboards, zappa, saxophone, guitar, bass, don, underwood, drums, percussion"
      ],
      "text/plain": [
       "<IPython.core.display.Markdown object>"
      ]
     },
     "metadata": {},
     "output_type": "display_data"
    },
    {
     "data": {
      "text/markdown": [
       "* ### acid-drinkers\n",
       "nie, don, like, mnie, wanna, jeste, just, si, ll, know"
      ],
      "text/plain": [
       "<IPython.core.display.Markdown object>"
      ]
     },
     "metadata": {},
     "output_type": "display_data"
    },
    {
     "data": {
      "text/markdown": [
       "* ### bjrthrk\n",
       "og, hann, bella, hn, thad, ekki, ad, vid, svo, hvad"
      ],
      "text/plain": [
       "<IPython.core.display.Markdown object>"
      ]
     },
     "metadata": {},
     "output_type": "display_data"
    },
    {
     "data": {
      "text/markdown": [
       "* ### anthrax\n",
       "don, ll, just, time, know, like, riggin, friggin, life, man"
      ],
      "text/plain": [
       "<IPython.core.display.Markdown object>"
      ]
     },
     "metadata": {},
     "output_type": "display_data"
    },
    {
     "data": {
      "text/markdown": [
       "* ### bathory\n",
       "death, blood, sky, sword, black, gods, just, ll, time, high"
      ],
      "text/plain": [
       "<IPython.core.display.Markdown object>"
      ]
     },
     "metadata": {},
     "output_type": "display_data"
    },
    {
     "data": {
      "text/markdown": [
       "* ### aquabats\n",
       "la, pi, ba, don, yam, got, meltdown, just, man, away"
      ],
      "text/plain": [
       "<IPython.core.display.Markdown object>"
      ]
     },
     "metadata": {},
     "output_type": "display_data"
    },
    {
     "data": {
      "text/markdown": [
       "* ### bee-gees\n",
       "love, don, know, ll, oh, got, just, life, like, baby"
      ],
      "text/plain": [
       "<IPython.core.display.Markdown object>"
      ]
     },
     "metadata": {},
     "output_type": "display_data"
    },
    {
     "data": {
      "text/markdown": [
       "* ### dmx\n",
       "niggas, nigga, niggaz, shit, fuck, gon, know, like, don, yo"
      ],
      "text/plain": [
       "<IPython.core.display.Markdown object>"
      ]
     },
     "metadata": {},
     "output_type": "display_data"
    },
    {
     "data": {
      "text/markdown": [
       "* ### gordon-lightfoot\n",
       "dee, love, borderstone, like, way, ll, time, day, don, katy"
      ],
      "text/plain": [
       "<IPython.core.display.Markdown object>"
      ]
     },
     "metadata": {},
     "output_type": "display_data"
    },
    {
     "data": {
      "text/markdown": [
       "* ### chemical-brothers\n",
       "lifting, ah, grover, like, don, bang, feel, control, just, superflash"
      ],
      "text/plain": [
       "<IPython.core.display.Markdown object>"
      ]
     },
     "metadata": {},
     "output_type": "display_data"
    },
    {
     "data": {
      "text/markdown": [
       "* ### billie-holiday\n",
       "love, ll, just, pom, heart, don, say, ve, know, like"
      ],
      "text/plain": [
       "<IPython.core.display.Markdown object>"
      ]
     },
     "metadata": {},
     "output_type": "display_data"
    },
    {
     "data": {
      "text/markdown": [
       "* ### david-guetta\n",
       "wanna, love, girl, oh, just, don, let, like, know, yeah"
      ],
      "text/plain": [
       "<IPython.core.display.Markdown object>"
      ]
     },
     "metadata": {},
     "output_type": "display_data"
    },
    {
     "data": {
      "text/markdown": [
       "* ### bob-dylan\n",
       "don, just, ll, like, got, know, gonna, love, come, oh"
      ],
      "text/plain": [
       "<IPython.core.display.Markdown object>"
      ]
     },
     "metadata": {},
     "output_type": "display_data"
    },
    {
     "data": {
      "text/markdown": [
       "* ### 2pac\n",
       "nigga, niggas, thug, got, fuck, don, like, ain, niggaz, ya"
      ],
      "text/plain": [
       "<IPython.core.display.Markdown object>"
      ]
     },
     "metadata": {},
     "output_type": "display_data"
    },
    {
     "data": {
      "text/markdown": [
       "* ### cannibal-corpse\n",
       "blood, dead, death, flesh, kill, life, body, gore, bodies, victims"
      ],
      "text/plain": [
       "<IPython.core.display.Markdown object>"
      ]
     },
     "metadata": {},
     "output_type": "display_data"
    },
    {
     "data": {
      "text/markdown": [
       "* ### edith-piaf\n",
       "les, et, le, je, dans, est, qui, il, la, qu"
      ],
      "text/plain": [
       "<IPython.core.display.Markdown object>"
      ]
     },
     "metadata": {},
     "output_type": "display_data"
    },
    {
     "data": {
      "text/markdown": [
       "* ### buck-owens\n",
       "love, ll, gonna, ve, don, like, know, just, beup, let"
      ],
      "text/plain": [
       "<IPython.core.display.Markdown object>"
      ]
     },
     "metadata": {},
     "output_type": "display_data"
    },
    {
     "data": {
      "text/markdown": [
       "* ### enigma\n",
       "sade, hosanna, moi, je, nomine, le, et, christi, donnes, es"
      ],
      "text/plain": [
       "<IPython.core.display.Markdown object>"
      ]
     },
     "metadata": {},
     "output_type": "display_data"
    },
    {
     "data": {
      "text/markdown": [
       "* ### diana-ross\n",
       "love, don, ll, just, know, baby, want, oh, like, ve"
      ],
      "text/plain": [
       "<IPython.core.display.Markdown object>"
      ]
     },
     "metadata": {},
     "output_type": "display_data"
    },
    {
     "data": {
      "text/markdown": [
       "* ### bruce-springsteen\n",
       "oh, baby, just, got, love, la, come, don, ll, night"
      ],
      "text/plain": [
       "<IPython.core.display.Markdown object>"
      ]
     },
     "metadata": {},
     "output_type": "display_data"
    },
    {
     "data": {
      "text/markdown": [
       "* ### go-betweens\n",
       "betweens, lyrics, don, karen, know, just, like, thing, right, way"
      ],
      "text/plain": [
       "<IPython.core.display.Markdown object>"
      ]
     },
     "metadata": {},
     "output_type": "display_data"
    },
    {
     "data": {
      "text/markdown": [
       "* ### al-green\n",
       "love, baby, oh, yeah, know, hey, time, la, just, let"
      ],
      "text/plain": [
       "<IPython.core.display.Markdown object>"
      ]
     },
     "metadata": {},
     "output_type": "display_data"
    },
    {
     "data": {
      "text/markdown": [
       "* ### brian-mcknight\n",
       "know, love, don, just, baby, girl, want, let, time, oh"
      ],
      "text/plain": [
       "<IPython.core.display.Markdown object>"
      ]
     },
     "metadata": {},
     "output_type": "display_data"
    },
    {
     "data": {
      "text/markdown": [
       "* ### dean-martin\n",
       "love, ll, chee, jl, dm, just, oh, don, like, heart"
      ],
      "text/plain": [
       "<IPython.core.display.Markdown object>"
      ]
     },
     "metadata": {},
     "output_type": "display_data"
    },
    {
     "data": {
      "text/markdown": [
       "* ### chris-brown\n",
       "girl, like, know, oh, nigga, got, love, don, baby, yeah"
      ],
      "text/plain": [
       "<IPython.core.display.Markdown object>"
      ]
     },
     "metadata": {},
     "output_type": "display_data"
    },
    {
     "data": {
      "text/markdown": [
       "* ### dolly-parton\n",
       "love, just, ll, know, oh, parton, don, ve, like, dolly"
      ],
      "text/plain": [
       "<IPython.core.display.Markdown object>"
      ]
     },
     "metadata": {},
     "output_type": "display_data"
    },
    {
     "data": {
      "text/markdown": [
       "* ### elton-john\n",
       "love, oh, just, like, don, ve, got, ll, know, time"
      ],
      "text/plain": [
       "<IPython.core.display.Markdown object>"
      ]
     },
     "metadata": {},
     "output_type": "display_data"
    },
    {
     "data": {
      "text/markdown": [
       "* ### arrogant-worms\n",
       "got, christmas, yeah, like, oh, canada, chomp, winnebago, manly, cause"
      ],
      "text/plain": [
       "<IPython.core.display.Markdown object>"
      ]
     },
     "metadata": {},
     "output_type": "display_data"
    },
    {
     "data": {
      "text/markdown": [
       "* ### celine-dion\n",
       "je, et, les, le, est, pas, des, que, moi, la"
      ],
      "text/plain": [
       "<IPython.core.display.Markdown object>"
      ]
     },
     "metadata": {},
     "output_type": "display_data"
    },
    {
     "data": {
      "text/markdown": [
       "* ### ferlin-husky\n",
       "love, ll, just, ve, oh, time, know, like, don, heart"
      ],
      "text/plain": [
       "<IPython.core.display.Markdown object>"
      ]
     },
     "metadata": {},
     "output_type": "display_data"
    },
    {
     "data": {
      "text/markdown": [
       "* ### fall\n",
       "man, don, like, just, bournemouth, got, time, stock, know, spinetrak"
      ],
      "text/plain": [
       "<IPython.core.display.Markdown object>"
      ]
     },
     "metadata": {},
     "output_type": "display_data"
    },
    {
     "data": {
      "text/markdown": [
       "* ### angus-julia-stone\n",
       "ll, don, love, pa, home, just, know, heart, like, want"
      ],
      "text/plain": [
       "<IPython.core.display.Markdown object>"
      ]
     },
     "metadata": {},
     "output_type": "display_data"
    },
    {
     "data": {
      "text/markdown": [
       "* ### emmylou-harris\n",
       "love, ll, don, just, like, know, oh, ve, heart, time"
      ],
      "text/plain": [
       "<IPython.core.display.Markdown object>"
      ]
     },
     "metadata": {},
     "output_type": "display_data"
    },
    {
     "data": {
      "text/markdown": [
       "* ### aaron-neville\n",
       "love, oh, don, know, baby, ll, let, just, angola, ve"
      ],
      "text/plain": [
       "<IPython.core.display.Markdown object>"
      ]
     },
     "metadata": {},
     "output_type": "display_data"
    },
    {
     "data": {
      "text/markdown": [
       "* ### aretha-franklin\n",
       "love, oh, baby, yeah, just, don, know, doo, jump, ain"
      ],
      "text/plain": [
       "<IPython.core.display.Markdown object>"
      ]
     },
     "metadata": {},
     "output_type": "display_data"
    },
    {
     "data": {
      "text/markdown": [
       "* ### barbra-streisand\n",
       "love, ll, don, know, just, like, barbra, ve, time, got"
      ],
      "text/plain": [
       "<IPython.core.display.Markdown object>"
      ]
     },
     "metadata": {},
     "output_type": "display_data"
    },
    {
     "data": {
      "text/markdown": [
       "* ### devendra-banhart\n",
       "know, la, love, amor, don, que, wah, like, el, oh"
      ],
      "text/plain": [
       "<IPython.core.display.Markdown object>"
      ]
     },
     "metadata": {},
     "output_type": "display_data"
    },
    {
     "data": {
      "text/markdown": [
       "* ### diana-krall\n",
       "love, just, know, ll, like, yeh, let, ve, way, don"
      ],
      "text/plain": [
       "<IPython.core.display.Markdown object>"
      ]
     },
     "metadata": {},
     "output_type": "display_data"
    },
    {
     "data": {
      "text/markdown": [
       "* ### bobby-darin\n",
       "love, know, come, ll, baby, just, like, don, oh, bailey"
      ],
      "text/plain": [
       "<IPython.core.display.Markdown object>"
      ]
     },
     "metadata": {},
     "output_type": "display_data"
    },
    {
     "data": {
      "text/markdown": [
       "* ### fear-factory\n",
       "life, eyes, live, walkaway, ve, new, don, away, kasso, flesh"
      ],
      "text/plain": [
       "<IPython.core.display.Markdown object>"
      ]
     },
     "metadata": {},
     "output_type": "display_data"
    },
    {
     "data": {
      "text/markdown": [
       "* ### the-blood-brothers\n",
       "johnstone, like, mrs, mickey, peacock, lyons, edward, linda, just, vital"
      ],
      "text/plain": [
       "<IPython.core.display.Markdown object>"
      ]
     },
     "metadata": {},
     "output_type": "display_data"
    },
    {
     "data": {
      "text/markdown": [
       "* ### anti-flag\n",
       "don, woah, oh, die, punk, ve, world, fuck, fucking, kill"
      ],
      "text/plain": [
       "<IPython.core.display.Markdown object>"
      ]
     },
     "metadata": {},
     "output_type": "display_data"
    },
    {
     "data": {
      "text/markdown": [
       "* ### clancy-brothers\n",
       "hurroo, roddy, rye, clancys, filename, rg, ll, old, toor, loora"
      ],
      "text/plain": [
       "<IPython.core.display.Markdown object>"
      ]
     },
     "metadata": {},
     "output_type": "display_data"
    },
    {
     "data": {
      "text/markdown": [
       "* ### dusty-springfield\n",
       "love, oh, baby, don, know, just, yeah, want, ll, ooh"
      ],
      "text/plain": [
       "<IPython.core.display.Markdown object>"
      ]
     },
     "metadata": {},
     "output_type": "display_data"
    },
    {
     "data": {
      "text/markdown": [
       "* ### gary-numan\n",
       "don, like, ve, ll, know, love, time, feel, just, say"
      ],
      "text/plain": [
       "<IPython.core.display.Markdown object>"
      ]
     },
     "metadata": {},
     "output_type": "display_data"
    },
    {
     "data": {
      "text/markdown": [
       "* ### b-b-king\n",
       "baby, love, know, don, oh, yes, got, just, ve, woman"
      ],
      "text/plain": [
       "<IPython.core.display.Markdown object>"
      ]
     },
     "metadata": {},
     "output_type": "display_data"
    },
    {
     "data": {
      "text/markdown": [
       "* ### drake\n",
       "niggas, nigga, like, shit, just, know, got, don, yeah, fuck"
      ],
      "text/plain": [
       "<IPython.core.display.Markdown object>"
      ]
     },
     "metadata": {},
     "output_type": "display_data"
    },
    {
     "data": {
      "text/markdown": [
       "* ### celtic-woman\n",
       "pum, shule, ina, ll, siuil, dong, nl, bheidh, christmas, agus"
      ],
      "text/plain": [
       "<IPython.core.display.Markdown object>"
      ]
     },
     "metadata": {},
     "output_type": "display_data"
    },
    {
     "data": {
      "text/markdown": [
       "* ### bing-crosby\n",
       "love, ll, pum, christmas, day, just, oh, la, like, come"
      ],
      "text/plain": [
       "<IPython.core.display.Markdown object>"
      ]
     },
     "metadata": {},
     "output_type": "display_data"
    },
    {
     "data": {
      "text/markdown": [
       "* ### bill-miller\n",
       "just, coyote, like, dreams, wind, ve, reservation, tumbleweed, heart, trail"
      ],
      "text/plain": [
       "<IPython.core.display.Markdown object>"
      ]
     },
     "metadata": {},
     "output_type": "display_data"
    },
    {
     "data": {
      "text/markdown": [
       "* ### bill-anderson\n",
       "love, just, ve, ll, don, know, like, time, little, anderson"
      ],
      "text/plain": [
       "<IPython.core.display.Markdown object>"
      ]
     },
     "metadata": {},
     "output_type": "display_data"
    },
    {
     "data": {
      "text/markdown": [
       "* ### babyface\n",
       "love, know, baby, don, girl, just, ll, hook, babyface, want"
      ],
      "text/plain": [
       "<IPython.core.display.Markdown object>"
      ]
     },
     "metadata": {},
     "output_type": "display_data"
    },
    {
     "data": {
      "text/markdown": [
       "* ### elvis-costello\n",
       "don, just, know, like, ll, oh, love, ve, say, want"
      ],
      "text/plain": [
       "<IPython.core.display.Markdown object>"
      ]
     },
     "metadata": {},
     "output_type": "display_data"
    },
    {
     "data": {
      "text/markdown": [
       "* ### damien-rice\n",
       "like, mooday, man, don, know, wanna, got, love, woman, ve"
      ],
      "text/plain": [
       "<IPython.core.display.Markdown object>"
      ]
     },
     "metadata": {},
     "output_type": "display_data"
    },
    {
     "data": {
      "text/markdown": [
       "* ### akon\n",
       "na, got, know, wanna, don, like, just, oh, cause, akon"
      ],
      "text/plain": [
       "<IPython.core.display.Markdown object>"
      ]
     },
     "metadata": {},
     "output_type": "display_data"
    },
    {
     "data": {
      "text/markdown": [
       "* ### craig-cardiff\n",
       "don, said, like, emm, things, say, know, ve, just, love"
      ],
      "text/plain": [
       "<IPython.core.display.Markdown object>"
      ]
     },
     "metadata": {},
     "output_type": "display_data"
    },
    {
     "data": {
      "text/markdown": [
       "* ### eminem\n",
       "like, shit, just, fuck, don, eminem, cause, bitch, got, know"
      ],
      "text/plain": [
       "<IPython.core.display.Markdown object>"
      ]
     },
     "metadata": {},
     "output_type": "display_data"
    },
    {
     "data": {
      "text/markdown": [
       "* ### blind-guardian\n",
       "ll, ba, don, ve, time, come, barbara, wo, guardian, shall"
      ],
      "text/plain": [
       "<IPython.core.display.Markdown object>"
      ]
     },
     "metadata": {},
     "output_type": "display_data"
    },
    {
     "data": {
      "text/markdown": [
       "* ### frank-sinatra\n",
       "love, ll, just, frank, like, know, come, ve, heart, don"
      ],
      "text/plain": [
       "<IPython.core.display.Markdown object>"
      ]
     },
     "metadata": {},
     "output_type": "display_data"
    },
    {
     "data": {
      "text/markdown": [
       "* ### agoraphobic-nosebleed\n",
       "fucking, fuckin, shit, necessity, fuck, vs, ass, aum, lsd, like"
      ],
      "text/plain": [
       "<IPython.core.display.Markdown object>"
      ]
     },
     "metadata": {},
     "output_type": "display_data"
    },
    {
     "data": {
      "text/markdown": [
       "* ### eddy-arnold\n",
       "love, ll, just, know, don, ve, heart, time, little, oh"
      ],
      "text/plain": [
       "<IPython.core.display.Markdown object>"
      ]
     },
     "metadata": {},
     "output_type": "display_data"
    },
    {
     "data": {
      "text/markdown": [
       "* ### frank-turner\n",
       "ve, just, like, ll, know, got, time, love, come, life"
      ],
      "text/plain": [
       "<IPython.core.display.Markdown object>"
      ]
     },
     "metadata": {},
     "output_type": "display_data"
    },
    {
     "data": {
      "text/markdown": [
       "* ### all-american-rejects\n",
       "just, don, ll, womanizer, know, nah, na, time, yeah, away"
      ],
      "text/plain": [
       "<IPython.core.display.Markdown object>"
      ]
     },
     "metadata": {},
     "output_type": "display_data"
    },
    {
     "data": {
      "text/markdown": [
       "* ### beach-boys\n",
       "rhonda, da, love, mow, oom, oh, ll, dit, baby, ooo"
      ],
      "text/plain": [
       "<IPython.core.display.Markdown object>"
      ]
     },
     "metadata": {},
     "output_type": "display_data"
    },
    {
     "data": {
      "text/markdown": [
       "* ### daft-punk\n",
       "robot, world, rock, human, night, technologic, computerized, come, air, free"
      ],
      "text/plain": [
       "<IPython.core.display.Markdown object>"
      ]
     },
     "metadata": {},
     "output_type": "display_data"
    },
    {
     "data": {
      "text/markdown": [
       "* ### alan-jackson\n",
       "love, just, don, ll, ve, like, got, know, little, way"
      ],
      "text/plain": [
       "<IPython.core.display.Markdown object>"
      ]
     },
     "metadata": {},
     "output_type": "display_data"
    },
    {
     "data": {
      "text/markdown": [
       "* ### connie-smith\n",
       "love, ll, just, don, know, pum, ve, heart, oh, world"
      ],
      "text/plain": [
       "<IPython.core.display.Markdown object>"
      ]
     },
     "metadata": {},
     "output_type": "display_data"
    },
    {
     "data": {
      "text/markdown": [
       "* ### faithless\n",
       "love, weapon, like, don, want, mass, know, destruction, just, come"
      ],
      "text/plain": [
       "<IPython.core.display.Markdown object>"
      ]
     },
     "metadata": {},
     "output_type": "display_data"
    },
    {
     "data": {
      "text/markdown": [
       "* ### cseh-tamxi-xi\n",
       "egy, hogy, az, csak, nanna, nem, gy, beremnyi, cseh, iiti"
      ],
      "text/plain": [
       "<IPython.core.display.Markdown object>"
      ]
     },
     "metadata": {},
     "output_type": "display_data"
    },
    {
     "data": {
      "text/markdown": [
       "* ### christina-aguilera\n",
       "oh, yeah, wah, don, love, baby, know, ooh, come, just"
      ],
      "text/plain": [
       "<IPython.core.display.Markdown object>"
      ]
     },
     "metadata": {},
     "output_type": "display_data"
    }
   ],
   "source": [
    "words_per_artist(artist_lyrics, lyrics_tfidf_matrix, ix2word)\n",
    "\n",
    "\n",
    "clustered = linkage(lyrics_tfidf_matrix.toarray(), method='ward')\n"
   ]
  },
  {
   "cell_type": "markdown",
   "metadata": {},
   "source": [
    "## Plot dendrogram"
   ]
  },
  {
   "cell_type": "code",
   "execution_count": 80,
   "metadata": {},
   "outputs": [
    {
     "data": {
      "image/png": "[encoded data removed]",
      "text/plain": [
       "<Figure size 720x1800 with 1 Axes>"
      ]
     },
     "metadata": {},
     "output_type": "display_data"
    },
    {
     "data": {
      "text/plain": [
       "<Figure size 432x288 with 0 Axes>"
      ]
     },
     "metadata": {},
     "output_type": "display_data"
    }
   ],
   "source": [
    "artist_names = [a+': '+artist2genre[a].upper()\n",
    "                for a in list(artist_lyrics.keys())]\n",
    "plot_dendrogram(clustered, artist_names)"
   ]
  },
  {
   "cell_type": "markdown",
   "metadata": {},
   "source": []
  },
  {
   "cell_type": "code",
   "execution_count": null,
   "metadata": {},
   "outputs": [],
   "source": []
  }
 ],
 "metadata": {
  "kernelspec": {
   "display_name": "Python 3",
   "language": "python",
   "name": "python3"
  },
  "language_info": {
   "codemirror_mode": {
    "name": "ipython",
    "version": 3
   },
   "file_extension": ".py",
   "mimetype": "text/x-python",
   "name": "python",
   "nbconvert_exporter": "python",
   "pygments_lexer": "ipython3",
   "version": "3.6.5"
  }
 },
 "nbformat": 4,
 "nbformat_minor": 2
}
