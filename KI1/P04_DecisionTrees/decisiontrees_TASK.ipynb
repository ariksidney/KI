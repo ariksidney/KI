{
 "cells": [
  {
   "cell_type": "code",
   "execution_count": 1,
   "metadata": {},
   "outputs": [],
   "source": [
    "import pandas as pa\n",
    "import numpy as np\n",
    "import pdb\n",
    "import sys\n",
    "from sklearn.ensemble import AdaBoostClassifier\n",
    "from sklearn.tree import DecisionTreeClassifier\n",
    "from sklearn.preprocessing import LabelEncoder\n",
    "from collections import defaultdict"
   ]
  },
  {
   "cell_type": "markdown",
   "metadata": {},
   "source": [
    "##    Helper Funcitons (Do not edit) \n",
    "\n",
    "The Tree_node class represents one Node in a Decisiontree\n",
    "Each node holds a left and a right child if it is not a leaf. If it is a leaf it will contain the partition of the \n",
    "original dataset corresponding to the respective leaf.\n",
    "In a fully grown tree every leaf is pure with respect to the goal variable \n",
    "Each node needs to have a Split that describes how the dataset is partitioned at a specific Node. It is a python tuple \n",
    "containing:\n",
    "The variable in which the dataset is split\n",
    "The cutoff value for the split\n",
    "The goal variable for which the split is optimized\n",
    "for example ('safety', 'high', 'rating') means that the dataset will be split into a partition where safety is high\n",
    "and a rest."
   ]
  },
  {
   "cell_type": "code",
   "execution_count": 2,
   "metadata": {},
   "outputs": [],
   "source": [
    "class Tree_node:\n",
    "    original_Data = None\n",
    "    \n",
    "    def __init__(self,split=None,right_child=None, left_child=None):\n",
    "        self.split=split\n",
    "        self.right_child = right_child\n",
    "        self.left_child = left_child\n",
    "\n",
    "    # returns the returns the child in which obs belongs\n",
    "    def return_child(self,obs):\n",
    "        column = self.split[0]\n",
    "                        \n",
    "        if self.is_categorical(column):\n",
    "            if obs[column] == self.split[1]:\n",
    "                return self.right_child\n",
    "            else:\n",
    "                return self.left_child\n",
    "            \n",
    "        else:\n",
    "            if obs[column] >= self.split[1]:\n",
    "                return self.right_child\n",
    "            else:\n",
    "                return self.left_child\n",
    "    \n",
    "    # returns an estimate for the goal variable of obs\n",
    "    def classify(self, obs):\n",
    "        \n",
    "        child = self.return_child(obs)\n",
    "        \n",
    "        if child.__class__.__name__ == 'Tree_node':\n",
    "            return child.classify(obs)\n",
    "    \n",
    "        target_col = self.split[2]\n",
    "        if self.is_categorical(target_col):\n",
    "            #print(\"majority vote\")\n",
    "            return child[target_col].value_counts().keys()[0]\n",
    "        else:\n",
    "            #print(\"average\")\n",
    "            return np.average(child[~child[target_col].isnull()][\"age\"])\n",
    " \n",
    "\n",
    "    def is_categorical(self, column):\n",
    "        category=True\n",
    "        if not Tree_node.original_Data[column].dtype.name == \"category\":\n",
    "            category = False\n",
    "        return category\n",
    "    \n",
    "# returns the giny impurity for data with respect to column (i.e. use your goal variable as column here)    \n",
    "def gini_impurity(data,column, weights=None):\n",
    "    try:\n",
    "        counts = uniquecounts(data, column)\n",
    "        probs = counts/data.shape[0]\n",
    "        if len(probs) == 1:\n",
    "            prob_obs = np.ones(data.shape[0])\n",
    "        else:\n",
    "            la1 = lambda x: probs[probs.index == x][0]\n",
    "            prob_obs = np.array(list(map(la1, data[column])))\n",
    "            prob_obs = np.square(prob_obs)\n",
    "\n",
    "        if weights is None:\n",
    "            weights = np.ones(data.shape[0])\n",
    "        weights = weights/sum(weights)\n",
    "        return 1-sum(weights*prob_obs)\n",
    "    except:\n",
    "        print(\"Unexpected error:\", sys.exc_info()[0])\n",
    "        raise\n",
    "       \n",
    "\n",
    "# Count ocurrences of goal variable\n",
    "def uniquecounts(data, column):\n",
    "   val_cnt = data[column].value_counts()\n",
    "   return val_cnt.drop(val_cnt[val_cnt == 0].index)\n",
    "\n",
    "\n",
    "# This is a helper function, that partitions a dataset with respect to a given variable and a cutoff value\n",
    "def divideset(in_set, column, value):\n",
    "   # Make a function that tells us if a row is in\n",
    "   # the first group (true) or the second group (false)\n",
    "   split_function=None\n",
    "   if not in_set[column].dtype.name == \"category\":\n",
    "      # assume it to be numerical if not category\n",
    "      split_function=lambda in_set:in_set[column]>=value\n",
    "   else:\n",
    "      split_function=lambda in_set:in_set[column]==value\n",
    "                                   \n",
    "   # Divide the rows into two sets and return them\n",
    "   set1= in_set[split_function(in_set)].copy()\n",
    "   set2= in_set[np.invert(split_function(in_set))].copy()\n",
    "   return (set1,set2)"
   ]
  },
  {
   "cell_type": "markdown",
   "metadata": {},
   "source": [
    "##    Load Data     "
   ]
  },
  {
   "cell_type": "code",
   "execution_count": 3,
   "metadata": {},
   "outputs": [],
   "source": [
    "dat_car = pa.read_csv('car.data.csv', sep=\",\")\n",
    "dat_car.dtypes\n",
    "for i in dat_car.columns.values:\n",
    "    dat_car[i] = dat_car[i].astype('category')\n",
    "    \n",
    "dat = dat_car\n",
    "target_col = \"rating\"\n",
    "\n",
    "# shuffle data\n",
    "np.random.seed(42)\n",
    "dat = dat.reindex(np.random.permutation(dat.index))\n",
    "\n",
    "# split data into training and test set -- this is absolutely central to fitting a ML model\n",
    "# if you are not shure why, ask your tutor (its going to be on the final exam)\n",
    "split = int(dat.shape[0]/100*20)\n",
    "\n",
    "dat_test = dat.iloc[0:split]\n",
    "dat_train = dat.iloc[(split+1):dat.shape[0]]\n",
    "\n",
    "Tree_node.original_Data = dat_train"
   ]
  },
  {
   "cell_type": "markdown",
   "metadata": {},
   "source": [
    "# Task 0\n",
    "Look at the dataset. The dataset contains information used cars that are for sale including a rating of the offer."
   ]
  },
  {
   "cell_type": "code",
   "execution_count": 4,
   "metadata": {
    "scrolled": true
   },
   "outputs": [],
   "source": [
    "# print('shape')\n",
    "# print(dat_train.shape)\n",
    "\n",
    "# print('columns')\n",
    "# print(list(dat_train.columns))\n",
    "\n",
    "# print('labels: ')\n",
    "# print(list(dat_train.rating.unique()))\n",
    "\n",
    "\n",
    "# In this exercise we will fit a model to the remainig six variables in order to predict \"rating\", our goal variable.\n",
    "# You will have to add your own code at each failing assert like this one\n",
    "# assert False, \"Please comment me\""
   ]
  },
  {
   "cell_type": "markdown",
   "metadata": {},
   "source": [
    "## Task 1\n",
    "Fit a tree stump: in this task you will fit a tree stump (i.e. a Decision Tree of depth 1) to the used cars data. You will have to find the partition of the input dataset that yields the biggest gini score gain with respect to the goal variable. you will accomplish this by exhaustive search i.e. try every possible partition.\n",
    "\n",
    "# Input Parameters:\n",
    "1. in_set: Training data (features)\n",
    "2. traget_col: Ground truth labels\n",
    "3. weights: Weight of the samples \n",
    "\n",
    "# Outputs:\n",
    "1. best_split: A tuple including the most discriminant (best) feature for splitting, splitting value and labels\n",
    "2. best_sets: A tuple of two sets, which are the outputs of \"divideset\" function. These sets are the result of dividing the training data based on the best split\n"
   ]
  },
  {
   "cell_type": "code",
   "execution_count": 5,
   "metadata": {},
   "outputs": [],
   "source": [
    "def find_best_split(in_set, target_col, weights=None):\n",
    "    # in_set = datas\n",
    "    # target_col = ratings\n",
    "\n",
    "    # compute the giniy score for the unpartitioned dataset\n",
    "    # in_score = 0.6839147891222874\n",
    "    in_score = gini_impurity(in_set, target_col, weights)\n",
    "    \n",
    "    best_gain = 0\n",
    "    best_split = None\n",
    "    best_sets = None\n",
    "    \n",
    "    # try every column\n",
    "    for act_col in in_set.columns.values:\n",
    "        # ignore goal variable - otherwise its trivial\n",
    "        if act_col == target_col: continue\n",
    "\n",
    "        # construct a list of unique values for this variable \n",
    "        column_values = set(in_set[act_col])\n",
    "\n",
    "        # Try every possible split of the dataset w.r.t. the current variable\n",
    "        # save the split that yielded the hightest gini gain\n",
    "        # The gini-gain of a partition is defined as follows (assume set is partitioned into part_1 and part_2)\n",
    "        # gain = gini_impurity(set)-p_1*gini_ipurity(part_1)-(1-p_1)*gini_inpurity(part_2)\n",
    "        # where p_1 is nrows(part_1)/nrows(set)\n",
    "        # Hint: see Tree_node comments for the definition of the split\n",
    "        \n",
    "        for column_value in column_values:\n",
    "            # z.Bsp. act_col = buy_price\n",
    "            # z.Bsp. column_value = high\n",
    "            # z.Bsp. sets = set1 sind alle zu column_value high, set2 ist der ganze rest\n",
    "            \n",
    "            sets = divideset(in_set, act_col, column_value)\n",
    "\n",
    "            p_1 = len(sets[0].values)/len(in_set.values)\n",
    "            gain = in_score - p_1 * gini_impurity(sets[0], target_col, weights) - (1 - p_1) * gini_impurity(sets[1], target_col, weights)\n",
    "       \n",
    "            if gain > best_gain:\n",
    "                best_gain = gain\n",
    "                best_split = (act_col, column_value, target_col)\n",
    "                best_sets = sets\n",
    "\n",
    "    # best_split = ('safety', 'low', 'rating')\n",
    "    return best_split, best_sets\n",
    "\n",
    "\n",
    "# Fitting a stump is trivial when you have found the best split\n",
    "split, sets = find_best_split(dat_train, target_col)\n",
    "stump = Tree_node(split,sets[0],sets[1])\n"
   ]
  },
  {
   "cell_type": "markdown",
   "metadata": {},
   "source": [
    "## Task 2\n",
    "Compute the confusion matrix and the correct classification percentage for your tree.\n",
    "\n",
    "# Input Parameters:\n",
    "1. in_data: Data samples (features)   \n",
    "2. target_col: Data labels \n",
    "3. tree: A trained tree for evaluating the samples\n",
    "\n",
    "# Outputs:\n",
    "1. conf_mat: Confusion matrix of the decisions based on the input tree  \n",
    "2. p_correct: Probability of correct decisions\n"
   ]
  },
  {
   "cell_type": "code",
   "execution_count": 6,
   "metadata": {},
   "outputs": [],
   "source": [
    "def conf_matrix(in_data, target_col, tree):\n",
    "  \n",
    "    # levels available in the target variable (in this example 4)\n",
    "    # levels = count( acc, good, unacc, vgood )\n",
    "    levels = uniquecounts(in_data, target_col).keys()\n",
    "    \n",
    "    # confusion matrix itself\n",
    "    conf_mat =  np.zeros((len(levels),len(levels)))\n",
    "    \n",
    "    # percentage of correct classifications\n",
    "    # level_values = unacc, acc, good, vgood\n",
    "    level_values = levels.categories.values.tolist()\n",
    "\n",
    "    p_correct = 0\n",
    "    \n",
    "    for index, row in in_data.iterrows():\n",
    "        result = tree.classify(row)\n",
    "        \n",
    "        conf_mat[level_values.index(result)][level_values.index(row.rating)] += 1\n",
    " \n",
    "        # Correct data are in the diagonals\n",
    "        correct = sum(conf_mat[i][i] for i in range(len(levels)))\n",
    "\n",
    "        p_correct = correct / len(in_data)\n",
    "\n",
    "    return conf_mat, p_correct\n",
    "\n",
    "# Build confusion Matrix with training data\n",
    "conf_mat_stump_train, p_correct_stump_train = conf_matrix(dat_train, target_col, stump)\n",
    "\n",
    "# Build confusion Matrix with test data\n",
    "conf_mat_stump_test, p_correct_stump_test = conf_matrix(dat_test, target_col, stump)"
   ]
  },
  {
   "cell_type": "markdown",
   "metadata": {},
   "source": [
    "## Task 3\n",
    "Recursively build a tree of variable depth.\n",
    "\n",
    "# Input Parameters:\n",
    "1. in_data: Training data (features)\n",
    "2. traget_col: Ground truth labels\n",
    "3. max_depth: Maximum length of the tree\n",
    "3. weights: Weight of the samples\n",
    "\n",
    "# Output:\n",
    "An instance of the \"Tree_node\" class initialized by a split (output of the \"find_best_split\" function) in addition to the\n",
    "right and left children (recursive call of the \"train_tree\" function for two subset of training data) "
   ]
  },
  {
   "cell_type": "code",
   "execution_count": 7,
   "metadata": {},
   "outputs": [],
   "source": [
    "def train_tree(in_data, target_col, max_depth=99, weigths = None):\n",
    "    # To recursively build a decision tree you have to do two things:\n",
    "    # - if you hit your stopping criterions just return in_data (there are two reasons that stop the recursion)\n",
    "    # - othervise find the best split and call this methon on both set partitions\n",
    "    \n",
    "    # Stopping criterion\n",
    "    if max_depth == 0 or in_data is None:\n",
    "        return in_data\n",
    "    \n",
    "    # Call find_best_split\n",
    "    split, sets = find_best_split(in_data, target_col, weigths)\n",
    "    \n",
    "    # Stopping criterion\n",
    "    if sets is None:\n",
    "        return in_data\n",
    "    \n",
    "    # Recursive calls\n",
    "    right_child = train_tree(sets[0], target_col, max_depth-1, weigths)\n",
    "    left_child = train_tree(sets[1], target_col, max_depth-1, weigths)\n",
    "\n",
    "    return Tree_node(split, right_child, left_child)\n",
    "    \n",
    "\n",
    "# Tree of depth 5 (fully grown tree is pretty slow, but you can play around with the depth parameter and have a look\n",
    "# at its influence on the classification performance)\n",
    "depth5_tree = train_tree(dat_train, target_col, 5)\n",
    "\n",
    "# Build confusion Matrix with training data\n",
    "conf_mat_5_train, p_correct_5_train = conf_matrix(dat_train, target_col, depth5_tree)\n",
    "\n",
    "# Build confusion Matrix with test data \n",
    "conf_mat_5_test, p_correct_5_test = conf_matrix(dat_test, target_col, depth5_tree)"
   ]
  },
  {
   "cell_type": "markdown",
   "metadata": {},
   "source": [
    "## Task 4\n",
    "In this task you repeat task 3 and 2 but use the popular ML library scikit-learn instead of your own with a custom implementation."
   ]
  },
  {
   "cell_type": "code",
   "execution_count": 36,
   "metadata": {},
   "outputs": [
    {
     "name": "stdout",
     "output_type": "stream",
     "text": [
      "0.7191358024691358\n",
      ";\n",
      "0.7654320987654321\n",
      ";\n",
      "0.7777777777777778\n",
      ";\n",
      "0.8333333333333334\n",
      ";\n",
      "0.8148148148148148\n",
      ";\n",
      "0.8425925925925926\n",
      ";\n",
      "0.8549382716049383\n",
      ";\n",
      "0.9567901234567902\n",
      ";\n",
      "0.9506172839506173\n",
      ";\n",
      "0.9444444444444444\n",
      ";\n",
      "0.9783950617283951\n",
      ";\n",
      "0.9382716049382716\n",
      ";\n",
      "0.9753086419753086\n",
      ";\n",
      "0.9506172839506173\n",
      ";\n",
      "0.9629629629629629\n",
      ";\n",
      "0.9783950617283951\n",
      ";\n",
      "0.9814814814814815\n",
      ";\n",
      "0.9691358024691358\n",
      ";\n",
      "0.9783950617283951\n",
      ";\n",
      "0.9814814814814815\n",
      ";\n"
     ]
    },
    {
     "name": "stderr",
     "output_type": "stream",
     "text": [
      "/anaconda3/lib/python3.6/site-packages/sklearn/preprocessing/label.py:151: DeprecationWarning: The truth value of an empty array is ambiguous. Returning False, but in future this will result in an error. Use `array.size > 0` to check that an array is not empty.\n",
      "  if diff:\n",
      "/anaconda3/lib/python3.6/site-packages/sklearn/preprocessing/label.py:151: DeprecationWarning: The truth value of an empty array is ambiguous. Returning False, but in future this will result in an error. Use `array.size > 0` to check that an array is not empty.\n",
      "  if diff:\n",
      "/anaconda3/lib/python3.6/site-packages/sklearn/preprocessing/label.py:151: DeprecationWarning: The truth value of an empty array is ambiguous. Returning False, but in future this will result in an error. Use `array.size > 0` to check that an array is not empty.\n",
      "  if diff:\n",
      "/anaconda3/lib/python3.6/site-packages/sklearn/preprocessing/label.py:151: DeprecationWarning: The truth value of an empty array is ambiguous. Returning False, but in future this will result in an error. Use `array.size > 0` to check that an array is not empty.\n",
      "  if diff:\n",
      "/anaconda3/lib/python3.6/site-packages/sklearn/preprocessing/label.py:151: DeprecationWarning: The truth value of an empty array is ambiguous. Returning False, but in future this will result in an error. Use `array.size > 0` to check that an array is not empty.\n",
      "  if diff:\n",
      "/anaconda3/lib/python3.6/site-packages/sklearn/preprocessing/label.py:151: DeprecationWarning: The truth value of an empty array is ambiguous. Returning False, but in future this will result in an error. Use `array.size > 0` to check that an array is not empty.\n",
      "  if diff:\n",
      "/anaconda3/lib/python3.6/site-packages/sklearn/preprocessing/label.py:151: DeprecationWarning: The truth value of an empty array is ambiguous. Returning False, but in future this will result in an error. Use `array.size > 0` to check that an array is not empty.\n",
      "  if diff:\n",
      "/anaconda3/lib/python3.6/site-packages/sklearn/preprocessing/label.py:151: DeprecationWarning: The truth value of an empty array is ambiguous. Returning False, but in future this will result in an error. Use `array.size > 0` to check that an array is not empty.\n",
      "  if diff:\n",
      "/anaconda3/lib/python3.6/site-packages/sklearn/preprocessing/label.py:151: DeprecationWarning: The truth value of an empty array is ambiguous. Returning False, but in future this will result in an error. Use `array.size > 0` to check that an array is not empty.\n",
      "  if diff:\n",
      "/anaconda3/lib/python3.6/site-packages/sklearn/preprocessing/label.py:151: DeprecationWarning: The truth value of an empty array is ambiguous. Returning False, but in future this will result in an error. Use `array.size > 0` to check that an array is not empty.\n",
      "  if diff:\n",
      "/anaconda3/lib/python3.6/site-packages/sklearn/preprocessing/label.py:151: DeprecationWarning: The truth value of an empty array is ambiguous. Returning False, but in future this will result in an error. Use `array.size > 0` to check that an array is not empty.\n",
      "  if diff:\n",
      "/anaconda3/lib/python3.6/site-packages/sklearn/preprocessing/label.py:151: DeprecationWarning: The truth value of an empty array is ambiguous. Returning False, but in future this will result in an error. Use `array.size > 0` to check that an array is not empty.\n",
      "  if diff:\n",
      "/anaconda3/lib/python3.6/site-packages/sklearn/preprocessing/label.py:151: DeprecationWarning: The truth value of an empty array is ambiguous. Returning False, but in future this will result in an error. Use `array.size > 0` to check that an array is not empty.\n",
      "  if diff:\n",
      "/anaconda3/lib/python3.6/site-packages/sklearn/preprocessing/label.py:151: DeprecationWarning: The truth value of an empty array is ambiguous. Returning False, but in future this will result in an error. Use `array.size > 0` to check that an array is not empty.\n",
      "  if diff:\n",
      "/anaconda3/lib/python3.6/site-packages/sklearn/preprocessing/label.py:151: DeprecationWarning: The truth value of an empty array is ambiguous. Returning False, but in future this will result in an error. Use `array.size > 0` to check that an array is not empty.\n",
      "  if diff:\n",
      "/anaconda3/lib/python3.6/site-packages/sklearn/preprocessing/label.py:151: DeprecationWarning: The truth value of an empty array is ambiguous. Returning False, but in future this will result in an error. Use `array.size > 0` to check that an array is not empty.\n",
      "  if diff:\n",
      "/anaconda3/lib/python3.6/site-packages/sklearn/preprocessing/label.py:151: DeprecationWarning: The truth value of an empty array is ambiguous. Returning False, but in future this will result in an error. Use `array.size > 0` to check that an array is not empty.\n",
      "  if diff:\n",
      "/anaconda3/lib/python3.6/site-packages/sklearn/preprocessing/label.py:151: DeprecationWarning: The truth value of an empty array is ambiguous. Returning False, but in future this will result in an error. Use `array.size > 0` to check that an array is not empty.\n",
      "  if diff:\n",
      "/anaconda3/lib/python3.6/site-packages/sklearn/preprocessing/label.py:151: DeprecationWarning: The truth value of an empty array is ambiguous. Returning False, but in future this will result in an error. Use `array.size > 0` to check that an array is not empty.\n",
      "  if diff:\n",
      "/anaconda3/lib/python3.6/site-packages/sklearn/preprocessing/label.py:151: DeprecationWarning: The truth value of an empty array is ambiguous. Returning False, but in future this will result in an error. Use `array.size > 0` to check that an array is not empty.\n",
      "  if diff:\n"
     ]
    }
   ],
   "source": [
    "# Encoding the variable for use with sklearn - the data has to be encoded this way for sklearn dont worry about the\n",
    "# next 3 lines - just use the _encoded version when you pass data to sklearn\n",
    "d = defaultdict(LabelEncoder)\n",
    "dat_train_encoded = dat_train.apply(lambda x: d[x.name].fit_transform(x))\n",
    "dat_test_encoded = dat_test.apply(lambda x: d[x.name].transform(x))\n",
    "\n",
    "# Hints: have a Look at the DecisionTreeClassifier class. use criterion = \"gini\" and max_depth = 5 to make the results \n",
    "# comparable to task 3. You might have to take a look at the sklearn documentation.\n",
    "# Attention: you pass data to sklearn you have to remove the target variable - otherwise sklearn will use it for \n",
    "# the prediction (e.g. use: dat_train_encoded[dat_train_encoded.columns.difference([target_col])] as training data)\n",
    "\n",
    "for i in range(1, 21):\n",
    "    tree = DecisionTreeClassifier(criterion='gini', max_depth=i, splitter='random')\n",
    "    cols_without_target = dat_train_encoded.columns.difference([target_col]);\n",
    "\n",
    "    tree.fit(dat_train_encoded[cols_without_target], dat_train_encoded[target_col])\n",
    "    predictions = tree.predict(dat_test_encoded[cols_without_target])\n",
    "\n",
    "    # inverse the encoding on the predictions and compute the confusion rate --> how does this compare to your own implementation?\n",
    "    predictions = d[target_col].inverse_transform(predictions)\n",
    "    print(sum(dat_test[target_col] == predictions)/float(len(predictions)))\n",
    "    print(';')\n"
   ]
  },
  {
   "cell_type": "markdown",
   "metadata": {},
   "source": [
    "# Task 5\n",
    "In this task you will implement the adaboost algorithm to fit a number of trees and use their collective power\n",
    "to build a better classifier. While you can use your own tree implementation i advise you to use DecisionTreeClassifier\n",
    "for performance reasons (on run of adaboost will fit 50 trees). Using the following function you will fits decision trees to the data using adaboost:\n",
    "\n",
    "# Input Parameters (ada_boost_trees):\n",
    "1. in_data: Training data (features)\n",
    "2. column: Ground truth labels \n",
    "3. depth: Depth of the individual trees\n",
    "4. m: Number of trees (hypotheses) to fit\n",
    "\n",
    "# Outputs (ada_boost_trees):\n",
    "1. trees: A list of the fitted trees\n",
    "2. importance = A list of the respective importances (weights) for the fitted trees. These values are used for final weighted decisions \n",
    "\n",
    "# Input Parameters (predict_boosted_trees):\n",
    "1. trees: A list of the fitted trees\n",
    "2. importance = A list of the respective importances (weights) for the fitted trees. These values are used for final weighted decisions \n",
    "3. obs: Data samples for evaluation\n",
    "\n",
    "# Output (predict_boosted_trees):\n",
    "1. trees: A list of the fitted trees\n",
    "2. importance = A list of the respective importances (weights) for the fitted trees. These values are used for final weighted decisions. "
   ]
  },
  {
   "cell_type": "code",
   "execution_count": 25,
   "metadata": {},
   "outputs": [
    {
     "name": "stderr",
     "output_type": "stream",
     "text": [
      "/anaconda3/lib/python3.6/site-packages/sklearn/preprocessing/label.py:151: DeprecationWarning: The truth value of an empty array is ambiguous. Returning False, but in future this will result in an error. Use `array.size > 0` to check that an array is not empty.\n",
      "  if diff:\n",
      "/anaconda3/lib/python3.6/site-packages/sklearn/preprocessing/label.py:151: DeprecationWarning: The truth value of an empty array is ambiguous. Returning False, but in future this will result in an error. Use `array.size > 0` to check that an array is not empty.\n",
      "  if diff:\n"
     ]
    },
    {
     "name": "stdout",
     "output_type": "stream",
     "text": [
      "0.9753086419753086\n",
      "0.9753086419753086\n"
     ]
    },
    {
     "name": "stderr",
     "output_type": "stream",
     "text": [
      "/anaconda3/lib/python3.6/site-packages/sklearn/preprocessing/label.py:151: DeprecationWarning: The truth value of an empty array is ambiguous. Returning False, but in future this will result in an error. Use `array.size > 0` to check that an array is not empty.\n",
      "  if diff:\n",
      "/anaconda3/lib/python3.6/site-packages/sklearn/preprocessing/label.py:151: DeprecationWarning: The truth value of an empty array is ambiguous. Returning False, but in future this will result in an error. Use `array.size > 0` to check that an array is not empty.\n",
      "  if diff:\n"
     ]
    },
    {
     "name": "stdout",
     "output_type": "stream",
     "text": [
      "0.9753086419753086\n",
      "0.9753086419753086\n"
     ]
    },
    {
     "name": "stderr",
     "output_type": "stream",
     "text": [
      "/anaconda3/lib/python3.6/site-packages/sklearn/preprocessing/label.py:151: DeprecationWarning: The truth value of an empty array is ambiguous. Returning False, but in future this will result in an error. Use `array.size > 0` to check that an array is not empty.\n",
      "  if diff:\n",
      "/anaconda3/lib/python3.6/site-packages/sklearn/preprocessing/label.py:151: DeprecationWarning: The truth value of an empty array is ambiguous. Returning False, but in future this will result in an error. Use `array.size > 0` to check that an array is not empty.\n",
      "  if diff:\n"
     ]
    },
    {
     "name": "stdout",
     "output_type": "stream",
     "text": [
      "0.9753086419753086\n",
      "0.9753086419753086\n"
     ]
    },
    {
     "name": "stderr",
     "output_type": "stream",
     "text": [
      "/anaconda3/lib/python3.6/site-packages/sklearn/preprocessing/label.py:151: DeprecationWarning: The truth value of an empty array is ambiguous. Returning False, but in future this will result in an error. Use `array.size > 0` to check that an array is not empty.\n",
      "  if diff:\n",
      "/anaconda3/lib/python3.6/site-packages/sklearn/preprocessing/label.py:151: DeprecationWarning: The truth value of an empty array is ambiguous. Returning False, but in future this will result in an error. Use `array.size > 0` to check that an array is not empty.\n",
      "  if diff:\n"
     ]
    },
    {
     "name": "stdout",
     "output_type": "stream",
     "text": [
      "0.9753086419753086\n",
      "0.9753086419753086\n"
     ]
    },
    {
     "name": "stderr",
     "output_type": "stream",
     "text": [
      "/anaconda3/lib/python3.6/site-packages/sklearn/preprocessing/label.py:151: DeprecationWarning: The truth value of an empty array is ambiguous. Returning False, but in future this will result in an error. Use `array.size > 0` to check that an array is not empty.\n",
      "  if diff:\n",
      "/anaconda3/lib/python3.6/site-packages/sklearn/preprocessing/label.py:151: DeprecationWarning: The truth value of an empty array is ambiguous. Returning False, but in future this will result in an error. Use `array.size > 0` to check that an array is not empty.\n",
      "  if diff:\n"
     ]
    },
    {
     "name": "stdout",
     "output_type": "stream",
     "text": [
      "0.9753086419753086\n",
      "0.9753086419753086\n"
     ]
    },
    {
     "name": "stderr",
     "output_type": "stream",
     "text": [
      "/anaconda3/lib/python3.6/site-packages/sklearn/preprocessing/label.py:151: DeprecationWarning: The truth value of an empty array is ambiguous. Returning False, but in future this will result in an error. Use `array.size > 0` to check that an array is not empty.\n",
      "  if diff:\n",
      "/anaconda3/lib/python3.6/site-packages/sklearn/preprocessing/label.py:151: DeprecationWarning: The truth value of an empty array is ambiguous. Returning False, but in future this will result in an error. Use `array.size > 0` to check that an array is not empty.\n",
      "  if diff:\n"
     ]
    },
    {
     "name": "stdout",
     "output_type": "stream",
     "text": [
      "0.9753086419753086\n",
      "0.9753086419753086\n"
     ]
    },
    {
     "name": "stderr",
     "output_type": "stream",
     "text": [
      "/anaconda3/lib/python3.6/site-packages/sklearn/preprocessing/label.py:151: DeprecationWarning: The truth value of an empty array is ambiguous. Returning False, but in future this will result in an error. Use `array.size > 0` to check that an array is not empty.\n",
      "  if diff:\n",
      "/anaconda3/lib/python3.6/site-packages/sklearn/preprocessing/label.py:151: DeprecationWarning: The truth value of an empty array is ambiguous. Returning False, but in future this will result in an error. Use `array.size > 0` to check that an array is not empty.\n",
      "  if diff:\n"
     ]
    },
    {
     "name": "stdout",
     "output_type": "stream",
     "text": [
      "0.9753086419753086\n",
      "0.9753086419753086\n"
     ]
    },
    {
     "name": "stderr",
     "output_type": "stream",
     "text": [
      "/anaconda3/lib/python3.6/site-packages/sklearn/preprocessing/label.py:151: DeprecationWarning: The truth value of an empty array is ambiguous. Returning False, but in future this will result in an error. Use `array.size > 0` to check that an array is not empty.\n",
      "  if diff:\n",
      "/anaconda3/lib/python3.6/site-packages/sklearn/preprocessing/label.py:151: DeprecationWarning: The truth value of an empty array is ambiguous. Returning False, but in future this will result in an error. Use `array.size > 0` to check that an array is not empty.\n",
      "  if diff:\n"
     ]
    },
    {
     "name": "stdout",
     "output_type": "stream",
     "text": [
      "0.9753086419753086\n",
      "0.9753086419753086\n"
     ]
    },
    {
     "name": "stderr",
     "output_type": "stream",
     "text": [
      "/anaconda3/lib/python3.6/site-packages/sklearn/preprocessing/label.py:151: DeprecationWarning: The truth value of an empty array is ambiguous. Returning False, but in future this will result in an error. Use `array.size > 0` to check that an array is not empty.\n",
      "  if diff:\n",
      "/anaconda3/lib/python3.6/site-packages/sklearn/preprocessing/label.py:151: DeprecationWarning: The truth value of an empty array is ambiguous. Returning False, but in future this will result in an error. Use `array.size > 0` to check that an array is not empty.\n",
      "  if diff:\n"
     ]
    },
    {
     "name": "stdout",
     "output_type": "stream",
     "text": [
      "0.9753086419753086\n",
      "0.9753086419753086\n",
      "0.9753086419753086\n",
      "0.9753086419753086\n"
     ]
    },
    {
     "name": "stderr",
     "output_type": "stream",
     "text": [
      "/anaconda3/lib/python3.6/site-packages/sklearn/preprocessing/label.py:151: DeprecationWarning: The truth value of an empty array is ambiguous. Returning False, but in future this will result in an error. Use `array.size > 0` to check that an array is not empty.\n",
      "  if diff:\n",
      "/anaconda3/lib/python3.6/site-packages/sklearn/preprocessing/label.py:151: DeprecationWarning: The truth value of an empty array is ambiguous. Returning False, but in future this will result in an error. Use `array.size > 0` to check that an array is not empty.\n",
      "  if diff:\n"
     ]
    }
   ],
   "source": [
    "def ada_boost_trees(in_data, column, depth, m):\n",
    "    trees = []\n",
    "    importance = []\n",
    "    \n",
    "    N, _ = in_data.shape\n",
    "    # initialize weights uniform\n",
    "    w = np.ones(in_data.shape[0]) * float(1)/in_data.shape[0]\n",
    "    \n",
    "    for k in range(m):\n",
    "        # fit tree using actual weights\n",
    "        d_tree = DecisionTreeClassifier(criterion = \"gini\", max_depth=depth)\n",
    "        d_tree = d_tree.fit(in_data[in_data.columns.difference([target_col])],  in_data[target_col], sample_weight=w)\n",
    "        predictions = d_tree.predict(in_data[in_data.columns.difference([target_col])])            \n",
    "\n",
    "        # compute the weighted error\n",
    "        # i.e. sum up w but leave out each value, for which the prediciton is correct\n",
    "        weighted_err = 0\n",
    "        for i, v in enumerate(in_data[target_col].values):\n",
    "            if v != predictions[i]:\n",
    "                weighted_err += w[i]\n",
    "                \n",
    "        weighted_err /= sum(w)\n",
    "        \n",
    "        # if the weighted error is low enough we just stop\n",
    "        if weighted_err < 1e-200:\n",
    "            break\n",
    "        \n",
    "        \n",
    "        # update weights\n",
    "        # for each observation where the prediction is Correct update the corresponding weights\n",
    "        # w[i] = w_[i] * weighted_err/(1-weighted_err)\n",
    "        # update weights\n",
    "        for i, v in enumerate(in_data[target_col].values):\n",
    "            if v == predictions[i]:\n",
    "                w[i] = w[i] * weighted_err/(1-weighted_err)\n",
    "        \n",
    "        \n",
    "        #model importance\n",
    "        model_imp = np.log(1-weighted_err)/(weighted_err)\n",
    "        \n",
    "        trees.append(d_tree)\n",
    "        importance.append(model_imp)\n",
    "        \n",
    "    return trees, importance\n",
    "\n",
    "# predicts the class of a number of observations, based on trees and importances returned by the above method\n",
    "def predict_boosted_trees(trees, importance, obs):\n",
    "    N, _ = obs.shape\n",
    "    \n",
    "    predictions_dir = dict()\n",
    "    \n",
    "    for (tree, model_imp) in zip(trees, importance):\n",
    "        if model_imp == 0: continue\n",
    "\n",
    "        predictions = tree.predict(obs)\n",
    "        levels = set(predictions)\n",
    "\n",
    "        for level in levels:\n",
    "            if level in predictions_dir.keys():\n",
    "                predictions_dir[level] += (predictions == level)*(model_imp)\n",
    "            else:\n",
    "                predictions_dir[level] = (predictions == level)*(model_imp)\n",
    "    \n",
    "    pred = np.zeros((N,len(predictions_dir.keys())))\n",
    "    \n",
    "    for k in predictions_dir.keys():\n",
    "        pred[:,k]=predictions_dir[k]\n",
    "    \n",
    "    return np.argmin(pred, axis=1)\n",
    "\n",
    "# based on the code in predict_boosted_trees, how does the prediction based on a number of boosted trees work?\n",
    "\n",
    "\n",
    "# train boosted trees\n",
    "trees, importance = ada_boost_trees(dat_train_encoded, target_col, 5, 50)\n",
    "\n",
    "# predict using boosted trees\n",
    "predictions = predict_boosted_trees(trees, importance,dat_test_encoded[dat_test_encoded.columns.difference([target_col])])\n",
    "predictions = d[target_col].inverse_transform(predictions)\n",
    "\n",
    "# compute prediction accuracy of the boosted trees\n",
    "print(sum(dat_test[target_col] == predictions)/float(len(predictions)))\n"
   ]
  },
  {
   "cell_type": "markdown",
   "metadata": {},
   "source": [
    "## Task 6\n",
    "Compare our Adaboosted Trees versus sklearn. Fit an sklearn AdaBoostClassifier using a DecisionTreeClassifier as base classifier."
   ]
  },
  {
   "cell_type": "code",
   "execution_count": 40,
   "metadata": {},
   "outputs": [
    {
     "name": "stderr",
     "output_type": "stream",
     "text": [
      "/anaconda3/lib/python3.6/site-packages/sklearn/preprocessing/label.py:151: DeprecationWarning: The truth value of an empty array is ambiguous. Returning False, but in future this will result in an error. Use `array.size > 0` to check that an array is not empty.\n",
      "  if diff:\n",
      "/anaconda3/lib/python3.6/site-packages/sklearn/preprocessing/label.py:151: DeprecationWarning: The truth value of an empty array is ambiguous. Returning False, but in future this will result in an error. Use `array.size > 0` to check that an array is not empty.\n",
      "  if diff:\n",
      "/anaconda3/lib/python3.6/site-packages/sklearn/preprocessing/label.py:151: DeprecationWarning: The truth value of an empty array is ambiguous. Returning False, but in future this will result in an error. Use `array.size > 0` to check that an array is not empty.\n",
      "  if diff:\n"
     ]
    },
    {
     "name": "stdout",
     "output_type": "stream",
     "text": [
      "0.7808641975308642\n",
      ";\n",
      "0.9012345679012346\n",
      ";\n",
      "0.9228395061728395\n",
      ";\n"
     ]
    },
    {
     "name": "stderr",
     "output_type": "stream",
     "text": [
      "/anaconda3/lib/python3.6/site-packages/sklearn/preprocessing/label.py:151: DeprecationWarning: The truth value of an empty array is ambiguous. Returning False, but in future this will result in an error. Use `array.size > 0` to check that an array is not empty.\n",
      "  if diff:\n",
      "/anaconda3/lib/python3.6/site-packages/sklearn/preprocessing/label.py:151: DeprecationWarning: The truth value of an empty array is ambiguous. Returning False, but in future this will result in an error. Use `array.size > 0` to check that an array is not empty.\n",
      "  if diff:\n",
      "/anaconda3/lib/python3.6/site-packages/sklearn/preprocessing/label.py:151: DeprecationWarning: The truth value of an empty array is ambiguous. Returning False, but in future this will result in an error. Use `array.size > 0` to check that an array is not empty.\n",
      "  if diff:\n"
     ]
    },
    {
     "name": "stdout",
     "output_type": "stream",
     "text": [
      "0.9475308641975309\n",
      ";\n",
      "0.9783950617283951\n",
      ";\n",
      "0.9660493827160493\n",
      ";\n",
      "0.9876543209876543\n",
      ";\n",
      "0.9814814814814815\n",
      ";\n",
      "0.9845679012345679\n",
      ";\n"
     ]
    },
    {
     "name": "stderr",
     "output_type": "stream",
     "text": [
      "/anaconda3/lib/python3.6/site-packages/sklearn/preprocessing/label.py:151: DeprecationWarning: The truth value of an empty array is ambiguous. Returning False, but in future this will result in an error. Use `array.size > 0` to check that an array is not empty.\n",
      "  if diff:\n",
      "/anaconda3/lib/python3.6/site-packages/sklearn/preprocessing/label.py:151: DeprecationWarning: The truth value of an empty array is ambiguous. Returning False, but in future this will result in an error. Use `array.size > 0` to check that an array is not empty.\n",
      "  if diff:\n",
      "/anaconda3/lib/python3.6/site-packages/sklearn/preprocessing/label.py:151: DeprecationWarning: The truth value of an empty array is ambiguous. Returning False, but in future this will result in an error. Use `array.size > 0` to check that an array is not empty.\n",
      "  if diff:\n"
     ]
    }
   ],
   "source": [
    "seed = 42\n",
    "\n",
    "\n",
    "for i in range(1, 10):\n",
    "    ada = AdaBoostClassifier(base_estimator=DecisionTreeClassifier(criterion='gini', max_depth=i, splitter='random'), n_estimators=50, random_state=seed)\n",
    "    ada.fit(dat_train_encoded[dat_train_encoded.columns.difference([target_col])],  dat_train_encoded[target_col])\n",
    "    predictions = ada.predict(dat_test_encoded[dat_test_encoded.columns.difference([target_col])])   \n",
    "\n",
    "    predictions = d[target_col].inverse_transform(predictions)\n",
    "    print(sum(dat_test[target_col] == predictions)/float(len(predictions)))\n",
    "    print(';')"
   ]
  },
  {
   "cell_type": "code",
   "execution_count": null,
   "metadata": {},
   "outputs": [],
   "source": []
  }
 ],
 "metadata": {
  "kernelspec": {
   "display_name": "Python 3",
   "language": "python",
   "name": "python3"
  },
  "language_info": {
   "codemirror_mode": {
    "name": "ipython",
    "version": 3
   },
   "file_extension": ".py",
   "mimetype": "text/x-python",
   "name": "python",
   "nbconvert_exporter": "python",
   "pygments_lexer": "ipython3",
   "version": "3.6.5"
  }
 },
 "nbformat": 4,
 "nbformat_minor": 2
}
